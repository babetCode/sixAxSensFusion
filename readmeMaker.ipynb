{
 "cells": [
  {
   "cell_type": "code",
   "execution_count": 15,
   "metadata": {},
   "outputs": [
    {
     "name": "stdout",
     "output_type": "stream",
     "text": [
      "New .md file created: formatted_test.md\n"
     ]
    }
   ],
   "source": [
    "import re\n",
    "\n",
    "def format_latex(text):\n",
    "    parts = re.split(r'(\\n\\$\\$\\n)', text)\n",
    "    \n",
    "    for i in range(1, len(parts), 4):\n",
    "        parts[i] = '\\n\\n$$'\n",
    "    for i in range(3, len(parts), 4):\n",
    "        parts[i] = '$$\\n\\n'\n",
    "    \n",
    "    return ''.join(parts)\n",
    "\n",
    "# Example text\n",
    "with open('test.md', 'r') as file:\n",
    "    text = file.read()\n",
    "\n",
    "# Apply the function\n",
    "formatted_text = format_latex(text)\n",
    "\n",
    "# Write to a new .md file\n",
    "with open('formatted_test.md', 'w') as file:\n",
    "    file.write(formatted_text)\n",
    "\n",
    "print(\"New .md file created: formatted_test.md\")"
   ]
  }
 ],
 "metadata": {
  "kernelspec": {
   "display_name": "note_env",
   "language": "python",
   "name": "python3"
  },
  "language_info": {
   "codemirror_mode": {
    "name": "ipython",
    "version": 3
   },
   "file_extension": ".py",
   "mimetype": "text/x-python",
   "name": "python",
   "nbconvert_exporter": "python",
   "pygments_lexer": "ipython3",
   "version": "3.12.3"
  }
 },
 "nbformat": 4,
 "nbformat_minor": 2
}
