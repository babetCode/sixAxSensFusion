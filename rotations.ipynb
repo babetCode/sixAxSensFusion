{
 "cells": [
  {
   "cell_type": "code",
   "execution_count": 3,
   "metadata": {},
   "outputs": [
    {
     "name": "stdout",
     "output_type": "stream",
     "text": [
      "[0.0, 0.0, -1.0000000000000002]\n"
     ]
    }
   ],
   "source": [
    "import math\n",
    "import IPython\n",
    "import numpy as np\n",
    "import pandas as pd\n",
    "import ipywidgets as widgets\n",
    "import matplotlib.pyplot as plt\n",
    "import plotly.graph_objects as go\n",
    "from ipywidgets import interact, FloatSlider, IntSlider\n",
    "\n",
    "def quaternion_multiply(q1, q2):\n",
    "    w1, x1, y1, z1 = q1\n",
    "    w2, x2, y2, z2 = q2\n",
    "    return np.array([\n",
    "        w1*w2 - x1*x2 - y1*y2 - z1*z2,\n",
    "        w1*x2 + x1*w2 + y1*z2 - z1*y2,\n",
    "        w1*y2 - x1*z2 + y1*w2 + z1*x2,\n",
    "        w1*z2 + x1*y2 - y1*x2 + z1*w2\n",
    "    ])\n",
    "\n",
    "def rotate_quaternion(point, axis, angle: float) -> list:\n",
    "    normalizedaxis = axis/np.linalg.norm(axis)\n",
    "    q_inv = [math.cos(angle/2)]\n",
    "    q = [math.cos(angle/2)]\n",
    "    for value in normalizedaxis:\n",
    "        q.append(math.sin(angle/2)*value)\n",
    "        q_inv.append(-math.sin(angle/2)*value)\n",
    "    pointquat = [0, point[0], point[1], point[2]]\n",
    "    rotation = quaternion_multiply(quaternion_multiply(q, pointquat), q_inv)\n",
    "    result = [float(i) for i in rotation[1:]]\n",
    "    return(result)\n",
    "\n",
    "print(rotate_quaternion([1, 0, 0], [0, 1, 0], np.pi/2))"
   ]
  },
  {
   "cell_type": "code",
   "execution_count": 4,
   "metadata": {},
   "outputs": [],
   "source": [
    "def plot_rotation_plotly(point, axis, angle, figure, label):\n",
    "    t = np.linspace(0.0, angle, 100)\n",
    "    x = np.zeros(100)\n",
    "    y = np.zeros(100)\n",
    "    z = np.zeros(100)\n",
    "    for i in range(100):\n",
    "        p = rotate_quaternion(point, axis, t[i])\n",
    "        x[i] = p[0]\n",
    "        y[i] = p[1]\n",
    "        z[i] = p[2]\n",
    "    figure.add_trace(go.Scatter3d(\n",
    "        x=x, y=y, z=z,\n",
    "        mode='lines',\n",
    "        name=label))\n",
    "    figure.add_trace(go.Scatter3d(\n",
    "        x=[0, axis[0]], y=[0, axis[1]], z=[0, axis[2]],\n",
    "        mode='lines',\n",
    "        name='Axis',\n",
    "        # line=dict(color='pink', width=5)\n",
    "        ))\n",
    "    figure.add_trace(go.Scatter3d(\n",
    "        x=[x[0]], y=[y[0]], z=[z[0]],\n",
    "        mode='markers',\n",
    "        name='Start',\n",
    "        # line=dict(color='pink', width=5)\n",
    "        ))\n",
    "    figure.add_trace(go.Scatter3d(\n",
    "        x=[x[-1]], y=[y[-1]], z=[z[-1]],\n",
    "        mode='markers',\n",
    "        name='End',\n",
    "        # line=dict(color='pink', width=5)\n",
    "        ))\n",
    "    return rotate_quaternion(point, axis, angle)\n",
    "\n",
    "def make3dplotly(name: str):\n",
    "    fig = go.Figure()\n",
    "    fig.update_layout(width=600, height=600, scene=dict(\n",
    "        aspectmode = 'cube',\n",
    "        xaxis=dict(nticks=4, range=[-1.2, 1.2]),\n",
    "        yaxis=dict(nticks=4, range=[-1.2, 1.2]),\n",
    "        zaxis=dict(nticks=4, range=[-1.2, 1.2]),\n",
    "        bgcolor=\"white\"),\n",
    "        title=name, paper_bgcolor='lightgrey')\n",
    "\n",
    "    fig.add_trace(go.Scatter3d(\n",
    "        x=[-1.2, 1.2], y=[0, 0], z=[0, 0],\n",
    "        mode='lines',\n",
    "        name='x-axis',\n",
    "        line=dict(color='black', width=5)\n",
    "    ))\n",
    "\n",
    "    fig.add_trace(go.Scatter3d(\n",
    "        y=[-1.2, 1.2], x=[0, 0], z=[0, 0],\n",
    "        mode='lines',\n",
    "        name='y-axis',\n",
    "        line=dict(color='black', width=5)\n",
    "    ))\n",
    "\n",
    "    fig.add_trace(go.Scatter3d(\n",
    "        z=[-1.2, 1.2], y=[0, 0], x=[0, 0],\n",
    "        mode='lines',\n",
    "        name='z-axis',\n",
    "        line=dict(color='black', width=5)\n",
    "    ))\n",
    "    return fig"
   ]
  },
  {
   "cell_type": "code",
   "execution_count": 5,
   "metadata": {},
   "outputs": [
    {
     "data": {
      "application/vnd.plotly.v1+json": {
       "config": {
        "plotlyServerURL": "https://plot.ly"
       },
       "data": [
        {
         "line": {
          "color": "black",
          "width": 5
         },
         "mode": "lines",
         "name": "x-axis",
         "type": "scatter3d",
         "x": [
          -1.2,
          1.2
         ],
         "y": [
          0,
          0
         ],
         "z": [
          0,
          0
         ]
        },
        {
         "line": {
          "color": "black",
          "width": 5
         },
         "mode": "lines",
         "name": "y-axis",
         "type": "scatter3d",
         "x": [
          0,
          0
         ],
         "y": [
          -1.2,
          1.2
         ],
         "z": [
          0,
          0
         ]
        },
        {
         "line": {
          "color": "black",
          "width": 5
         },
         "mode": "lines",
         "name": "z-axis",
         "type": "scatter3d",
         "x": [
          0,
          0
         ],
         "y": [
          0,
          0
         ],
         "z": [
          -1.2,
          1.2
         ]
        },
        {
         "mode": "lines",
         "name": "rotation",
         "type": "scatter3d",
         "x": [
          1,
          0.9994518874037374,
          0.9978081548878359,
          0.9950706176025618,
          0.9912422985711149,
          0.9863274253513492,
          0.9803314253673404,
          0.9732609199159598,
          0.9651237168550698,
          0.9559288019814198,
          0.9456863291077594,
          0.9344076088501272,
          0.9221050961377009,
          0.9087923764589969,
          0.8944841508596104,
          0.879196219708061,
          0.862945465247672,
          0.8457498329537512,
          0.8276283117166592,
          0.8086009128726517,
          0.7886886481056449,
          0.7679135062443155,
          0.7462984289801528,
          0.7238672855332761,
          0.7006448462939974,
          0.676656755469235,
          0.6519295027639826,
          0.6264903941291076,
          0.6003675216077805,
          0.5735897323138357,
          0.5461865965763145,
          0.5181883752853773,
          0.48962598647563293,
          0.4605309711837996,
          0.43093545861838634,
          0.40087213067987215,
          0.37037418587054793,
          0.33947530263388853,
          0.3082096021639296,
          0.2766116107257216,
          0.24471622152846956,
          0.2125586561934633,
          0.18017442585934468,
          0.14759929196766675,
          0.11486922677204647,
          0.08202037361451803,
          0.04908900701296129,
          0.01611149260367012,
          -0.016875753016699052,
          -0.04983630250545276,
          -0.08273375800005359,
          -0.11553179131175678,
          -0.14819418404231124,
          -0.18068486757941407,
          -0.2129679629267669,
          -0.2450078203247325,
          -0.27676905861785783,
          -0.30821660432577447,
          -0.33931573037434104,
          -0.37003209444425406,
          -0.40033177689477933,
          -0.4301813182207235,
          -0.4595477560012883,
          -0.48839866129999876,
          -0.5167021744755124,
          -0.5444270403637652,
          -0.5715426427926028,
          -0.5980190383907776,
          -0.6238269896539885,
          -0.6489379972314343,
          -0.6733243313972402,
          -0.6969590626719984,
          -0.7198160915606022,
          -0.7418701773735488,
          -0.7630969660998683,
          -0.7834730173009103,
          -0.8029758299952839,
          -0.8215838675063692,
          -0.8392765812449609,
          -0.856034433400781,
          -0.8718389185178017,
          -0.8866725839295574,
          -0.9005190490318724,
          -0.9133630233717276,
          -0.9251903235322896,
          -0.9359878887954541,
          -0.9457437955646101,
          -0.9544472705316958,
          -0.962088702574009,
          -0.9686596533676339,
          -0.9741528667057577,
          -0.9785622765115984,
          -0.9818830135370864,
          -0.9841114107399043,
          -0.9852450073329493,
          -0.9852825515017465,
          -0.9842240017868082,
          -0.9820705271294172,
          -0.978824505580783,
          -0.9744895216759917
         ],
         "y": [
          0,
          0.02841124554980651,
          0.056839479844372875,
          0.0852533099918907,
          0.11362135900684475,
          0.1419123004591686,
          0.17009489306757242,
          0.1981380151988422,
          0.22601069923501355,
          0.2536821657704684,
          0.2811218576011918,
          0.30829947346865405,
          0.335185001521057,
          0.3617487524549912,
          0.387961392300909,
          0.4137939748162063,
          0.43921797345014374,
          0.46420531284530786,
          0.48872839984082617,
          0.5127601539430993,
          0.5362740372304018,
          0.559244083658329,
          0.5816449277337286,
          0.6034518325254498,
          0.6246407169809827,
          0.6451881825188203,
          0.6650715388671754,
          0.6842688291205239,
          0.7027588539862997,
          0.720521195194971,
          0.7375362380476419,
          0.753785193076284,
          0.7692501167926756,
          0.7839139315031404,
          0.7977604441671984,
          0.8107743642793089,
          0.8229413207539574,
          0.8342478777954385,
          0.8446815497348127,
          0.8542308148176523,
          0.8628851279273495,
          0.8706349322299372,
          0.8774716697275641,
          0.8833877907089694,
          0.8883767620865198,
          0.892433074610606,
          0.8955522489534268,
          0.8977308406554475,
          0.8989664439290661,
          0.8992576943152919,
          0.8986042701904968,
          0.8970068931215789,
          0.894467327069148,
          0.8909883764396092,
          0.886573882988295,
          0.881228721577073,
          0.8749587947911032,
          0.8677710264206993,
          0.8596733538154853,
          0.8506747191192949,
          0.8407850593954894,
          0.8300152956536018,
          0.8183773207894218,
          0.8058839864518414,
          0.7925490888509642,
          0.7783873535231463,
          0.7634144190697992,
          0.7476468198879062,
          0.7311019679113234,
          0.7137981333830322,
          0.6957544246795708,
          0.6769907672099279,
          0.6575278814121998,
          0.6373872598723053,
          0.616591143590035,
          0.5951624974186297,
          0.5731249847050237,
          0.5505029411587518,
          0.5273213479783698,
          0.5036058042650784,
          0.4793824987540015,
          0.45467818089434,
          0.4295201313103407,
          0.4039361316756912,
          0.3779544340346173,
          0.3516037296035558,
          0.3249131170878532,
          0.2979120705484852,
          0.27063040685427053,
          0.24309825275553149,
          0.21534601161555622,
          0.18740432983659733,
          0.15930406301749242,
          0.1310762418802655,
          0.10275203800334654,
          0.07436272939924499,
          0.04593966597468621,
          0.017514234911361753,
          -0.010882173994488459,
          -0.03921820299537718
         ],
         "z": [
          0,
          -0.01699193607025764,
          -0.03388450339540733,
          -0.05065904775539059,
          -0.06729704526121832,
          -0.08378012281063607,
          -0.10009007837727747,
          -0.11620890111090125,
          -0.1321187912265151,
          -0.14780217966042303,
          -0.163241747471491,
          -0.17842044496620516,
          -0.19332151052640426,
          -0.2079284891188944,
          -0.22222525046650643,
          -0.23619600686052988,
          -0.24982533059485343,
          -0.2630981710025598,
          -0.2759998710761616,
          -0.2885161836531247,
          -0.3006332871488055,
          -0.31233780081942897,
          -0.32361679953825234,
          -0.33445782806859736,
          -0.3448489148179893,
          -0.3547785850582156,
          -0.3642358735967034,
          -0.373210336885225,
          -0.38169206455255783,
          -0.38967169034836613,
          -0.3971404024862166,
          -0.40408995337430814,
          -0.4105126687231686,
          -0.41640145602026424,
          -0.42174981236215764,
          -0.4265518316355726,
          -0.43080221103942923,
          -0.4344962569406518,
          -0.4376298900572806,
          -0.4401996499631635,
          -0.44220269890925656,
          -0.44363682495730866,
          -0.4445004444224729,
          -0.4447926036221482,
          -0.44451297992911637,
          -0.4436618821278153,
          -0.4422402500733521,
          -0.44024965365363533,
          -0.43769229105576973,
          -0.4345709863386298,
          -0.4308891863142926,
          -0.42665095674177156,
          -0.42186097783725773,
          -0.41652453910582404,
          -0.41064753350030025,
          -0.4042364509137705,
          -0.3972983710128761,
          -0.38984095541984204,
          -0.381872439251857,
          -0.37340162202715144,
          -0.3644378579478156,
          -0.35499104557008865,
          -0.3450716168735242,
          -0.334690525741105,
          -0.32385923586302723,
          -0.31258970807751124,
          -0.3008943871626192,
          -0.28878618809366585,
          -0.2762784817813951,
          -0.26338508030667596,
          -0.25012022166801845,
          -0.23649855405875686,
          -0.22253511969125953,
          -0.2082453381860282,
          -0.1936449895440341,
          -0.1787501967210867,
          -0.16357740782348582,
          -0.14814337794461405,
          -0.13246515066252576,
          -0.11656003921896887,
          -0.1004456074006207,
          -0.08413965014364821,
          -0.06766017388301712,
          -0.05102537666824192,
          -0.03425362806754134,
          -0.017363448882588006,
          -0.0003734906962508666,
          0.016697484724078532,
          0.03383062614483865,
          0.05100701368344451,
          0.06820767970124209,
          0.0854136297492015,
          0.10260586354321322,
          0.1197653959458311,
          0.13687327793128704,
          0.15391061751062768,
          0.17085860059386912,
          0.18769851176612473,
          0.20441175495477143,
          0.22097987396482552
         ]
        },
        {
         "mode": "lines",
         "name": "Axis",
         "type": "scatter3d",
         "x": [
          0,
          0.05
         ],
         "y": [
          0,
          0.3
         ],
         "z": [
          0,
          0.5
         ]
        },
        {
         "mode": "markers",
         "name": "Start",
         "type": "scatter3d",
         "x": [
          1
         ],
         "y": [
          0
         ],
         "z": [
          0
         ]
        },
        {
         "mode": "markers",
         "name": "End",
         "type": "scatter3d",
         "x": [
          -0.9744895216759917
         ],
         "y": [
          -0.03921820299537718
         ],
         "z": [
          0.22097987396482552
         ]
        }
       ],
       "layout": {
        "height": 600,
        "paper_bgcolor": "lightgrey",
        "scene": {
         "aspectmode": "cube",
         "bgcolor": "white",
         "xaxis": {
          "nticks": 4,
          "range": [
           -1.2,
           1.2
          ]
         },
         "yaxis": {
          "nticks": 4,
          "range": [
           -1.2,
           1.2
          ]
         },
         "zaxis": {
          "nticks": 4,
          "range": [
           -1.2,
           1.2
          ]
         }
        },
        "template": {
         "data": {
          "bar": [
           {
            "error_x": {
             "color": "#2a3f5f"
            },
            "error_y": {
             "color": "#2a3f5f"
            },
            "marker": {
             "line": {
              "color": "#E5ECF6",
              "width": 0.5
             },
             "pattern": {
              "fillmode": "overlay",
              "size": 10,
              "solidity": 0.2
             }
            },
            "type": "bar"
           }
          ],
          "barpolar": [
           {
            "marker": {
             "line": {
              "color": "#E5ECF6",
              "width": 0.5
             },
             "pattern": {
              "fillmode": "overlay",
              "size": 10,
              "solidity": 0.2
             }
            },
            "type": "barpolar"
           }
          ],
          "carpet": [
           {
            "aaxis": {
             "endlinecolor": "#2a3f5f",
             "gridcolor": "white",
             "linecolor": "white",
             "minorgridcolor": "white",
             "startlinecolor": "#2a3f5f"
            },
            "baxis": {
             "endlinecolor": "#2a3f5f",
             "gridcolor": "white",
             "linecolor": "white",
             "minorgridcolor": "white",
             "startlinecolor": "#2a3f5f"
            },
            "type": "carpet"
           }
          ],
          "choropleth": [
           {
            "colorbar": {
             "outlinewidth": 0,
             "ticks": ""
            },
            "type": "choropleth"
           }
          ],
          "contour": [
           {
            "colorbar": {
             "outlinewidth": 0,
             "ticks": ""
            },
            "colorscale": [
             [
              0,
              "#0d0887"
             ],
             [
              0.1111111111111111,
              "#46039f"
             ],
             [
              0.2222222222222222,
              "#7201a8"
             ],
             [
              0.3333333333333333,
              "#9c179e"
             ],
             [
              0.4444444444444444,
              "#bd3786"
             ],
             [
              0.5555555555555556,
              "#d8576b"
             ],
             [
              0.6666666666666666,
              "#ed7953"
             ],
             [
              0.7777777777777778,
              "#fb9f3a"
             ],
             [
              0.8888888888888888,
              "#fdca26"
             ],
             [
              1,
              "#f0f921"
             ]
            ],
            "type": "contour"
           }
          ],
          "contourcarpet": [
           {
            "colorbar": {
             "outlinewidth": 0,
             "ticks": ""
            },
            "type": "contourcarpet"
           }
          ],
          "heatmap": [
           {
            "colorbar": {
             "outlinewidth": 0,
             "ticks": ""
            },
            "colorscale": [
             [
              0,
              "#0d0887"
             ],
             [
              0.1111111111111111,
              "#46039f"
             ],
             [
              0.2222222222222222,
              "#7201a8"
             ],
             [
              0.3333333333333333,
              "#9c179e"
             ],
             [
              0.4444444444444444,
              "#bd3786"
             ],
             [
              0.5555555555555556,
              "#d8576b"
             ],
             [
              0.6666666666666666,
              "#ed7953"
             ],
             [
              0.7777777777777778,
              "#fb9f3a"
             ],
             [
              0.8888888888888888,
              "#fdca26"
             ],
             [
              1,
              "#f0f921"
             ]
            ],
            "type": "heatmap"
           }
          ],
          "heatmapgl": [
           {
            "colorbar": {
             "outlinewidth": 0,
             "ticks": ""
            },
            "colorscale": [
             [
              0,
              "#0d0887"
             ],
             [
              0.1111111111111111,
              "#46039f"
             ],
             [
              0.2222222222222222,
              "#7201a8"
             ],
             [
              0.3333333333333333,
              "#9c179e"
             ],
             [
              0.4444444444444444,
              "#bd3786"
             ],
             [
              0.5555555555555556,
              "#d8576b"
             ],
             [
              0.6666666666666666,
              "#ed7953"
             ],
             [
              0.7777777777777778,
              "#fb9f3a"
             ],
             [
              0.8888888888888888,
              "#fdca26"
             ],
             [
              1,
              "#f0f921"
             ]
            ],
            "type": "heatmapgl"
           }
          ],
          "histogram": [
           {
            "marker": {
             "pattern": {
              "fillmode": "overlay",
              "size": 10,
              "solidity": 0.2
             }
            },
            "type": "histogram"
           }
          ],
          "histogram2d": [
           {
            "colorbar": {
             "outlinewidth": 0,
             "ticks": ""
            },
            "colorscale": [
             [
              0,
              "#0d0887"
             ],
             [
              0.1111111111111111,
              "#46039f"
             ],
             [
              0.2222222222222222,
              "#7201a8"
             ],
             [
              0.3333333333333333,
              "#9c179e"
             ],
             [
              0.4444444444444444,
              "#bd3786"
             ],
             [
              0.5555555555555556,
              "#d8576b"
             ],
             [
              0.6666666666666666,
              "#ed7953"
             ],
             [
              0.7777777777777778,
              "#fb9f3a"
             ],
             [
              0.8888888888888888,
              "#fdca26"
             ],
             [
              1,
              "#f0f921"
             ]
            ],
            "type": "histogram2d"
           }
          ],
          "histogram2dcontour": [
           {
            "colorbar": {
             "outlinewidth": 0,
             "ticks": ""
            },
            "colorscale": [
             [
              0,
              "#0d0887"
             ],
             [
              0.1111111111111111,
              "#46039f"
             ],
             [
              0.2222222222222222,
              "#7201a8"
             ],
             [
              0.3333333333333333,
              "#9c179e"
             ],
             [
              0.4444444444444444,
              "#bd3786"
             ],
             [
              0.5555555555555556,
              "#d8576b"
             ],
             [
              0.6666666666666666,
              "#ed7953"
             ],
             [
              0.7777777777777778,
              "#fb9f3a"
             ],
             [
              0.8888888888888888,
              "#fdca26"
             ],
             [
              1,
              "#f0f921"
             ]
            ],
            "type": "histogram2dcontour"
           }
          ],
          "mesh3d": [
           {
            "colorbar": {
             "outlinewidth": 0,
             "ticks": ""
            },
            "type": "mesh3d"
           }
          ],
          "parcoords": [
           {
            "line": {
             "colorbar": {
              "outlinewidth": 0,
              "ticks": ""
             }
            },
            "type": "parcoords"
           }
          ],
          "pie": [
           {
            "automargin": true,
            "type": "pie"
           }
          ],
          "scatter": [
           {
            "fillpattern": {
             "fillmode": "overlay",
             "size": 10,
             "solidity": 0.2
            },
            "type": "scatter"
           }
          ],
          "scatter3d": [
           {
            "line": {
             "colorbar": {
              "outlinewidth": 0,
              "ticks": ""
             }
            },
            "marker": {
             "colorbar": {
              "outlinewidth": 0,
              "ticks": ""
             }
            },
            "type": "scatter3d"
           }
          ],
          "scattercarpet": [
           {
            "marker": {
             "colorbar": {
              "outlinewidth": 0,
              "ticks": ""
             }
            },
            "type": "scattercarpet"
           }
          ],
          "scattergeo": [
           {
            "marker": {
             "colorbar": {
              "outlinewidth": 0,
              "ticks": ""
             }
            },
            "type": "scattergeo"
           }
          ],
          "scattergl": [
           {
            "marker": {
             "colorbar": {
              "outlinewidth": 0,
              "ticks": ""
             }
            },
            "type": "scattergl"
           }
          ],
          "scattermapbox": [
           {
            "marker": {
             "colorbar": {
              "outlinewidth": 0,
              "ticks": ""
             }
            },
            "type": "scattermapbox"
           }
          ],
          "scatterpolar": [
           {
            "marker": {
             "colorbar": {
              "outlinewidth": 0,
              "ticks": ""
             }
            },
            "type": "scatterpolar"
           }
          ],
          "scatterpolargl": [
           {
            "marker": {
             "colorbar": {
              "outlinewidth": 0,
              "ticks": ""
             }
            },
            "type": "scatterpolargl"
           }
          ],
          "scatterternary": [
           {
            "marker": {
             "colorbar": {
              "outlinewidth": 0,
              "ticks": ""
             }
            },
            "type": "scatterternary"
           }
          ],
          "surface": [
           {
            "colorbar": {
             "outlinewidth": 0,
             "ticks": ""
            },
            "colorscale": [
             [
              0,
              "#0d0887"
             ],
             [
              0.1111111111111111,
              "#46039f"
             ],
             [
              0.2222222222222222,
              "#7201a8"
             ],
             [
              0.3333333333333333,
              "#9c179e"
             ],
             [
              0.4444444444444444,
              "#bd3786"
             ],
             [
              0.5555555555555556,
              "#d8576b"
             ],
             [
              0.6666666666666666,
              "#ed7953"
             ],
             [
              0.7777777777777778,
              "#fb9f3a"
             ],
             [
              0.8888888888888888,
              "#fdca26"
             ],
             [
              1,
              "#f0f921"
             ]
            ],
            "type": "surface"
           }
          ],
          "table": [
           {
            "cells": {
             "fill": {
              "color": "#EBF0F8"
             },
             "line": {
              "color": "white"
             }
            },
            "header": {
             "fill": {
              "color": "#C8D4E3"
             },
             "line": {
              "color": "white"
             }
            },
            "type": "table"
           }
          ]
         },
         "layout": {
          "annotationdefaults": {
           "arrowcolor": "#2a3f5f",
           "arrowhead": 0,
           "arrowwidth": 1
          },
          "autotypenumbers": "strict",
          "coloraxis": {
           "colorbar": {
            "outlinewidth": 0,
            "ticks": ""
           }
          },
          "colorscale": {
           "diverging": [
            [
             0,
             "#8e0152"
            ],
            [
             0.1,
             "#c51b7d"
            ],
            [
             0.2,
             "#de77ae"
            ],
            [
             0.3,
             "#f1b6da"
            ],
            [
             0.4,
             "#fde0ef"
            ],
            [
             0.5,
             "#f7f7f7"
            ],
            [
             0.6,
             "#e6f5d0"
            ],
            [
             0.7,
             "#b8e186"
            ],
            [
             0.8,
             "#7fbc41"
            ],
            [
             0.9,
             "#4d9221"
            ],
            [
             1,
             "#276419"
            ]
           ],
           "sequential": [
            [
             0,
             "#0d0887"
            ],
            [
             0.1111111111111111,
             "#46039f"
            ],
            [
             0.2222222222222222,
             "#7201a8"
            ],
            [
             0.3333333333333333,
             "#9c179e"
            ],
            [
             0.4444444444444444,
             "#bd3786"
            ],
            [
             0.5555555555555556,
             "#d8576b"
            ],
            [
             0.6666666666666666,
             "#ed7953"
            ],
            [
             0.7777777777777778,
             "#fb9f3a"
            ],
            [
             0.8888888888888888,
             "#fdca26"
            ],
            [
             1,
             "#f0f921"
            ]
           ],
           "sequentialminus": [
            [
             0,
             "#0d0887"
            ],
            [
             0.1111111111111111,
             "#46039f"
            ],
            [
             0.2222222222222222,
             "#7201a8"
            ],
            [
             0.3333333333333333,
             "#9c179e"
            ],
            [
             0.4444444444444444,
             "#bd3786"
            ],
            [
             0.5555555555555556,
             "#d8576b"
            ],
            [
             0.6666666666666666,
             "#ed7953"
            ],
            [
             0.7777777777777778,
             "#fb9f3a"
            ],
            [
             0.8888888888888888,
             "#fdca26"
            ],
            [
             1,
             "#f0f921"
            ]
           ]
          },
          "colorway": [
           "#636efa",
           "#EF553B",
           "#00cc96",
           "#ab63fa",
           "#FFA15A",
           "#19d3f3",
           "#FF6692",
           "#B6E880",
           "#FF97FF",
           "#FECB52"
          ],
          "font": {
           "color": "#2a3f5f"
          },
          "geo": {
           "bgcolor": "white",
           "lakecolor": "white",
           "landcolor": "#E5ECF6",
           "showlakes": true,
           "showland": true,
           "subunitcolor": "white"
          },
          "hoverlabel": {
           "align": "left"
          },
          "hovermode": "closest",
          "mapbox": {
           "style": "light"
          },
          "paper_bgcolor": "white",
          "plot_bgcolor": "#E5ECF6",
          "polar": {
           "angularaxis": {
            "gridcolor": "white",
            "linecolor": "white",
            "ticks": ""
           },
           "bgcolor": "#E5ECF6",
           "radialaxis": {
            "gridcolor": "white",
            "linecolor": "white",
            "ticks": ""
           }
          },
          "scene": {
           "xaxis": {
            "backgroundcolor": "#E5ECF6",
            "gridcolor": "white",
            "gridwidth": 2,
            "linecolor": "white",
            "showbackground": true,
            "ticks": "",
            "zerolinecolor": "white"
           },
           "yaxis": {
            "backgroundcolor": "#E5ECF6",
            "gridcolor": "white",
            "gridwidth": 2,
            "linecolor": "white",
            "showbackground": true,
            "ticks": "",
            "zerolinecolor": "white"
           },
           "zaxis": {
            "backgroundcolor": "#E5ECF6",
            "gridcolor": "white",
            "gridwidth": 2,
            "linecolor": "white",
            "showbackground": true,
            "ticks": "",
            "zerolinecolor": "white"
           }
          },
          "shapedefaults": {
           "line": {
            "color": "#2a3f5f"
           }
          },
          "ternary": {
           "aaxis": {
            "gridcolor": "white",
            "linecolor": "white",
            "ticks": ""
           },
           "baxis": {
            "gridcolor": "white",
            "linecolor": "white",
            "ticks": ""
           },
           "bgcolor": "#E5ECF6",
           "caxis": {
            "gridcolor": "white",
            "linecolor": "white",
            "ticks": ""
           }
          },
          "title": {
           "x": 0.05
          },
          "xaxis": {
           "automargin": true,
           "gridcolor": "white",
           "linecolor": "white",
           "ticks": "",
           "title": {
            "standoff": 15
           },
           "zerolinecolor": "white",
           "zerolinewidth": 2
          },
          "yaxis": {
           "automargin": true,
           "gridcolor": "white",
           "linecolor": "white",
           "ticks": "",
           "title": {
            "standoff": 15
           },
           "zerolinecolor": "white",
           "zerolinewidth": 2
          }
         }
        },
        "title": {
         "text": "Rotation of (1.0, 0.0, 0.0) by 3.29 radians around (0.05, 0.3, 0.5)"
        },
        "width": 600
       }
      }
     },
     "metadata": {},
     "output_type": "display_data"
    }
   ],
   "source": [
    "p = (1.,0.,0.)\n",
    "ax = (.05, .3, .5)\n",
    "ang = 3.29\n",
    "\n",
    "myfig = make3dplotly(\n",
    "f'Rotation of ({p[0]}, {p[1]}, {p[2]}) by {ang} radians around \\\n",
    "({ax[0]}, {ax[1]}, {ax[2]})'\n",
    ")\n",
    "final_point = plot_rotation_plotly(p, ax, ang, myfig, 'rotation')\n",
    "display(myfig)"
   ]
  },
  {
   "cell_type": "code",
   "execution_count": 6,
   "metadata": {},
   "outputs": [],
   "source": [
    "def plot_rotation_mpl(point, axis, angle, figure, name):\n",
    "    t = np.linspace(0.0, angle, 100)\n",
    "    x = np.zeros(100)\n",
    "    y = np.zeros(100)\n",
    "    z = np.zeros(100)\n",
    "    for i in range(100):\n",
    "        p = rotate_quaternion(point, axis, t[i])\n",
    "        x[i] = p[0]\n",
    "        y[i] = p[1]\n",
    "        z[i] = p[2]\n",
    "    figure.plot(x, y, z, label=name)\n",
    "    ax_x = np.array([0, axis[0]])\n",
    "    ax_y = np.array([0, axis[1]])\n",
    "    ax_z = np.array([0, axis[2]])\n",
    "    figure.plot(ax_x, ax_y, ax_z, label='Axis')\n",
    "    return(rotate_quaternion(point, axis, angle))\n",
    "\n",
    "def make3dfigure():\n",
    "    figure = plt.figure().add_subplot(projection='3d')\n",
    "    figure.set_xlabel('x')\n",
    "    figure.set_ylabel('y')\n",
    "    figure.set_zlabel('z')\n",
    "    return figure\n",
    "\n",
    "def plot3axes(figure):\n",
    "    figure.plot((-1.3,1.3), (0,0), (0,0), label='x')\n",
    "    figure.plot((0,0), (-1.3,1.3), (0,0), label='y')\n",
    "    figure.plot((0,0), (0,0), (-1.3,1.3), label='z')\n",
    "\n",
    "def plot_widget_rotation(px, py, pz, axx, axy, axz, angle, elevation, azimuth):\n",
    "    my_widget_fig = make3dfigure()\n",
    "    my_widget_fig.view_init(elevation,azimuth)\n",
    "    plot3axes(my_widget_fig)\n",
    "    plot_rotation_mpl([px, py, pz], [axx, axy, axz], angle, my_widget_fig,\n",
    "                      'path')\n",
    "    plt.legend()\n",
    "    plt.show()\n",
    "\n",
    "def get_rotation_widgets():\n",
    "    angle_slider = FloatSlider(\n",
    "        value=ang, min=0., max=2*math.pi, step=0.1, description=\"Angle\")\n",
    "    axx_slider = FloatSlider(\n",
    "        value=ax[0], min=0., max=1.0, step=0.1, description=\"Axis x\")\n",
    "    axy_slider = FloatSlider(\n",
    "        value=ax[1], min=0., max=1.0, step=0.1, description=\"Axis y\")\n",
    "    axz_slider = FloatSlider(\n",
    "        value=ax[2], min=0., max=1.0, step=0.1, description=\"Axis z\")\n",
    "    px_slider = FloatSlider(\n",
    "        value=p[0], min=-1., max=1.0, step=0.1, description=\"Point x\")\n",
    "    py_slider = FloatSlider(\n",
    "        value=p[1], min=-1., max=1.0, step=0.1, description=\"Point y\")\n",
    "    pz_slider = FloatSlider(\n",
    "        value=p[2], min=-1., max=1.0, step=0.1, description=\"Point z\")\n",
    "    elevation_slider= IntSlider(\n",
    "        value=35, min=-90, max=90,step=5, continuous_update=False)\n",
    "    azimuth_slider= IntSlider(\n",
    "        value=45, min=0, max=360,step=5, continuous_update=False)\n",
    "    return [px_slider, py_slider, pz_slider, axx_slider, axy_slider,\n",
    "            axz_slider, angle_slider, elevation_slider, azimuth_slider]"
   ]
  },
  {
   "cell_type": "code",
   "execution_count": 7,
   "metadata": {},
   "outputs": [
    {
     "name": "stdout",
     "output_type": "stream",
     "text": [
      "[1. 0. 0.]\n"
     ]
    }
   ],
   "source": [
    "def normalize_quaternion(q):\n",
    "    norm = np.linalg.norm(q)\n",
    "    return q / norm\n",
    "\n",
    "def quaternion_to_rotation_matrix(q):\n",
    "    q = normalize_quaternion(q)\n",
    "    w, x, y, z = q\n",
    "    return np.array([\n",
    "        [1 - 2*y**2 - 2*z**2, 2*x*y - 2*z*w, 2*x*z + 2*y*w],\n",
    "        [2*x*y + 2*z*w, 1 - 2*x**2 - 2*z**2, 2*y*z - 2*x*w],\n",
    "        [2*x*z - 2*y*w, 2*y*z + 2*x*w, 1 - 2*x**2 - 2*y**2]\n",
    "    ])\n",
    "\n",
    "def rotate_vector(q, v):\n",
    "    R = quaternion_to_rotation_matrix(q)\n",
    "    return np.dot(R, v)\n",
    "\n",
    "# Example usage:\n",
    "q = np.array([1, 0, 0, 0])  # Identity quaternion\n",
    "v = np.array([1, 0, 0])     # Vector along x-axis\n",
    "rotated_v = rotate_vector(q, v)\n",
    "print(rotated_v)"
   ]
  }
 ],
 "metadata": {
  "kernelspec": {
   "display_name": "note_env",
   "language": "python",
   "name": "python3"
  },
  "language_info": {
   "codemirror_mode": {
    "name": "ipython",
    "version": 3
   },
   "file_extension": ".py",
   "mimetype": "text/x-python",
   "name": "python",
   "nbconvert_exporter": "python",
   "pygments_lexer": "ipython3",
   "version": "3.12.7"
  }
 },
 "nbformat": 4,
 "nbformat_minor": 2
}
