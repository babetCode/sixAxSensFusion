{
 "cells": [
  {
   "cell_type": "code",
   "execution_count": 8,
   "metadata": {},
   "outputs": [
    {
     "data": {
      "application/vnd.plotly.v1+json": {
       "config": {
        "plotlyServerURL": "https://plot.ly"
       },
       "data": [
        {
         "line": {
          "color": "black",
          "width": 5
         },
         "mode": "lines",
         "name": "x-axis",
         "type": "scatter3d",
         "x": [
          -2,
          2
         ],
         "y": [
          0,
          0
         ],
         "z": [
          0,
          0
         ]
        },
        {
         "line": {
          "color": "black",
          "width": 5
         },
         "mode": "lines",
         "name": "y-axis",
         "type": "scatter3d",
         "x": [
          0,
          0
         ],
         "y": [
          -2,
          2
         ],
         "z": [
          0,
          0
         ]
        },
        {
         "line": {
          "color": "black",
          "width": 5
         },
         "mode": "lines",
         "name": "z-axis",
         "type": "scatter3d",
         "x": [
          0,
          0
         ],
         "y": [
          0,
          0
         ],
         "z": [
          -2,
          2
         ]
        },
        {
         "mode": "lines",
         "name": "rotation",
         "type": "scatter3d",
         "x": [
          0,
          0,
          0,
          0,
          0,
          0,
          0,
          0,
          0,
          0,
          0,
          0,
          0,
          0,
          0,
          0,
          0,
          0,
          0,
          0,
          0,
          0,
          0,
          0,
          0,
          0,
          0,
          0,
          0,
          0,
          0,
          0,
          0,
          0,
          0,
          0,
          0,
          0,
          0,
          0,
          0,
          0,
          0,
          0,
          0,
          0,
          0,
          0,
          0,
          0,
          0,
          0,
          0,
          0,
          0,
          0,
          0,
          0,
          0,
          0,
          0,
          0,
          0,
          0,
          0,
          0,
          0,
          0,
          0,
          0,
          0,
          0,
          0,
          0,
          0,
          0,
          0,
          0,
          0,
          0,
          0,
          0,
          0,
          0,
          0,
          0,
          0,
          0,
          0,
          0,
          0,
          0,
          0,
          0,
          0,
          0,
          0,
          0,
          0,
          0
         ],
         "y": [
          1,
          0.9998740792700193,
          0.9994963487921376,
          0.9988669036945502,
          0.997985902497629,
          0.996853567074002,
          0.9954701825926752,
          0.9938360974472162,
          0.9919517231680139,
          0.9898175343186375,
          0.9874340683763231,
          0.9848019255966132,
          0.9819217688621881,
          0.9787943235159249,
          0.9754203771782254,
          0.9718007795486615,
          0.9679364421919839,
          0.9638283383085554,
          0.9594775024892548,
          0.9548850304549271,
          0.9500520787804342,
          0.9449798646033823,
          0.9396696653175943,
          0.9341228182514113,
          0.9283407203308967,
          0.922324827728032,
          0.916076655493994,
          0.9095977771775996,
          0.902889824429023,
          0.8959544865888781,
          0.8887935102627716,
          0.8814086988814364,
          0.8738019122465521,
          0.8659750660623705,
          0.8579301314532618,
          0.8496691344673029,
          0.8411941555660354,
          0.8325073291005194,
          0.8236108427738141,
          0.8145069370900245,
          0.8051979047900495,
          0.7956860902741743,
          0.7859738890116533,
          0.7760637469374322,
          0.7659581598361594,
          0.755659672713644,
          0.7451708791559184,
          0.7344944206760653,
          0.7236329860489757,
          0.7125893106342033,
          0.701366175687088,
          0.6899664076583201,
          0.6783928774821231,
          0.6666484998532336,
          0.6547362324928598,
          0.6426590754038055,
          0.6304200701149443,
          0.618022298915236,
          0.6054688840774803,
          0.5927629870719974,
          0.5799078077704392,
          0.566906583639929,
          0.5537625889277331,
          0.5404791338366699,
          0.5270595636914623,
          0.5135072580962481,
          0.49982563008345404,
          0.48601812525425386,
          0.47208822091082203,
          0.45803942518060525,
          0.443875276132831,
          0.42959934088747487,
          0.415215214716911,
          0.40072652014047466,
          0.386136906012161,
          0.37145004660169223,
          0.35666964066918444,
          0.3417994105336467,
          0.326843101135546,
          0.3118044790936773,
          0.29668733175657114,
          0.28149546624868327,
          0.2662327085116028,
          0.2509029023405212,
          0.23550990841620578,
          0.2200576033327193,
          0.20454987862113394,
          0.18899063976948183,
          0.17338380523919084,
          0.15773330547825493,
          0.142043081931383,
          0.12631708604737973,
          0.1105592782840083,
          0.09477362711058179,
          0.07896410800853754,
          0.06313470247024816,
          0.04728939699631424,
          0.03143218209160015,
          0.015567051260258369,
          -0.000302000000000191
         ],
         "z": [
          0,
          0.015869013955856805,
          0.031734031436070814,
          0.04759105697147751,
          0.0634360971056154,
          0.07926516140044397,
          0.09507426344130135,
          0.11085942184084892,
          0.12661666124174964,
          0.14234201331782775,
          0.15803151777345809,
          0.17368122334093242,
          0.1892871887755527,
          0.20484548384819978,
          0.22035219033512796,
          0.2358034030047365,
          0.2511952306010684,
          0.26652379682379046,
          0.2817852413044059,
          0.29697572057845567,
          0.3120914090534619,
          0.32712849997237065,
          0.34208320637225137,
          0.35695176203801104,
          0.3717304224508832,
          0.38641546573145336,
          0.401003193576982,
          0.41548993219279096,
          0.42987203321747725,
          0.4441458746417215,
          0.4583078617204601,
          0.47235442787819126,
          0.4862820356071863,
          0.5000871773583812,
          0.5137663764247218,
          0.5273161878167448,
          0.5407331991301667,
          0.55401403140527,
          0.5671553399778652,
          0.5801538153216153,
          0.5930061838815127,
          0.6057092088982952,
          0.6182596912235967,
          0.6306544701256251,
          0.642890424085166,
          0.65496447158171,
          0.666873571869508,
          0.6786147257433567,
          0.6901849762939228,
          0.7015814096524157,
          0.7128011557244198,
          0.7238413889127043,
          0.7346993288288245,
          0.7453722409933397,
          0.7558574375244683,
          0.7661522778150083,
          0.7762541691973505,
          0.7861605675964208,
          0.7958689781703836,
          0.805376955938946,
          0.8146821063991054,
          0.8237820861281848,
          0.8326746033740038,
          0.8413574186320361,
          0.8498283452094108,
          0.8580852497756113,
          0.866126052899737,
          0.8739487295741899,
          0.8815513097246552,
          0.8889318787062486,
          0.8960885777857026,
          0.9030196046094722,
          0.909723213657643,
          0.9161977166835256,
          0.9224414831388251,
          0.9284529405842821,
          0.9342305750856771,
          0.9397729315951018,
          0.9450786143174013,
          0.9501462870616928,
          0.9549746735778737,
          0.9595625578780345,
          0.9639087845426951,
          0.9680122590117869,
          0.9718719478603086,
          0.9754868790585856,
          0.9788561422170672,
          0.9819788888156008,
          0.9848543324171236,
          0.9874817488657215,
          0.9898604764689996,
          0.9919899161647255,
          0.9938695316716974,
          0.9954988496248021,
          0.9968774596942274,
          0.9980050146888008,
          0.9988812306434258,
          0.9995058868905977,
          0.9998788261159752,
          0.9999999543979989
         ]
        },
        {
         "mode": "lines",
         "name": "Axis",
         "type": "scatter3d",
         "x": [
          0,
          0.707
         ],
         "y": [
          0,
          0
         ],
         "z": [
          0,
          0
         ]
        },
        {
         "mode": "markers",
         "name": "Start",
         "type": "scatter3d",
         "x": [
          0
         ],
         "y": [
          1
         ],
         "z": [
          0
         ]
        },
        {
         "mode": "markers",
         "name": "End",
         "type": "scatter3d",
         "x": [
          0
         ],
         "y": [
          -0.000302000000000191
         ],
         "z": [
          0.9999999543979989
         ]
        }
       ],
       "layout": {
        "height": 600,
        "paper_bgcolor": "lightgrey",
        "scene": {
         "aspectmode": "cube",
         "bgcolor": "white",
         "xaxis": {
          "nticks": 4,
          "range": [
           -2,
           2
          ]
         },
         "yaxis": {
          "nticks": 4,
          "range": [
           -2,
           2
          ]
         },
         "zaxis": {
          "nticks": 4,
          "range": [
           -2,
           2
          ]
         }
        },
        "template": {
         "data": {
          "bar": [
           {
            "error_x": {
             "color": "#2a3f5f"
            },
            "error_y": {
             "color": "#2a3f5f"
            },
            "marker": {
             "line": {
              "color": "#E5ECF6",
              "width": 0.5
             },
             "pattern": {
              "fillmode": "overlay",
              "size": 10,
              "solidity": 0.2
             }
            },
            "type": "bar"
           }
          ],
          "barpolar": [
           {
            "marker": {
             "line": {
              "color": "#E5ECF6",
              "width": 0.5
             },
             "pattern": {
              "fillmode": "overlay",
              "size": 10,
              "solidity": 0.2
             }
            },
            "type": "barpolar"
           }
          ],
          "carpet": [
           {
            "aaxis": {
             "endlinecolor": "#2a3f5f",
             "gridcolor": "white",
             "linecolor": "white",
             "minorgridcolor": "white",
             "startlinecolor": "#2a3f5f"
            },
            "baxis": {
             "endlinecolor": "#2a3f5f",
             "gridcolor": "white",
             "linecolor": "white",
             "minorgridcolor": "white",
             "startlinecolor": "#2a3f5f"
            },
            "type": "carpet"
           }
          ],
          "choropleth": [
           {
            "colorbar": {
             "outlinewidth": 0,
             "ticks": ""
            },
            "type": "choropleth"
           }
          ],
          "contour": [
           {
            "colorbar": {
             "outlinewidth": 0,
             "ticks": ""
            },
            "colorscale": [
             [
              0,
              "#0d0887"
             ],
             [
              0.1111111111111111,
              "#46039f"
             ],
             [
              0.2222222222222222,
              "#7201a8"
             ],
             [
              0.3333333333333333,
              "#9c179e"
             ],
             [
              0.4444444444444444,
              "#bd3786"
             ],
             [
              0.5555555555555556,
              "#d8576b"
             ],
             [
              0.6666666666666666,
              "#ed7953"
             ],
             [
              0.7777777777777778,
              "#fb9f3a"
             ],
             [
              0.8888888888888888,
              "#fdca26"
             ],
             [
              1,
              "#f0f921"
             ]
            ],
            "type": "contour"
           }
          ],
          "contourcarpet": [
           {
            "colorbar": {
             "outlinewidth": 0,
             "ticks": ""
            },
            "type": "contourcarpet"
           }
          ],
          "heatmap": [
           {
            "colorbar": {
             "outlinewidth": 0,
             "ticks": ""
            },
            "colorscale": [
             [
              0,
              "#0d0887"
             ],
             [
              0.1111111111111111,
              "#46039f"
             ],
             [
              0.2222222222222222,
              "#7201a8"
             ],
             [
              0.3333333333333333,
              "#9c179e"
             ],
             [
              0.4444444444444444,
              "#bd3786"
             ],
             [
              0.5555555555555556,
              "#d8576b"
             ],
             [
              0.6666666666666666,
              "#ed7953"
             ],
             [
              0.7777777777777778,
              "#fb9f3a"
             ],
             [
              0.8888888888888888,
              "#fdca26"
             ],
             [
              1,
              "#f0f921"
             ]
            ],
            "type": "heatmap"
           }
          ],
          "heatmapgl": [
           {
            "colorbar": {
             "outlinewidth": 0,
             "ticks": ""
            },
            "colorscale": [
             [
              0,
              "#0d0887"
             ],
             [
              0.1111111111111111,
              "#46039f"
             ],
             [
              0.2222222222222222,
              "#7201a8"
             ],
             [
              0.3333333333333333,
              "#9c179e"
             ],
             [
              0.4444444444444444,
              "#bd3786"
             ],
             [
              0.5555555555555556,
              "#d8576b"
             ],
             [
              0.6666666666666666,
              "#ed7953"
             ],
             [
              0.7777777777777778,
              "#fb9f3a"
             ],
             [
              0.8888888888888888,
              "#fdca26"
             ],
             [
              1,
              "#f0f921"
             ]
            ],
            "type": "heatmapgl"
           }
          ],
          "histogram": [
           {
            "marker": {
             "pattern": {
              "fillmode": "overlay",
              "size": 10,
              "solidity": 0.2
             }
            },
            "type": "histogram"
           }
          ],
          "histogram2d": [
           {
            "colorbar": {
             "outlinewidth": 0,
             "ticks": ""
            },
            "colorscale": [
             [
              0,
              "#0d0887"
             ],
             [
              0.1111111111111111,
              "#46039f"
             ],
             [
              0.2222222222222222,
              "#7201a8"
             ],
             [
              0.3333333333333333,
              "#9c179e"
             ],
             [
              0.4444444444444444,
              "#bd3786"
             ],
             [
              0.5555555555555556,
              "#d8576b"
             ],
             [
              0.6666666666666666,
              "#ed7953"
             ],
             [
              0.7777777777777778,
              "#fb9f3a"
             ],
             [
              0.8888888888888888,
              "#fdca26"
             ],
             [
              1,
              "#f0f921"
             ]
            ],
            "type": "histogram2d"
           }
          ],
          "histogram2dcontour": [
           {
            "colorbar": {
             "outlinewidth": 0,
             "ticks": ""
            },
            "colorscale": [
             [
              0,
              "#0d0887"
             ],
             [
              0.1111111111111111,
              "#46039f"
             ],
             [
              0.2222222222222222,
              "#7201a8"
             ],
             [
              0.3333333333333333,
              "#9c179e"
             ],
             [
              0.4444444444444444,
              "#bd3786"
             ],
             [
              0.5555555555555556,
              "#d8576b"
             ],
             [
              0.6666666666666666,
              "#ed7953"
             ],
             [
              0.7777777777777778,
              "#fb9f3a"
             ],
             [
              0.8888888888888888,
              "#fdca26"
             ],
             [
              1,
              "#f0f921"
             ]
            ],
            "type": "histogram2dcontour"
           }
          ],
          "mesh3d": [
           {
            "colorbar": {
             "outlinewidth": 0,
             "ticks": ""
            },
            "type": "mesh3d"
           }
          ],
          "parcoords": [
           {
            "line": {
             "colorbar": {
              "outlinewidth": 0,
              "ticks": ""
             }
            },
            "type": "parcoords"
           }
          ],
          "pie": [
           {
            "automargin": true,
            "type": "pie"
           }
          ],
          "scatter": [
           {
            "fillpattern": {
             "fillmode": "overlay",
             "size": 10,
             "solidity": 0.2
            },
            "type": "scatter"
           }
          ],
          "scatter3d": [
           {
            "line": {
             "colorbar": {
              "outlinewidth": 0,
              "ticks": ""
             }
            },
            "marker": {
             "colorbar": {
              "outlinewidth": 0,
              "ticks": ""
             }
            },
            "type": "scatter3d"
           }
          ],
          "scattercarpet": [
           {
            "marker": {
             "colorbar": {
              "outlinewidth": 0,
              "ticks": ""
             }
            },
            "type": "scattercarpet"
           }
          ],
          "scattergeo": [
           {
            "marker": {
             "colorbar": {
              "outlinewidth": 0,
              "ticks": ""
             }
            },
            "type": "scattergeo"
           }
          ],
          "scattergl": [
           {
            "marker": {
             "colorbar": {
              "outlinewidth": 0,
              "ticks": ""
             }
            },
            "type": "scattergl"
           }
          ],
          "scattermapbox": [
           {
            "marker": {
             "colorbar": {
              "outlinewidth": 0,
              "ticks": ""
             }
            },
            "type": "scattermapbox"
           }
          ],
          "scatterpolar": [
           {
            "marker": {
             "colorbar": {
              "outlinewidth": 0,
              "ticks": ""
             }
            },
            "type": "scatterpolar"
           }
          ],
          "scatterpolargl": [
           {
            "marker": {
             "colorbar": {
              "outlinewidth": 0,
              "ticks": ""
             }
            },
            "type": "scatterpolargl"
           }
          ],
          "scatterternary": [
           {
            "marker": {
             "colorbar": {
              "outlinewidth": 0,
              "ticks": ""
             }
            },
            "type": "scatterternary"
           }
          ],
          "surface": [
           {
            "colorbar": {
             "outlinewidth": 0,
             "ticks": ""
            },
            "colorscale": [
             [
              0,
              "#0d0887"
             ],
             [
              0.1111111111111111,
              "#46039f"
             ],
             [
              0.2222222222222222,
              "#7201a8"
             ],
             [
              0.3333333333333333,
              "#9c179e"
             ],
             [
              0.4444444444444444,
              "#bd3786"
             ],
             [
              0.5555555555555556,
              "#d8576b"
             ],
             [
              0.6666666666666666,
              "#ed7953"
             ],
             [
              0.7777777777777778,
              "#fb9f3a"
             ],
             [
              0.8888888888888888,
              "#fdca26"
             ],
             [
              1,
              "#f0f921"
             ]
            ],
            "type": "surface"
           }
          ],
          "table": [
           {
            "cells": {
             "fill": {
              "color": "#EBF0F8"
             },
             "line": {
              "color": "white"
             }
            },
            "header": {
             "fill": {
              "color": "#C8D4E3"
             },
             "line": {
              "color": "white"
             }
            },
            "type": "table"
           }
          ]
         },
         "layout": {
          "annotationdefaults": {
           "arrowcolor": "#2a3f5f",
           "arrowhead": 0,
           "arrowwidth": 1
          },
          "autotypenumbers": "strict",
          "coloraxis": {
           "colorbar": {
            "outlinewidth": 0,
            "ticks": ""
           }
          },
          "colorscale": {
           "diverging": [
            [
             0,
             "#8e0152"
            ],
            [
             0.1,
             "#c51b7d"
            ],
            [
             0.2,
             "#de77ae"
            ],
            [
             0.3,
             "#f1b6da"
            ],
            [
             0.4,
             "#fde0ef"
            ],
            [
             0.5,
             "#f7f7f7"
            ],
            [
             0.6,
             "#e6f5d0"
            ],
            [
             0.7,
             "#b8e186"
            ],
            [
             0.8,
             "#7fbc41"
            ],
            [
             0.9,
             "#4d9221"
            ],
            [
             1,
             "#276419"
            ]
           ],
           "sequential": [
            [
             0,
             "#0d0887"
            ],
            [
             0.1111111111111111,
             "#46039f"
            ],
            [
             0.2222222222222222,
             "#7201a8"
            ],
            [
             0.3333333333333333,
             "#9c179e"
            ],
            [
             0.4444444444444444,
             "#bd3786"
            ],
            [
             0.5555555555555556,
             "#d8576b"
            ],
            [
             0.6666666666666666,
             "#ed7953"
            ],
            [
             0.7777777777777778,
             "#fb9f3a"
            ],
            [
             0.8888888888888888,
             "#fdca26"
            ],
            [
             1,
             "#f0f921"
            ]
           ],
           "sequentialminus": [
            [
             0,
             "#0d0887"
            ],
            [
             0.1111111111111111,
             "#46039f"
            ],
            [
             0.2222222222222222,
             "#7201a8"
            ],
            [
             0.3333333333333333,
             "#9c179e"
            ],
            [
             0.4444444444444444,
             "#bd3786"
            ],
            [
             0.5555555555555556,
             "#d8576b"
            ],
            [
             0.6666666666666666,
             "#ed7953"
            ],
            [
             0.7777777777777778,
             "#fb9f3a"
            ],
            [
             0.8888888888888888,
             "#fdca26"
            ],
            [
             1,
             "#f0f921"
            ]
           ]
          },
          "colorway": [
           "#636efa",
           "#EF553B",
           "#00cc96",
           "#ab63fa",
           "#FFA15A",
           "#19d3f3",
           "#FF6692",
           "#B6E880",
           "#FF97FF",
           "#FECB52"
          ],
          "font": {
           "color": "#2a3f5f"
          },
          "geo": {
           "bgcolor": "white",
           "lakecolor": "white",
           "landcolor": "#E5ECF6",
           "showlakes": true,
           "showland": true,
           "subunitcolor": "white"
          },
          "hoverlabel": {
           "align": "left"
          },
          "hovermode": "closest",
          "mapbox": {
           "style": "light"
          },
          "paper_bgcolor": "white",
          "plot_bgcolor": "#E5ECF6",
          "polar": {
           "angularaxis": {
            "gridcolor": "white",
            "linecolor": "white",
            "ticks": ""
           },
           "bgcolor": "#E5ECF6",
           "radialaxis": {
            "gridcolor": "white",
            "linecolor": "white",
            "ticks": ""
           }
          },
          "scene": {
           "xaxis": {
            "backgroundcolor": "#E5ECF6",
            "gridcolor": "white",
            "gridwidth": 2,
            "linecolor": "white",
            "showbackground": true,
            "ticks": "",
            "zerolinecolor": "white"
           },
           "yaxis": {
            "backgroundcolor": "#E5ECF6",
            "gridcolor": "white",
            "gridwidth": 2,
            "linecolor": "white",
            "showbackground": true,
            "ticks": "",
            "zerolinecolor": "white"
           },
           "zaxis": {
            "backgroundcolor": "#E5ECF6",
            "gridcolor": "white",
            "gridwidth": 2,
            "linecolor": "white",
            "showbackground": true,
            "ticks": "",
            "zerolinecolor": "white"
           }
          },
          "shapedefaults": {
           "line": {
            "color": "#2a3f5f"
           }
          },
          "ternary": {
           "aaxis": {
            "gridcolor": "white",
            "linecolor": "white",
            "ticks": ""
           },
           "baxis": {
            "gridcolor": "white",
            "linecolor": "white",
            "ticks": ""
           },
           "bgcolor": "#E5ECF6",
           "caxis": {
            "gridcolor": "white",
            "linecolor": "white",
            "ticks": ""
           }
          },
          "title": {
           "x": 0.05
          },
          "xaxis": {
           "automargin": true,
           "gridcolor": "white",
           "linecolor": "white",
           "ticks": "",
           "title": {
            "standoff": 15
           },
           "zerolinecolor": "white",
           "zerolinewidth": 2
          },
          "yaxis": {
           "automargin": true,
           "gridcolor": "white",
           "linecolor": "white",
           "ticks": "",
           "title": {
            "standoff": 15
           },
           "zerolinecolor": "white",
           "zerolinewidth": 2
          }
         }
        },
        "title": {
         "text": "Point Rotation by Quaternion"
        },
        "width": 600
       }
      }
     },
     "metadata": {},
     "output_type": "display_data"
    },
    {
     "name": "stdout",
     "output_type": "stream",
     "text": [
      "[ 0.00000e+00 -9.99698e-01  3.02000e-04]\n"
     ]
    },
    {
     "data": {
      "text/plain": [
       "array([0.00000e+00, 3.02000e-04, 9.99698e-01])"
      ]
     },
     "execution_count": 8,
     "metadata": {},
     "output_type": "execute_result"
    }
   ],
   "source": [
    "import math\n",
    "import IPython\n",
    "import numpy as np\n",
    "import pandas as pd\n",
    "import ipywidgets as widgets\n",
    "import matplotlib.pyplot as plt\n",
    "import plotly.graph_objects as go\n",
    "from ipywidgets import interact, FloatSlider, IntSlider\n",
    "\n",
    "def plot_rotation_plotly(point, axis, angle, figure, label):\n",
    "    t = np.linspace(0.0, angle, 100)\n",
    "    x = np.zeros(100)\n",
    "    y = np.zeros(100)\n",
    "    z = np.zeros(100)\n",
    "    for i in range(100):\n",
    "        p = rotate_quaternion(point, axis, t[i])\n",
    "        x[i] = p[0]\n",
    "        y[i] = p[1]\n",
    "        z[i] = p[2]\n",
    "    figure.add_trace(go.Scatter3d(\n",
    "        x=x, y=y, z=z,\n",
    "        mode='lines',\n",
    "        name=label))\n",
    "    figure.add_trace(go.Scatter3d(\n",
    "        x=[0, axis[0]], y=[0, axis[1]], z=[0, axis[2]],\n",
    "        mode='lines',\n",
    "        name='Axis',\n",
    "        # line=dict(color='pink', width=5)\n",
    "        ))\n",
    "    figure.add_trace(go.Scatter3d(\n",
    "        x=[x[0]], y=[y[0]], z=[z[0]],\n",
    "        mode='markers',\n",
    "        name='Start',\n",
    "        # line=dict(color='pink', width=5)\n",
    "        ))\n",
    "    figure.add_trace(go.Scatter3d(\n",
    "        x=[x[-1]], y=[y[-1]], z=[z[-1]],\n",
    "        mode='markers',\n",
    "        name='End',\n",
    "        # line=dict(color='pink', width=5)\n",
    "        ))\n",
    "    return rotate_quaternion(point, axis, angle)\n",
    "\n",
    "def make3dplotly(name: str):\n",
    "    fig = go.Figure()\n",
    "    fig.update_layout(width=600, height=600, scene=dict(\n",
    "        aspectmode = 'cube',\n",
    "        xaxis=dict(nticks=4, range=[-2., 2.]),\n",
    "        yaxis=dict(nticks=4, range=[-2., 2.]),\n",
    "        zaxis=dict(nticks=4, range=[-2., 2.]),\n",
    "        bgcolor=\"white\"),\n",
    "        title=name, paper_bgcolor='lightgrey')\n",
    "\n",
    "    fig.add_trace(go.Scatter3d(\n",
    "        x=[-2., 2.], y=[0, 0], z=[0, 0],\n",
    "        mode='lines',\n",
    "        name='x-axis',\n",
    "        line=dict(color='black', width=5)\n",
    "    ))\n",
    "\n",
    "    fig.add_trace(go.Scatter3d(\n",
    "        y=[-2., 2.], x=[0, 0], z=[0, 0],\n",
    "        mode='lines',\n",
    "        name='y-axis',\n",
    "        line=dict(color='black', width=5)\n",
    "    ))\n",
    "\n",
    "    fig.add_trace(go.Scatter3d(\n",
    "        z=[-2., 2.], y=[0, 0], x=[0, 0],\n",
    "        mode='lines',\n",
    "        name='z-axis',\n",
    "        line=dict(color='black', width=5)\n",
    "    ))\n",
    "    return fig\n",
    "\n",
    "def quaternion_multiply(q1, q2):\n",
    "    w1, x1, y1, z1 = q1\n",
    "    w2, x2, y2, z2 = q2\n",
    "    return np.array([\n",
    "        w1*w2 - x1*x2 - y1*y2 - z1*z2,\n",
    "        w1*x2 + x1*w2 + y1*z2 - z1*y2,\n",
    "        w1*y2 - x1*z2 + y1*w2 + z1*x2,\n",
    "        w1*z2 + x1*y2 - y1*x2 + z1*w2\n",
    "    ])\n",
    "\n",
    "def rotate_quaternion(point, axis, angle: float) -> list:\n",
    "    normalizedaxis = axis/np.linalg.norm(axis)\n",
    "    q_inv = [math.cos(angle/2)]\n",
    "    q = [math.cos(angle/2)]\n",
    "    for value in normalizedaxis:\n",
    "        q.append(math.sin(angle/2)*value)\n",
    "        q_inv.append(-math.sin(angle/2)*value)\n",
    "    pointquat = [0, point[0], point[1], point[2]]\n",
    "    rotation = quaternion_multiply(quaternion_multiply(q, pointquat), q_inv)\n",
    "    result = [float(i) for i in rotation[1:]]\n",
    "    return(result)\n",
    "\n",
    "# print(rotate_quaternion([1, 0, 0], [0, 1, 0], np.pi/2))\n",
    "\n",
    "def quaternion_to_rotation_matrix(quaternion):\n",
    "    w, x, y, z = quaternion.flatten()\n",
    "    return np.array([\n",
    "        [1 - 2*y**2 - 2*z**2, 2*x*y - 2*z*w, 2*x*z + 2*y*w],\n",
    "        [2*x*y + 2*z*w, 1 - 2*x**2 - 2*z**2, 2*y*z - 2*x*w],\n",
    "        [2*x*z - 2*y*w, 2*y*z + 2*x*w, 1 - 2*x**2 - 2*y**2]\n",
    "    ])\n",
    "\n",
    "def vector_to_quaternion(vector):\n",
    "    vector = vector / np.linalg.norm(vector)\n",
    "    z_axis = np.array([0, 0, -1])\n",
    "    axis = np.cross(vector, z_axis)\n",
    "    angle = np.arccos(np.dot(vector, z_axis))\n",
    "    q = [math.cos(angle/2)]\n",
    "    for value in axis:\n",
    "        q.append(math.sin(angle/2)*value)\n",
    "    return np.array(q), axis, angle\n",
    "\n",
    "def plot_random_vector_rotation():\n",
    "    vector = np.random.rand(3)\n",
    "    quaternion, axis, angle = vector_to_quaternion(vector)\n",
    "    fig = make3dplotly('Random Vector Rotation to Negative Z Axis')\n",
    "    plot_rotation_plotly(vector, axis, angle, fig, 'rotation')\n",
    "    display(fig)\n",
    "\n",
    "# plot_random_vector_rotation()\n",
    "\n",
    "def plot_point_rotation(point, quaternion):\n",
    "    axis, angle = quaternion[1:], 2 * np.arccos(quaternion[0])\n",
    "    \n",
    "    # Create figure\n",
    "    fig = go.Figure()\n",
    "    fig.update_layout(width=600, height=600, scene=dict(\n",
    "        aspectmode='cube',\n",
    "        xaxis=dict(nticks=4, range=[-2., 2.]),\n",
    "        yaxis=dict(nticks=4, range=[-2., 2.]),\n",
    "        zaxis=dict(nticks=4, range=[-2., 2.]),\n",
    "        bgcolor=\"white\"),\n",
    "        title='Point Rotation by Quaternion', paper_bgcolor='lightgrey')\n",
    "\n",
    "    # Add axes\n",
    "    fig.add_trace(go.Scatter3d(\n",
    "        x=[-2., 2.], y=[0, 0], z=[0, 0],\n",
    "        mode='lines',\n",
    "        name='x-axis',\n",
    "        line=dict(color='black', width=5)\n",
    "    ))\n",
    "\n",
    "    fig.add_trace(go.Scatter3d(\n",
    "        y=[-2., 2.], x=[0, 0], z=[0, 0],\n",
    "        mode='lines',\n",
    "        name='y-axis',\n",
    "        line=dict(color='black', width=5)\n",
    "    ))\n",
    "\n",
    "    fig.add_trace(go.Scatter3d(\n",
    "        z=[-2., 2.], y=[0, 0], x=[0, 0],\n",
    "        mode='lines',\n",
    "        name='z-axis',\n",
    "        line=dict(color='black', width=5)\n",
    "    ))\n",
    "\n",
    "    # Plot rotation\n",
    "    t = np.linspace(0.0, angle, 100)\n",
    "    x = np.zeros(100)\n",
    "    y = np.zeros(100)\n",
    "    z = np.zeros(100)\n",
    "    for i in range(100):\n",
    "        p = rotate_quaternion(point, axis, t[i])\n",
    "        x[i] = p[0]\n",
    "        y[i] = p[1]\n",
    "        z[i] = p[2]\n",
    "    fig.add_trace(go.Scatter3d(\n",
    "        x=x, y=y, z=z,\n",
    "        mode='lines',\n",
    "        name='rotation'\n",
    "    ))\n",
    "    fig.add_trace(go.Scatter3d(\n",
    "        x=[0, axis[0]], y=[0, axis[1]], z=[0, axis[2]],\n",
    "        mode='lines',\n",
    "        name='Axis'\n",
    "    ))\n",
    "    fig.add_trace(go.Scatter3d(\n",
    "        x=[x[0]], y=[y[0]], z=[z[0]],\n",
    "        mode='markers',\n",
    "        name='Start'\n",
    "    ))\n",
    "    fig.add_trace(go.Scatter3d(\n",
    "        x=[x[-1]], y=[y[-1]], z=[z[-1]],\n",
    "        mode='markers',\n",
    "        name='End'\n",
    "    ))\n",
    "\n",
    "    display(fig)\n",
    "\n",
    "# Example usage\n",
    "point = np.array([0., 1., 0.])\n",
    "quaternion = np.array([0.707, 0.707, 0, 0])  # 90 degrees rotation around x-axis\n",
    "plot_point_rotation(point, quaternion)\n",
    "mat = quaternion_to_rotation_matrix(quaternion)\n",
    "print(mat@np.array([0., 0., 1.]))\n",
    "mat @ point"
   ]
  },
  {
   "cell_type": "code",
   "execution_count": null,
   "metadata": {},
   "outputs": [
    {
     "data": {
      "text/plain": [
       "array([0.00000e+00, 3.02000e-04, 9.99698e-01])"
      ]
     },
     "execution_count": 4,
     "metadata": {},
     "output_type": "execute_result"
    }
   ],
   "source": []
  },
  {
   "cell_type": "code",
   "execution_count": 4,
   "metadata": {},
   "outputs": [
    {
     "data": {
      "application/vnd.plotly.v1+json": {
       "config": {
        "plotlyServerURL": "https://plot.ly"
       },
       "data": [
        {
         "line": {
          "color": "black",
          "width": 5
         },
         "mode": "lines",
         "name": "x-axis",
         "type": "scatter3d",
         "x": [
          -1.2,
          1.2
         ],
         "y": [
          0,
          0
         ],
         "z": [
          0,
          0
         ]
        },
        {
         "line": {
          "color": "black",
          "width": 5
         },
         "mode": "lines",
         "name": "y-axis",
         "type": "scatter3d",
         "x": [
          0,
          0
         ],
         "y": [
          -1.2,
          1.2
         ],
         "z": [
          0,
          0
         ]
        },
        {
         "line": {
          "color": "black",
          "width": 5
         },
         "mode": "lines",
         "name": "z-axis",
         "type": "scatter3d",
         "x": [
          0,
          0
         ],
         "y": [
          0,
          0
         ],
         "z": [
          -1.2,
          1.2
         ]
        },
        {
         "mode": "lines",
         "name": "rotation",
         "type": "scatter3d",
         "x": [
          1,
          0.9994518874037374,
          0.9978081548878359,
          0.9950706176025618,
          0.9912422985711149,
          0.9863274253513492,
          0.9803314253673404,
          0.9732609199159598,
          0.9651237168550698,
          0.9559288019814198,
          0.9456863291077594,
          0.9344076088501272,
          0.9221050961377009,
          0.9087923764589969,
          0.8944841508596104,
          0.879196219708061,
          0.862945465247672,
          0.8457498329537512,
          0.8276283117166592,
          0.8086009128726517,
          0.7886886481056449,
          0.7679135062443155,
          0.7462984289801528,
          0.7238672855332761,
          0.7006448462939974,
          0.676656755469235,
          0.6519295027639826,
          0.6264903941291076,
          0.6003675216077805,
          0.5735897323138357,
          0.5461865965763145,
          0.5181883752853773,
          0.48962598647563293,
          0.4605309711837996,
          0.43093545861838634,
          0.40087213067987215,
          0.37037418587054793,
          0.33947530263388853,
          0.3082096021639296,
          0.2766116107257216,
          0.24471622152846956,
          0.2125586561934633,
          0.18017442585934468,
          0.14759929196766675,
          0.11486922677204647,
          0.08202037361451803,
          0.04908900701296129,
          0.01611149260367012,
          -0.016875753016699052,
          -0.04983630250545276,
          -0.08273375800005359,
          -0.11553179131175678,
          -0.14819418404231124,
          -0.18068486757941407,
          -0.2129679629267669,
          -0.2450078203247325,
          -0.27676905861785783,
          -0.30821660432577447,
          -0.33931573037434104,
          -0.37003209444425406,
          -0.40033177689477933,
          -0.4301813182207235,
          -0.4595477560012883,
          -0.48839866129999876,
          -0.5167021744755124,
          -0.5444270403637652,
          -0.5715426427926028,
          -0.5980190383907776,
          -0.6238269896539885,
          -0.6489379972314343,
          -0.6733243313972402,
          -0.6969590626719984,
          -0.7198160915606022,
          -0.7418701773735488,
          -0.7630969660998683,
          -0.7834730173009103,
          -0.8029758299952839,
          -0.8215838675063692,
          -0.8392765812449609,
          -0.856034433400781,
          -0.8718389185178017,
          -0.8866725839295574,
          -0.9005190490318724,
          -0.9133630233717276,
          -0.9251903235322896,
          -0.9359878887954541,
          -0.9457437955646101,
          -0.9544472705316958,
          -0.962088702574009,
          -0.9686596533676339,
          -0.9741528667057577,
          -0.9785622765115984,
          -0.9818830135370864,
          -0.9841114107399043,
          -0.9852450073329493,
          -0.9852825515017465,
          -0.9842240017868082,
          -0.9820705271294172,
          -0.978824505580783,
          -0.9744895216759917
         ],
         "y": [
          0,
          0.02841124554980651,
          0.056839479844372875,
          0.0852533099918907,
          0.11362135900684475,
          0.1419123004591686,
          0.17009489306757242,
          0.1981380151988422,
          0.22601069923501355,
          0.2536821657704684,
          0.2811218576011918,
          0.30829947346865405,
          0.335185001521057,
          0.3617487524549912,
          0.387961392300909,
          0.4137939748162063,
          0.43921797345014374,
          0.46420531284530786,
          0.48872839984082617,
          0.5127601539430993,
          0.5362740372304018,
          0.559244083658329,
          0.5816449277337286,
          0.6034518325254498,
          0.6246407169809827,
          0.6451881825188203,
          0.6650715388671754,
          0.6842688291205239,
          0.7027588539862997,
          0.720521195194971,
          0.7375362380476419,
          0.753785193076284,
          0.7692501167926756,
          0.7839139315031404,
          0.7977604441671984,
          0.8107743642793089,
          0.8229413207539574,
          0.8342478777954385,
          0.8446815497348127,
          0.8542308148176523,
          0.8628851279273495,
          0.8706349322299372,
          0.8774716697275641,
          0.8833877907089694,
          0.8883767620865198,
          0.892433074610606,
          0.8955522489534268,
          0.8977308406554475,
          0.8989664439290661,
          0.8992576943152919,
          0.8986042701904968,
          0.8970068931215789,
          0.894467327069148,
          0.8909883764396092,
          0.886573882988295,
          0.881228721577073,
          0.8749587947911032,
          0.8677710264206993,
          0.8596733538154853,
          0.8506747191192949,
          0.8407850593954894,
          0.8300152956536018,
          0.8183773207894218,
          0.8058839864518414,
          0.7925490888509642,
          0.7783873535231463,
          0.7634144190697992,
          0.7476468198879062,
          0.7311019679113234,
          0.7137981333830322,
          0.6957544246795708,
          0.6769907672099279,
          0.6575278814121998,
          0.6373872598723053,
          0.616591143590035,
          0.5951624974186297,
          0.5731249847050237,
          0.5505029411587518,
          0.5273213479783698,
          0.5036058042650784,
          0.4793824987540015,
          0.45467818089434,
          0.4295201313103407,
          0.4039361316756912,
          0.3779544340346173,
          0.3516037296035558,
          0.3249131170878532,
          0.2979120705484852,
          0.27063040685427053,
          0.24309825275553149,
          0.21534601161555622,
          0.18740432983659733,
          0.15930406301749242,
          0.1310762418802655,
          0.10275203800334654,
          0.07436272939924499,
          0.04593966597468621,
          0.017514234911361753,
          -0.010882173994488459,
          -0.03921820299537718
         ],
         "z": [
          0,
          -0.01699193607025764,
          -0.03388450339540733,
          -0.05065904775539059,
          -0.06729704526121832,
          -0.08378012281063607,
          -0.10009007837727747,
          -0.11620890111090125,
          -0.1321187912265151,
          -0.14780217966042303,
          -0.163241747471491,
          -0.17842044496620516,
          -0.19332151052640426,
          -0.2079284891188944,
          -0.22222525046650643,
          -0.23619600686052988,
          -0.24982533059485343,
          -0.2630981710025598,
          -0.2759998710761616,
          -0.2885161836531247,
          -0.3006332871488055,
          -0.31233780081942897,
          -0.32361679953825234,
          -0.33445782806859736,
          -0.3448489148179893,
          -0.3547785850582156,
          -0.3642358735967034,
          -0.373210336885225,
          -0.38169206455255783,
          -0.38967169034836613,
          -0.3971404024862166,
          -0.40408995337430814,
          -0.4105126687231686,
          -0.41640145602026424,
          -0.42174981236215764,
          -0.4265518316355726,
          -0.43080221103942923,
          -0.4344962569406518,
          -0.4376298900572806,
          -0.4401996499631635,
          -0.44220269890925656,
          -0.44363682495730866,
          -0.4445004444224729,
          -0.4447926036221482,
          -0.44451297992911637,
          -0.4436618821278153,
          -0.4422402500733521,
          -0.44024965365363533,
          -0.43769229105576973,
          -0.4345709863386298,
          -0.4308891863142926,
          -0.42665095674177156,
          -0.42186097783725773,
          -0.41652453910582404,
          -0.41064753350030025,
          -0.4042364509137705,
          -0.3972983710128761,
          -0.38984095541984204,
          -0.381872439251857,
          -0.37340162202715144,
          -0.3644378579478156,
          -0.35499104557008865,
          -0.3450716168735242,
          -0.334690525741105,
          -0.32385923586302723,
          -0.31258970807751124,
          -0.3008943871626192,
          -0.28878618809366585,
          -0.2762784817813951,
          -0.26338508030667596,
          -0.25012022166801845,
          -0.23649855405875686,
          -0.22253511969125953,
          -0.2082453381860282,
          -0.1936449895440341,
          -0.1787501967210867,
          -0.16357740782348582,
          -0.14814337794461405,
          -0.13246515066252576,
          -0.11656003921896887,
          -0.1004456074006207,
          -0.08413965014364821,
          -0.06766017388301712,
          -0.05102537666824192,
          -0.03425362806754134,
          -0.017363448882588006,
          -0.0003734906962508666,
          0.016697484724078532,
          0.03383062614483865,
          0.05100701368344451,
          0.06820767970124209,
          0.0854136297492015,
          0.10260586354321322,
          0.1197653959458311,
          0.13687327793128704,
          0.15391061751062768,
          0.17085860059386912,
          0.18769851176612473,
          0.20441175495477143,
          0.22097987396482552
         ]
        },
        {
         "mode": "lines",
         "name": "Axis",
         "type": "scatter3d",
         "x": [
          0,
          0.05
         ],
         "y": [
          0,
          0.3
         ],
         "z": [
          0,
          0.5
         ]
        },
        {
         "mode": "markers",
         "name": "Start",
         "type": "scatter3d",
         "x": [
          1
         ],
         "y": [
          0
         ],
         "z": [
          0
         ]
        },
        {
         "mode": "markers",
         "name": "End",
         "type": "scatter3d",
         "x": [
          -0.9744895216759917
         ],
         "y": [
          -0.03921820299537718
         ],
         "z": [
          0.22097987396482552
         ]
        }
       ],
       "layout": {
        "height": 600,
        "paper_bgcolor": "lightgrey",
        "scene": {
         "aspectmode": "cube",
         "bgcolor": "white",
         "xaxis": {
          "nticks": 4,
          "range": [
           -1.2,
           1.2
          ]
         },
         "yaxis": {
          "nticks": 4,
          "range": [
           -1.2,
           1.2
          ]
         },
         "zaxis": {
          "nticks": 4,
          "range": [
           -1.2,
           1.2
          ]
         }
        },
        "template": {
         "data": {
          "bar": [
           {
            "error_x": {
             "color": "#2a3f5f"
            },
            "error_y": {
             "color": "#2a3f5f"
            },
            "marker": {
             "line": {
              "color": "#E5ECF6",
              "width": 0.5
             },
             "pattern": {
              "fillmode": "overlay",
              "size": 10,
              "solidity": 0.2
             }
            },
            "type": "bar"
           }
          ],
          "barpolar": [
           {
            "marker": {
             "line": {
              "color": "#E5ECF6",
              "width": 0.5
             },
             "pattern": {
              "fillmode": "overlay",
              "size": 10,
              "solidity": 0.2
             }
            },
            "type": "barpolar"
           }
          ],
          "carpet": [
           {
            "aaxis": {
             "endlinecolor": "#2a3f5f",
             "gridcolor": "white",
             "linecolor": "white",
             "minorgridcolor": "white",
             "startlinecolor": "#2a3f5f"
            },
            "baxis": {
             "endlinecolor": "#2a3f5f",
             "gridcolor": "white",
             "linecolor": "white",
             "minorgridcolor": "white",
             "startlinecolor": "#2a3f5f"
            },
            "type": "carpet"
           }
          ],
          "choropleth": [
           {
            "colorbar": {
             "outlinewidth": 0,
             "ticks": ""
            },
            "type": "choropleth"
           }
          ],
          "contour": [
           {
            "colorbar": {
             "outlinewidth": 0,
             "ticks": ""
            },
            "colorscale": [
             [
              0,
              "#0d0887"
             ],
             [
              0.1111111111111111,
              "#46039f"
             ],
             [
              0.2222222222222222,
              "#7201a8"
             ],
             [
              0.3333333333333333,
              "#9c179e"
             ],
             [
              0.4444444444444444,
              "#bd3786"
             ],
             [
              0.5555555555555556,
              "#d8576b"
             ],
             [
              0.6666666666666666,
              "#ed7953"
             ],
             [
              0.7777777777777778,
              "#fb9f3a"
             ],
             [
              0.8888888888888888,
              "#fdca26"
             ],
             [
              1,
              "#f0f921"
             ]
            ],
            "type": "contour"
           }
          ],
          "contourcarpet": [
           {
            "colorbar": {
             "outlinewidth": 0,
             "ticks": ""
            },
            "type": "contourcarpet"
           }
          ],
          "heatmap": [
           {
            "colorbar": {
             "outlinewidth": 0,
             "ticks": ""
            },
            "colorscale": [
             [
              0,
              "#0d0887"
             ],
             [
              0.1111111111111111,
              "#46039f"
             ],
             [
              0.2222222222222222,
              "#7201a8"
             ],
             [
              0.3333333333333333,
              "#9c179e"
             ],
             [
              0.4444444444444444,
              "#bd3786"
             ],
             [
              0.5555555555555556,
              "#d8576b"
             ],
             [
              0.6666666666666666,
              "#ed7953"
             ],
             [
              0.7777777777777778,
              "#fb9f3a"
             ],
             [
              0.8888888888888888,
              "#fdca26"
             ],
             [
              1,
              "#f0f921"
             ]
            ],
            "type": "heatmap"
           }
          ],
          "heatmapgl": [
           {
            "colorbar": {
             "outlinewidth": 0,
             "ticks": ""
            },
            "colorscale": [
             [
              0,
              "#0d0887"
             ],
             [
              0.1111111111111111,
              "#46039f"
             ],
             [
              0.2222222222222222,
              "#7201a8"
             ],
             [
              0.3333333333333333,
              "#9c179e"
             ],
             [
              0.4444444444444444,
              "#bd3786"
             ],
             [
              0.5555555555555556,
              "#d8576b"
             ],
             [
              0.6666666666666666,
              "#ed7953"
             ],
             [
              0.7777777777777778,
              "#fb9f3a"
             ],
             [
              0.8888888888888888,
              "#fdca26"
             ],
             [
              1,
              "#f0f921"
             ]
            ],
            "type": "heatmapgl"
           }
          ],
          "histogram": [
           {
            "marker": {
             "pattern": {
              "fillmode": "overlay",
              "size": 10,
              "solidity": 0.2
             }
            },
            "type": "histogram"
           }
          ],
          "histogram2d": [
           {
            "colorbar": {
             "outlinewidth": 0,
             "ticks": ""
            },
            "colorscale": [
             [
              0,
              "#0d0887"
             ],
             [
              0.1111111111111111,
              "#46039f"
             ],
             [
              0.2222222222222222,
              "#7201a8"
             ],
             [
              0.3333333333333333,
              "#9c179e"
             ],
             [
              0.4444444444444444,
              "#bd3786"
             ],
             [
              0.5555555555555556,
              "#d8576b"
             ],
             [
              0.6666666666666666,
              "#ed7953"
             ],
             [
              0.7777777777777778,
              "#fb9f3a"
             ],
             [
              0.8888888888888888,
              "#fdca26"
             ],
             [
              1,
              "#f0f921"
             ]
            ],
            "type": "histogram2d"
           }
          ],
          "histogram2dcontour": [
           {
            "colorbar": {
             "outlinewidth": 0,
             "ticks": ""
            },
            "colorscale": [
             [
              0,
              "#0d0887"
             ],
             [
              0.1111111111111111,
              "#46039f"
             ],
             [
              0.2222222222222222,
              "#7201a8"
             ],
             [
              0.3333333333333333,
              "#9c179e"
             ],
             [
              0.4444444444444444,
              "#bd3786"
             ],
             [
              0.5555555555555556,
              "#d8576b"
             ],
             [
              0.6666666666666666,
              "#ed7953"
             ],
             [
              0.7777777777777778,
              "#fb9f3a"
             ],
             [
              0.8888888888888888,
              "#fdca26"
             ],
             [
              1,
              "#f0f921"
             ]
            ],
            "type": "histogram2dcontour"
           }
          ],
          "mesh3d": [
           {
            "colorbar": {
             "outlinewidth": 0,
             "ticks": ""
            },
            "type": "mesh3d"
           }
          ],
          "parcoords": [
           {
            "line": {
             "colorbar": {
              "outlinewidth": 0,
              "ticks": ""
             }
            },
            "type": "parcoords"
           }
          ],
          "pie": [
           {
            "automargin": true,
            "type": "pie"
           }
          ],
          "scatter": [
           {
            "fillpattern": {
             "fillmode": "overlay",
             "size": 10,
             "solidity": 0.2
            },
            "type": "scatter"
           }
          ],
          "scatter3d": [
           {
            "line": {
             "colorbar": {
              "outlinewidth": 0,
              "ticks": ""
             }
            },
            "marker": {
             "colorbar": {
              "outlinewidth": 0,
              "ticks": ""
             }
            },
            "type": "scatter3d"
           }
          ],
          "scattercarpet": [
           {
            "marker": {
             "colorbar": {
              "outlinewidth": 0,
              "ticks": ""
             }
            },
            "type": "scattercarpet"
           }
          ],
          "scattergeo": [
           {
            "marker": {
             "colorbar": {
              "outlinewidth": 0,
              "ticks": ""
             }
            },
            "type": "scattergeo"
           }
          ],
          "scattergl": [
           {
            "marker": {
             "colorbar": {
              "outlinewidth": 0,
              "ticks": ""
             }
            },
            "type": "scattergl"
           }
          ],
          "scattermapbox": [
           {
            "marker": {
             "colorbar": {
              "outlinewidth": 0,
              "ticks": ""
             }
            },
            "type": "scattermapbox"
           }
          ],
          "scatterpolar": [
           {
            "marker": {
             "colorbar": {
              "outlinewidth": 0,
              "ticks": ""
             }
            },
            "type": "scatterpolar"
           }
          ],
          "scatterpolargl": [
           {
            "marker": {
             "colorbar": {
              "outlinewidth": 0,
              "ticks": ""
             }
            },
            "type": "scatterpolargl"
           }
          ],
          "scatterternary": [
           {
            "marker": {
             "colorbar": {
              "outlinewidth": 0,
              "ticks": ""
             }
            },
            "type": "scatterternary"
           }
          ],
          "surface": [
           {
            "colorbar": {
             "outlinewidth": 0,
             "ticks": ""
            },
            "colorscale": [
             [
              0,
              "#0d0887"
             ],
             [
              0.1111111111111111,
              "#46039f"
             ],
             [
              0.2222222222222222,
              "#7201a8"
             ],
             [
              0.3333333333333333,
              "#9c179e"
             ],
             [
              0.4444444444444444,
              "#bd3786"
             ],
             [
              0.5555555555555556,
              "#d8576b"
             ],
             [
              0.6666666666666666,
              "#ed7953"
             ],
             [
              0.7777777777777778,
              "#fb9f3a"
             ],
             [
              0.8888888888888888,
              "#fdca26"
             ],
             [
              1,
              "#f0f921"
             ]
            ],
            "type": "surface"
           }
          ],
          "table": [
           {
            "cells": {
             "fill": {
              "color": "#EBF0F8"
             },
             "line": {
              "color": "white"
             }
            },
            "header": {
             "fill": {
              "color": "#C8D4E3"
             },
             "line": {
              "color": "white"
             }
            },
            "type": "table"
           }
          ]
         },
         "layout": {
          "annotationdefaults": {
           "arrowcolor": "#2a3f5f",
           "arrowhead": 0,
           "arrowwidth": 1
          },
          "autotypenumbers": "strict",
          "coloraxis": {
           "colorbar": {
            "outlinewidth": 0,
            "ticks": ""
           }
          },
          "colorscale": {
           "diverging": [
            [
             0,
             "#8e0152"
            ],
            [
             0.1,
             "#c51b7d"
            ],
            [
             0.2,
             "#de77ae"
            ],
            [
             0.3,
             "#f1b6da"
            ],
            [
             0.4,
             "#fde0ef"
            ],
            [
             0.5,
             "#f7f7f7"
            ],
            [
             0.6,
             "#e6f5d0"
            ],
            [
             0.7,
             "#b8e186"
            ],
            [
             0.8,
             "#7fbc41"
            ],
            [
             0.9,
             "#4d9221"
            ],
            [
             1,
             "#276419"
            ]
           ],
           "sequential": [
            [
             0,
             "#0d0887"
            ],
            [
             0.1111111111111111,
             "#46039f"
            ],
            [
             0.2222222222222222,
             "#7201a8"
            ],
            [
             0.3333333333333333,
             "#9c179e"
            ],
            [
             0.4444444444444444,
             "#bd3786"
            ],
            [
             0.5555555555555556,
             "#d8576b"
            ],
            [
             0.6666666666666666,
             "#ed7953"
            ],
            [
             0.7777777777777778,
             "#fb9f3a"
            ],
            [
             0.8888888888888888,
             "#fdca26"
            ],
            [
             1,
             "#f0f921"
            ]
           ],
           "sequentialminus": [
            [
             0,
             "#0d0887"
            ],
            [
             0.1111111111111111,
             "#46039f"
            ],
            [
             0.2222222222222222,
             "#7201a8"
            ],
            [
             0.3333333333333333,
             "#9c179e"
            ],
            [
             0.4444444444444444,
             "#bd3786"
            ],
            [
             0.5555555555555556,
             "#d8576b"
            ],
            [
             0.6666666666666666,
             "#ed7953"
            ],
            [
             0.7777777777777778,
             "#fb9f3a"
            ],
            [
             0.8888888888888888,
             "#fdca26"
            ],
            [
             1,
             "#f0f921"
            ]
           ]
          },
          "colorway": [
           "#636efa",
           "#EF553B",
           "#00cc96",
           "#ab63fa",
           "#FFA15A",
           "#19d3f3",
           "#FF6692",
           "#B6E880",
           "#FF97FF",
           "#FECB52"
          ],
          "font": {
           "color": "#2a3f5f"
          },
          "geo": {
           "bgcolor": "white",
           "lakecolor": "white",
           "landcolor": "#E5ECF6",
           "showlakes": true,
           "showland": true,
           "subunitcolor": "white"
          },
          "hoverlabel": {
           "align": "left"
          },
          "hovermode": "closest",
          "mapbox": {
           "style": "light"
          },
          "paper_bgcolor": "white",
          "plot_bgcolor": "#E5ECF6",
          "polar": {
           "angularaxis": {
            "gridcolor": "white",
            "linecolor": "white",
            "ticks": ""
           },
           "bgcolor": "#E5ECF6",
           "radialaxis": {
            "gridcolor": "white",
            "linecolor": "white",
            "ticks": ""
           }
          },
          "scene": {
           "xaxis": {
            "backgroundcolor": "#E5ECF6",
            "gridcolor": "white",
            "gridwidth": 2,
            "linecolor": "white",
            "showbackground": true,
            "ticks": "",
            "zerolinecolor": "white"
           },
           "yaxis": {
            "backgroundcolor": "#E5ECF6",
            "gridcolor": "white",
            "gridwidth": 2,
            "linecolor": "white",
            "showbackground": true,
            "ticks": "",
            "zerolinecolor": "white"
           },
           "zaxis": {
            "backgroundcolor": "#E5ECF6",
            "gridcolor": "white",
            "gridwidth": 2,
            "linecolor": "white",
            "showbackground": true,
            "ticks": "",
            "zerolinecolor": "white"
           }
          },
          "shapedefaults": {
           "line": {
            "color": "#2a3f5f"
           }
          },
          "ternary": {
           "aaxis": {
            "gridcolor": "white",
            "linecolor": "white",
            "ticks": ""
           },
           "baxis": {
            "gridcolor": "white",
            "linecolor": "white",
            "ticks": ""
           },
           "bgcolor": "#E5ECF6",
           "caxis": {
            "gridcolor": "white",
            "linecolor": "white",
            "ticks": ""
           }
          },
          "title": {
           "x": 0.05
          },
          "xaxis": {
           "automargin": true,
           "gridcolor": "white",
           "linecolor": "white",
           "ticks": "",
           "title": {
            "standoff": 15
           },
           "zerolinecolor": "white",
           "zerolinewidth": 2
          },
          "yaxis": {
           "automargin": true,
           "gridcolor": "white",
           "linecolor": "white",
           "ticks": "",
           "title": {
            "standoff": 15
           },
           "zerolinecolor": "white",
           "zerolinewidth": 2
          }
         }
        },
        "title": {
         "text": "Rotation of (1.0, 0.0, 0.0) by 3.29 radians around (0.05, 0.3, 0.5)"
        },
        "width": 600
       }
      }
     },
     "metadata": {},
     "output_type": "display_data"
    }
   ],
   "source": [
    "p = (1.,0.,0.)\n",
    "ax = (.05, .3, .5)\n",
    "ang = 3.29\n",
    "\n",
    "myfig = make3dplotly(\n",
    "f'Rotation of ({p[0]}, {p[1]}, {p[2]}) by {ang} radians around \\\n",
    "({ax[0]}, {ax[1]}, {ax[2]})'\n",
    ")\n",
    "final_point = plot_rotation_plotly(p, ax, ang, myfig, 'rotation')\n",
    "display(myfig)"
   ]
  },
  {
   "cell_type": "code",
   "execution_count": 5,
   "metadata": {},
   "outputs": [],
   "source": [
    "def plot_rotation_mpl(point, axis, angle, figure, name):\n",
    "    t = np.linspace(0.0, angle, 100)\n",
    "    x = np.zeros(100)\n",
    "    y = np.zeros(100)\n",
    "    z = np.zeros(100)\n",
    "    for i in range(100):\n",
    "        p = rotate_quaternion(point, axis, t[i])\n",
    "        x[i] = p[0]\n",
    "        y[i] = p[1]\n",
    "        z[i] = p[2]\n",
    "    figure.plot(x, y, z, label=name)\n",
    "    ax_x = np.array([0, axis[0]])\n",
    "    ax_y = np.array([0, axis[1]])\n",
    "    ax_z = np.array([0, axis[2]])\n",
    "    figure.plot(ax_x, ax_y, ax_z, label='Axis')\n",
    "    return(rotate_quaternion(point, axis, angle))\n",
    "\n",
    "def make3dfigure():\n",
    "    figure = plt.figure().add_subplot(projection='3d')\n",
    "    figure.set_xlabel('x')\n",
    "    figure.set_ylabel('y')\n",
    "    figure.set_zlabel('z')\n",
    "    return figure\n",
    "\n",
    "def plot3axes(figure):\n",
    "    figure.plot((-1.3,1.3), (0,0), (0,0), label='x')\n",
    "    figure.plot((0,0), (-1.3,1.3), (0,0), label='y')\n",
    "    figure.plot((0,0), (0,0), (-1.3,1.3), label='z')\n",
    "\n",
    "def plot_widget_rotation(px, py, pz, axx, axy, axz, angle, elevation, azimuth):\n",
    "    my_widget_fig = make3dfigure()\n",
    "    my_widget_fig.view_init(elevation,azimuth)\n",
    "    plot3axes(my_widget_fig)\n",
    "    plot_rotation_mpl([px, py, pz], [axx, axy, axz], angle, my_widget_fig,\n",
    "                      'path')\n",
    "    plt.legend()\n",
    "    plt.show()\n",
    "\n",
    "def get_rotation_widgets():\n",
    "    angle_slider = FloatSlider(\n",
    "        value=ang, min=0., max=2*math.pi, step=0.1, description=\"Angle\")\n",
    "    axx_slider = FloatSlider(\n",
    "        value=ax[0], min=0., max=1.0, step=0.1, description=\"Axis x\")\n",
    "    axy_slider = FloatSlider(\n",
    "        value=ax[1], min=0., max=1.0, step=0.1, description=\"Axis y\")\n",
    "    axz_slider = FloatSlider(\n",
    "        value=ax[2], min=0., max=1.0, step=0.1, description=\"Axis z\")\n",
    "    px_slider = FloatSlider(\n",
    "        value=p[0], min=-1., max=1.0, step=0.1, description=\"Point x\")\n",
    "    py_slider = FloatSlider(\n",
    "        value=p[1], min=-1., max=1.0, step=0.1, description=\"Point y\")\n",
    "    pz_slider = FloatSlider(\n",
    "        value=p[2], min=-1., max=1.0, step=0.1, description=\"Point z\")\n",
    "    elevation_slider= IntSlider(\n",
    "        value=35, min=-90, max=90,step=5, continuous_update=False)\n",
    "    azimuth_slider= IntSlider(\n",
    "        value=45, min=0, max=360,step=5, continuous_update=False)\n",
    "    return [px_slider, py_slider, pz_slider, axx_slider, axy_slider,\n",
    "            axz_slider, angle_slider, elevation_slider, azimuth_slider]"
   ]
  },
  {
   "cell_type": "code",
   "execution_count": 6,
   "metadata": {},
   "outputs": [
    {
     "data": {
      "application/vnd.jupyter.widget-view+json": {
       "model_id": "757369e036fa4f3db1ae402a3fd88669",
       "version_major": 2,
       "version_minor": 0
      },
      "text/plain": [
       "interactive(children=(FloatSlider(value=1.0, description='Point x', max=1.0, min=-1.0), FloatSlider(value=0.0,…"
      ]
     },
     "metadata": {},
     "output_type": "display_data"
    }
   ],
   "source": [
    "(px_slider, py_slider, pz_slider, axx_slider, axy_slider, axz_slider,\n",
    " angle_slider, elevation_slider, azimuth_slider) = get_rotation_widgets()\n",
    "\n",
    "interact(plot_widget_rotation, px=px_slider, py=py_slider, pz=pz_slider,\n",
    "    axx=axx_slider, axy=axy_slider, axz=axz_slider, angle=angle_slider,\n",
    "    elevation=elevation_slider, azimuth=azimuth_slider);"
   ]
  },
  {
   "cell_type": "code",
   "execution_count": 7,
   "metadata": {},
   "outputs": [
    {
     "data": {
      "application/vnd.plotly.v1+json": {
       "config": {
        "plotlyServerURL": "https://plot.ly"
       },
       "data": [
        {
         "marker": {
          "color": "red",
          "size": 5
         },
         "mode": "markers",
         "type": "scatter3d",
         "x": [
          0
         ],
         "y": [
          1
         ],
         "z": [
          0
         ]
        },
        {
         "line": {
          "color": "blue",
          "width": 2
         },
         "mode": "lines",
         "type": "scatter3d",
         "x": [
          0,
          0.1008384202581046,
          0.2006488565226854,
          0.2984138044476411,
          0.3931366121483298,
          0.48385164043793466,
          0.5696341069089657,
          0.6496095135057065,
          0.7229625614794605,
          0.7889454628442574,
          0.8468855636029834,
          0.8961922010299563,
          0.9363627251042848,
          0.9669876227092996,
          0.9877546923600838,
          0.9984522269003895,
          0.9989711717233568,
          0.9893062365143401,
          0.9695559491823237,
          0.9399216514301312,
          0.9007054462029555,
          0.8523071179396752,
          0.7952200570230491,
          0.7300262299764464,
          0.6573902466827755,
          0.5780525851065732,
          0.4928220425889235,
          0.40256749066949654,
          0.30820901749007684,
          0.2107085480771929,
          0.11106003812412972,
          0.010279341240534697,
          -0.09060614703340773,
          -0.19056796287548539,
          -0.28858705872043244,
          -0.38366419180611233,
          -0.47483011082223947,
          -0.5611554368152017,
          -0.6417601376193878,
          -0.7158224992291902,
          -0.7825875026542022,
          -0.8413745208608701,
          -0.8915842573351402,
          -0.9327048555318336,
          -0.9643171169287782,
          -0.9860987744909296,
          -0.9978277779792126,
          -0.9993845576124357,
          -0.9907532430056771,
          -0.9720218249588334,
          -0.9433812584459996,
          -0.9051235159501367,
          -0.8576386109880517,
          -0.8014106221689696,
          -0.7370127583189133,
          -0.6651015149788224,
          -0.586409981847235,
          -0.5017403693939113,
          -0.4119558308308628,
          -0.31797166281061867,
          -0.22074597455506334,
          -0.12126992053716677,
          -0.020557596287260064,
          0.08036429967028173,
          0.18046693235991093,
          0.27872981867755725,
          0.37415123057121996,
          0.4657584070256517,
          0.5526174707464059,
          0.6338429484489058,
          0.7086067976992182,
          0.7761468482835805,
          0.8357745720522589,
          0.8868821020290788,
          0.9289484292312513,
          0.9615447140268235,
          0.9843386578838236,
          0.9970978909438748,
          0.9996923408861117,
          0.9920955589323228,
          0.9743849894755358,
          0.9467411805833543,
          0.9094459434244625,
          0.8628794793817836,
          0.8075165041395626,
          0.7439214082568444,
          0.6727425035622647,
          0.5947054140244975,
          0.510605678474283,
          0.4213006405886069,
          0.32770070881349983,
          0.23076007532505177,
          0.13146698864295842,
          0.03083367906114098,
          -0.07011396040064677,
          -0.1703468323280965,
          -0.26884312591038406,
          -0.3645987336558887,
          -0.45663748763377376,
          -0.5440211108893698
         ],
         "y": [
          1,
          0.9949028158568303,
          0.9796632259996998,
          0.9544365884201449,
          0.9194800727522776,
          0.8751500385908233,
          0.82189840263017,
          0.7602680316591506,
          0.6908872083770674,
          0.6144632264484674,
          0.5317751800910392,
          0.4436660217022285,
          0.3510339684920502,
          0.25482334572604864,
          0.15601495992575853,
          0.05561610016580674,
          -0.04534973060188524,
          -0.1458532495141353,
          -0.24486988668507892,
          -0.3413902300489206,
          -0.43443031567828566,
          -0.5230416586748752,
          -0.6063209223738354,
          -0.6834191272904034,
          -0.7535503059294446,
          -0.815999515227557,
          -0.8701301249459654,
          -0.9153903077136357,
          -0.9513186645587279,
          -0.9775489285796396,
          -0.993813698804694,
          -0.9999471661761239,
          -0.9958868038686729,
          -0.981674004711079,
          -0.9574536592123347,
          -0.9234726784944765,
          -0.8800774771896732,
          -0.8277104419618857,
          -0.7669054216542901,
          -0.6982822850375598,
          -0.6225406016393301,
          -0.5404525100747903,
          -0.45285484658127084,
          -0.3606406140014481,
          -0.2647498781834829,
          -0.16616018460355267,
          -0.06587659290724678,
          0.03507856903860484,
          0.13567612713271912,
          0.23489055281917826,
          0.33171041770321597,
          0.42514870442477243,
          0.5142528686769626,
          0.5981145497935533,
          0.6758788309121296,
          0.7467529543114477,
          0.810014403075603,
          0.865018266697566,
          0.9112038155344026,
          0.9481002170917641,
          0.9753313358637337,
          0.9926195677967009,
          0.9997886702873213,
          0.9967655588645231,
          0.983581052239521,
          0.9603695581285238,
          0.9273677030509753,
          0.8849119200716687,
          0.8334350190781794,
          0.7734617745574747,
          0.7056035758515253,
          0.6305521944291881,
          0.5490727317130796,
          0.4619958193539013,
          0.3702091514654802,
          0.2746484351440477,
          0.17628785152548898,
          0.07613012462407193,
          -0.02480370080544784,
          -0.12548466817409182,
          -0.22488639862108173,
          -0.3219955542979381,
          -0.41582216870771727,
          -0.5054097387880672,
          -0.5898449758557073,
          -0.6682671160076287,
          -0.7398766950653171,
          -0.80394369860703,
          -0.859815004003662,
          -0.9069210385913591,
          -0.9447815861050266,
          -0.973010682179788,
          -0.9913205490138658,
          -0.9995245290814802,
          -0.9975389879884077,
          -0.9853841670717991,
          -0.9631839770525324,
          -0.9311647348436916,
          -0.8896528563926016,
          -0.8390715290764524
         ],
         "z": [
          0,
          0.10101010101010101,
          0.20202020202020202,
          0.30303030303030304,
          0.40404040404040403,
          0.5050505050505051,
          0.6060606060606061,
          0.7070707070707071,
          0.8080808080808081,
          0.9090909090909091,
          1.0101010101010102,
          1.1111111111111112,
          1.2121212121212122,
          1.3131313131313131,
          1.4141414141414141,
          1.5151515151515151,
          1.6161616161616161,
          1.7171717171717171,
          1.8181818181818181,
          1.9191919191919191,
          2.0202020202020203,
          2.121212121212121,
          2.2222222222222223,
          2.323232323232323,
          2.4242424242424243,
          2.525252525252525,
          2.6262626262626263,
          2.727272727272727,
          2.8282828282828283,
          2.929292929292929,
          3.0303030303030303,
          3.131313131313131,
          3.2323232323232323,
          3.3333333333333335,
          3.4343434343434343,
          3.5353535353535355,
          3.6363636363636362,
          3.7373737373737375,
          3.8383838383838382,
          3.9393939393939394,
          4.040404040404041,
          4.141414141414141,
          4.242424242424242,
          4.343434343434343,
          4.444444444444445,
          4.545454545454545,
          4.646464646464646,
          4.747474747474747,
          4.848484848484849,
          4.94949494949495,
          5.05050505050505,
          5.151515151515151,
          5.252525252525253,
          5.353535353535354,
          5.454545454545454,
          5.555555555555555,
          5.656565656565657,
          5.757575757575758,
          5.858585858585858,
          5.959595959595959,
          6.0606060606060606,
          6.161616161616162,
          6.262626262626262,
          6.363636363636363,
          6.4646464646464645,
          6.565656565656566,
          6.666666666666667,
          6.767676767676767,
          6.8686868686868685,
          6.96969696969697,
          7.070707070707071,
          7.171717171717171,
          7.2727272727272725,
          7.373737373737374,
          7.474747474747475,
          7.575757575757575,
          7.6767676767676765,
          7.777777777777778,
          7.878787878787879,
          7.979797979797979,
          8.080808080808081,
          8.181818181818182,
          8.282828282828282,
          8.383838383838384,
          8.484848484848484,
          8.585858585858587,
          8.686868686868687,
          8.787878787878787,
          8.88888888888889,
          8.98989898989899,
          9.09090909090909,
          9.191919191919192,
          9.292929292929292,
          9.393939393939394,
          9.494949494949495,
          9.595959595959595,
          9.696969696969697,
          9.797979797979798,
          9.8989898989899,
          10
         ]
        }
       ],
       "frames": [
        {
         "data": [
          {
           "marker": {
            "color": "red",
            "size": 5
           },
           "mode": "markers",
           "type": "scatter3d",
           "x": [
            0.1008384202581046
           ],
           "y": [
            0.9949028158568303
           ],
           "z": [
            0.10101010101010101
           ]
          }
         ]
        },
        {
         "data": [
          {
           "marker": {
            "color": "red",
            "size": 5
           },
           "mode": "markers",
           "type": "scatter3d",
           "x": [
            0.2006488565226854
           ],
           "y": [
            0.9796632259996998
           ],
           "z": [
            0.20202020202020202
           ]
          }
         ]
        },
        {
         "data": [
          {
           "marker": {
            "color": "red",
            "size": 5
           },
           "mode": "markers",
           "type": "scatter3d",
           "x": [
            0.2984138044476411
           ],
           "y": [
            0.9544365884201449
           ],
           "z": [
            0.30303030303030304
           ]
          }
         ]
        },
        {
         "data": [
          {
           "marker": {
            "color": "red",
            "size": 5
           },
           "mode": "markers",
           "type": "scatter3d",
           "x": [
            0.3931366121483298
           ],
           "y": [
            0.9194800727522776
           ],
           "z": [
            0.40404040404040403
           ]
          }
         ]
        },
        {
         "data": [
          {
           "marker": {
            "color": "red",
            "size": 5
           },
           "mode": "markers",
           "type": "scatter3d",
           "x": [
            0.48385164043793466
           ],
           "y": [
            0.8751500385908233
           ],
           "z": [
            0.5050505050505051
           ]
          }
         ]
        },
        {
         "data": [
          {
           "marker": {
            "color": "red",
            "size": 5
           },
           "mode": "markers",
           "type": "scatter3d",
           "x": [
            0.5696341069089657
           ],
           "y": [
            0.82189840263017
           ],
           "z": [
            0.6060606060606061
           ]
          }
         ]
        },
        {
         "data": [
          {
           "marker": {
            "color": "red",
            "size": 5
           },
           "mode": "markers",
           "type": "scatter3d",
           "x": [
            0.6496095135057065
           ],
           "y": [
            0.7602680316591506
           ],
           "z": [
            0.7070707070707071
           ]
          }
         ]
        },
        {
         "data": [
          {
           "marker": {
            "color": "red",
            "size": 5
           },
           "mode": "markers",
           "type": "scatter3d",
           "x": [
            0.7229625614794605
           ],
           "y": [
            0.6908872083770674
           ],
           "z": [
            0.8080808080808081
           ]
          }
         ]
        },
        {
         "data": [
          {
           "marker": {
            "color": "red",
            "size": 5
           },
           "mode": "markers",
           "type": "scatter3d",
           "x": [
            0.7889454628442574
           ],
           "y": [
            0.6144632264484674
           ],
           "z": [
            0.9090909090909091
           ]
          }
         ]
        },
        {
         "data": [
          {
           "marker": {
            "color": "red",
            "size": 5
           },
           "mode": "markers",
           "type": "scatter3d",
           "x": [
            0.8468855636029834
           ],
           "y": [
            0.5317751800910392
           ],
           "z": [
            1.0101010101010102
           ]
          }
         ]
        },
        {
         "data": [
          {
           "marker": {
            "color": "red",
            "size": 5
           },
           "mode": "markers",
           "type": "scatter3d",
           "x": [
            0.8961922010299563
           ],
           "y": [
            0.4436660217022285
           ],
           "z": [
            1.1111111111111112
           ]
          }
         ]
        },
        {
         "data": [
          {
           "marker": {
            "color": "red",
            "size": 5
           },
           "mode": "markers",
           "type": "scatter3d",
           "x": [
            0.9363627251042848
           ],
           "y": [
            0.3510339684920502
           ],
           "z": [
            1.2121212121212122
           ]
          }
         ]
        },
        {
         "data": [
          {
           "marker": {
            "color": "red",
            "size": 5
           },
           "mode": "markers",
           "type": "scatter3d",
           "x": [
            0.9669876227092996
           ],
           "y": [
            0.25482334572604864
           ],
           "z": [
            1.3131313131313131
           ]
          }
         ]
        },
        {
         "data": [
          {
           "marker": {
            "color": "red",
            "size": 5
           },
           "mode": "markers",
           "type": "scatter3d",
           "x": [
            0.9877546923600838
           ],
           "y": [
            0.15601495992575853
           ],
           "z": [
            1.4141414141414141
           ]
          }
         ]
        },
        {
         "data": [
          {
           "marker": {
            "color": "red",
            "size": 5
           },
           "mode": "markers",
           "type": "scatter3d",
           "x": [
            0.9984522269003895
           ],
           "y": [
            0.05561610016580674
           ],
           "z": [
            1.5151515151515151
           ]
          }
         ]
        },
        {
         "data": [
          {
           "marker": {
            "color": "red",
            "size": 5
           },
           "mode": "markers",
           "type": "scatter3d",
           "x": [
            0.9989711717233568
           ],
           "y": [
            -0.04534973060188524
           ],
           "z": [
            1.6161616161616161
           ]
          }
         ]
        },
        {
         "data": [
          {
           "marker": {
            "color": "red",
            "size": 5
           },
           "mode": "markers",
           "type": "scatter3d",
           "x": [
            0.9893062365143401
           ],
           "y": [
            -0.1458532495141353
           ],
           "z": [
            1.7171717171717171
           ]
          }
         ]
        },
        {
         "data": [
          {
           "marker": {
            "color": "red",
            "size": 5
           },
           "mode": "markers",
           "type": "scatter3d",
           "x": [
            0.9695559491823237
           ],
           "y": [
            -0.24486988668507892
           ],
           "z": [
            1.8181818181818181
           ]
          }
         ]
        },
        {
         "data": [
          {
           "marker": {
            "color": "red",
            "size": 5
           },
           "mode": "markers",
           "type": "scatter3d",
           "x": [
            0.9399216514301312
           ],
           "y": [
            -0.3413902300489206
           ],
           "z": [
            1.9191919191919191
           ]
          }
         ]
        },
        {
         "data": [
          {
           "marker": {
            "color": "red",
            "size": 5
           },
           "mode": "markers",
           "type": "scatter3d",
           "x": [
            0.9007054462029555
           ],
           "y": [
            -0.43443031567828566
           ],
           "z": [
            2.0202020202020203
           ]
          }
         ]
        },
        {
         "data": [
          {
           "marker": {
            "color": "red",
            "size": 5
           },
           "mode": "markers",
           "type": "scatter3d",
           "x": [
            0.8523071179396752
           ],
           "y": [
            -0.5230416586748752
           ],
           "z": [
            2.121212121212121
           ]
          }
         ]
        },
        {
         "data": [
          {
           "marker": {
            "color": "red",
            "size": 5
           },
           "mode": "markers",
           "type": "scatter3d",
           "x": [
            0.7952200570230491
           ],
           "y": [
            -0.6063209223738354
           ],
           "z": [
            2.2222222222222223
           ]
          }
         ]
        },
        {
         "data": [
          {
           "marker": {
            "color": "red",
            "size": 5
           },
           "mode": "markers",
           "type": "scatter3d",
           "x": [
            0.7300262299764464
           ],
           "y": [
            -0.6834191272904034
           ],
           "z": [
            2.323232323232323
           ]
          }
         ]
        },
        {
         "data": [
          {
           "marker": {
            "color": "red",
            "size": 5
           },
           "mode": "markers",
           "type": "scatter3d",
           "x": [
            0.6573902466827755
           ],
           "y": [
            -0.7535503059294446
           ],
           "z": [
            2.4242424242424243
           ]
          }
         ]
        },
        {
         "data": [
          {
           "marker": {
            "color": "red",
            "size": 5
           },
           "mode": "markers",
           "type": "scatter3d",
           "x": [
            0.5780525851065732
           ],
           "y": [
            -0.815999515227557
           ],
           "z": [
            2.525252525252525
           ]
          }
         ]
        },
        {
         "data": [
          {
           "marker": {
            "color": "red",
            "size": 5
           },
           "mode": "markers",
           "type": "scatter3d",
           "x": [
            0.4928220425889235
           ],
           "y": [
            -0.8701301249459654
           ],
           "z": [
            2.6262626262626263
           ]
          }
         ]
        },
        {
         "data": [
          {
           "marker": {
            "color": "red",
            "size": 5
           },
           "mode": "markers",
           "type": "scatter3d",
           "x": [
            0.40256749066949654
           ],
           "y": [
            -0.9153903077136357
           ],
           "z": [
            2.727272727272727
           ]
          }
         ]
        },
        {
         "data": [
          {
           "marker": {
            "color": "red",
            "size": 5
           },
           "mode": "markers",
           "type": "scatter3d",
           "x": [
            0.30820901749007684
           ],
           "y": [
            -0.9513186645587279
           ],
           "z": [
            2.8282828282828283
           ]
          }
         ]
        },
        {
         "data": [
          {
           "marker": {
            "color": "red",
            "size": 5
           },
           "mode": "markers",
           "type": "scatter3d",
           "x": [
            0.2107085480771929
           ],
           "y": [
            -0.9775489285796396
           ],
           "z": [
            2.929292929292929
           ]
          }
         ]
        },
        {
         "data": [
          {
           "marker": {
            "color": "red",
            "size": 5
           },
           "mode": "markers",
           "type": "scatter3d",
           "x": [
            0.11106003812412972
           ],
           "y": [
            -0.993813698804694
           ],
           "z": [
            3.0303030303030303
           ]
          }
         ]
        },
        {
         "data": [
          {
           "marker": {
            "color": "red",
            "size": 5
           },
           "mode": "markers",
           "type": "scatter3d",
           "x": [
            0.010279341240534697
           ],
           "y": [
            -0.9999471661761239
           ],
           "z": [
            3.131313131313131
           ]
          }
         ]
        },
        {
         "data": [
          {
           "marker": {
            "color": "red",
            "size": 5
           },
           "mode": "markers",
           "type": "scatter3d",
           "x": [
            -0.09060614703340773
           ],
           "y": [
            -0.9958868038686729
           ],
           "z": [
            3.2323232323232323
           ]
          }
         ]
        },
        {
         "data": [
          {
           "marker": {
            "color": "red",
            "size": 5
           },
           "mode": "markers",
           "type": "scatter3d",
           "x": [
            -0.19056796287548539
           ],
           "y": [
            -0.981674004711079
           ],
           "z": [
            3.3333333333333335
           ]
          }
         ]
        },
        {
         "data": [
          {
           "marker": {
            "color": "red",
            "size": 5
           },
           "mode": "markers",
           "type": "scatter3d",
           "x": [
            -0.28858705872043244
           ],
           "y": [
            -0.9574536592123347
           ],
           "z": [
            3.4343434343434343
           ]
          }
         ]
        },
        {
         "data": [
          {
           "marker": {
            "color": "red",
            "size": 5
           },
           "mode": "markers",
           "type": "scatter3d",
           "x": [
            -0.38366419180611233
           ],
           "y": [
            -0.9234726784944765
           ],
           "z": [
            3.5353535353535355
           ]
          }
         ]
        },
        {
         "data": [
          {
           "marker": {
            "color": "red",
            "size": 5
           },
           "mode": "markers",
           "type": "scatter3d",
           "x": [
            -0.47483011082223947
           ],
           "y": [
            -0.8800774771896732
           ],
           "z": [
            3.6363636363636362
           ]
          }
         ]
        },
        {
         "data": [
          {
           "marker": {
            "color": "red",
            "size": 5
           },
           "mode": "markers",
           "type": "scatter3d",
           "x": [
            -0.5611554368152017
           ],
           "y": [
            -0.8277104419618857
           ],
           "z": [
            3.7373737373737375
           ]
          }
         ]
        },
        {
         "data": [
          {
           "marker": {
            "color": "red",
            "size": 5
           },
           "mode": "markers",
           "type": "scatter3d",
           "x": [
            -0.6417601376193878
           ],
           "y": [
            -0.7669054216542901
           ],
           "z": [
            3.8383838383838382
           ]
          }
         ]
        },
        {
         "data": [
          {
           "marker": {
            "color": "red",
            "size": 5
           },
           "mode": "markers",
           "type": "scatter3d",
           "x": [
            -0.7158224992291902
           ],
           "y": [
            -0.6982822850375598
           ],
           "z": [
            3.9393939393939394
           ]
          }
         ]
        },
        {
         "data": [
          {
           "marker": {
            "color": "red",
            "size": 5
           },
           "mode": "markers",
           "type": "scatter3d",
           "x": [
            -0.7825875026542022
           ],
           "y": [
            -0.6225406016393301
           ],
           "z": [
            4.040404040404041
           ]
          }
         ]
        },
        {
         "data": [
          {
           "marker": {
            "color": "red",
            "size": 5
           },
           "mode": "markers",
           "type": "scatter3d",
           "x": [
            -0.8413745208608701
           ],
           "y": [
            -0.5404525100747903
           ],
           "z": [
            4.141414141414141
           ]
          }
         ]
        },
        {
         "data": [
          {
           "marker": {
            "color": "red",
            "size": 5
           },
           "mode": "markers",
           "type": "scatter3d",
           "x": [
            -0.8915842573351402
           ],
           "y": [
            -0.45285484658127084
           ],
           "z": [
            4.242424242424242
           ]
          }
         ]
        },
        {
         "data": [
          {
           "marker": {
            "color": "red",
            "size": 5
           },
           "mode": "markers",
           "type": "scatter3d",
           "x": [
            -0.9327048555318336
           ],
           "y": [
            -0.3606406140014481
           ],
           "z": [
            4.343434343434343
           ]
          }
         ]
        },
        {
         "data": [
          {
           "marker": {
            "color": "red",
            "size": 5
           },
           "mode": "markers",
           "type": "scatter3d",
           "x": [
            -0.9643171169287782
           ],
           "y": [
            -0.2647498781834829
           ],
           "z": [
            4.444444444444445
           ]
          }
         ]
        },
        {
         "data": [
          {
           "marker": {
            "color": "red",
            "size": 5
           },
           "mode": "markers",
           "type": "scatter3d",
           "x": [
            -0.9860987744909296
           ],
           "y": [
            -0.16616018460355267
           ],
           "z": [
            4.545454545454545
           ]
          }
         ]
        },
        {
         "data": [
          {
           "marker": {
            "color": "red",
            "size": 5
           },
           "mode": "markers",
           "type": "scatter3d",
           "x": [
            -0.9978277779792126
           ],
           "y": [
            -0.06587659290724678
           ],
           "z": [
            4.646464646464646
           ]
          }
         ]
        },
        {
         "data": [
          {
           "marker": {
            "color": "red",
            "size": 5
           },
           "mode": "markers",
           "type": "scatter3d",
           "x": [
            -0.9993845576124357
           ],
           "y": [
            0.03507856903860484
           ],
           "z": [
            4.747474747474747
           ]
          }
         ]
        },
        {
         "data": [
          {
           "marker": {
            "color": "red",
            "size": 5
           },
           "mode": "markers",
           "type": "scatter3d",
           "x": [
            -0.9907532430056771
           ],
           "y": [
            0.13567612713271912
           ],
           "z": [
            4.848484848484849
           ]
          }
         ]
        },
        {
         "data": [
          {
           "marker": {
            "color": "red",
            "size": 5
           },
           "mode": "markers",
           "type": "scatter3d",
           "x": [
            -0.9720218249588334
           ],
           "y": [
            0.23489055281917826
           ],
           "z": [
            4.94949494949495
           ]
          }
         ]
        },
        {
         "data": [
          {
           "marker": {
            "color": "red",
            "size": 5
           },
           "mode": "markers",
           "type": "scatter3d",
           "x": [
            -0.9433812584459996
           ],
           "y": [
            0.33171041770321597
           ],
           "z": [
            5.05050505050505
           ]
          }
         ]
        },
        {
         "data": [
          {
           "marker": {
            "color": "red",
            "size": 5
           },
           "mode": "markers",
           "type": "scatter3d",
           "x": [
            -0.9051235159501367
           ],
           "y": [
            0.42514870442477243
           ],
           "z": [
            5.151515151515151
           ]
          }
         ]
        },
        {
         "data": [
          {
           "marker": {
            "color": "red",
            "size": 5
           },
           "mode": "markers",
           "type": "scatter3d",
           "x": [
            -0.8576386109880517
           ],
           "y": [
            0.5142528686769626
           ],
           "z": [
            5.252525252525253
           ]
          }
         ]
        },
        {
         "data": [
          {
           "marker": {
            "color": "red",
            "size": 5
           },
           "mode": "markers",
           "type": "scatter3d",
           "x": [
            -0.8014106221689696
           ],
           "y": [
            0.5981145497935533
           ],
           "z": [
            5.353535353535354
           ]
          }
         ]
        },
        {
         "data": [
          {
           "marker": {
            "color": "red",
            "size": 5
           },
           "mode": "markers",
           "type": "scatter3d",
           "x": [
            -0.7370127583189133
           ],
           "y": [
            0.6758788309121296
           ],
           "z": [
            5.454545454545454
           ]
          }
         ]
        },
        {
         "data": [
          {
           "marker": {
            "color": "red",
            "size": 5
           },
           "mode": "markers",
           "type": "scatter3d",
           "x": [
            -0.6651015149788224
           ],
           "y": [
            0.7467529543114477
           ],
           "z": [
            5.555555555555555
           ]
          }
         ]
        },
        {
         "data": [
          {
           "marker": {
            "color": "red",
            "size": 5
           },
           "mode": "markers",
           "type": "scatter3d",
           "x": [
            -0.586409981847235
           ],
           "y": [
            0.810014403075603
           ],
           "z": [
            5.656565656565657
           ]
          }
         ]
        },
        {
         "data": [
          {
           "marker": {
            "color": "red",
            "size": 5
           },
           "mode": "markers",
           "type": "scatter3d",
           "x": [
            -0.5017403693939113
           ],
           "y": [
            0.865018266697566
           ],
           "z": [
            5.757575757575758
           ]
          }
         ]
        },
        {
         "data": [
          {
           "marker": {
            "color": "red",
            "size": 5
           },
           "mode": "markers",
           "type": "scatter3d",
           "x": [
            -0.4119558308308628
           ],
           "y": [
            0.9112038155344026
           ],
           "z": [
            5.858585858585858
           ]
          }
         ]
        },
        {
         "data": [
          {
           "marker": {
            "color": "red",
            "size": 5
           },
           "mode": "markers",
           "type": "scatter3d",
           "x": [
            -0.31797166281061867
           ],
           "y": [
            0.9481002170917641
           ],
           "z": [
            5.959595959595959
           ]
          }
         ]
        },
        {
         "data": [
          {
           "marker": {
            "color": "red",
            "size": 5
           },
           "mode": "markers",
           "type": "scatter3d",
           "x": [
            -0.22074597455506334
           ],
           "y": [
            0.9753313358637337
           ],
           "z": [
            6.0606060606060606
           ]
          }
         ]
        },
        {
         "data": [
          {
           "marker": {
            "color": "red",
            "size": 5
           },
           "mode": "markers",
           "type": "scatter3d",
           "x": [
            -0.12126992053716677
           ],
           "y": [
            0.9926195677967009
           ],
           "z": [
            6.161616161616162
           ]
          }
         ]
        },
        {
         "data": [
          {
           "marker": {
            "color": "red",
            "size": 5
           },
           "mode": "markers",
           "type": "scatter3d",
           "x": [
            -0.020557596287260064
           ],
           "y": [
            0.9997886702873213
           ],
           "z": [
            6.262626262626262
           ]
          }
         ]
        },
        {
         "data": [
          {
           "marker": {
            "color": "red",
            "size": 5
           },
           "mode": "markers",
           "type": "scatter3d",
           "x": [
            0.08036429967028173
           ],
           "y": [
            0.9967655588645231
           ],
           "z": [
            6.363636363636363
           ]
          }
         ]
        },
        {
         "data": [
          {
           "marker": {
            "color": "red",
            "size": 5
           },
           "mode": "markers",
           "type": "scatter3d",
           "x": [
            0.18046693235991093
           ],
           "y": [
            0.983581052239521
           ],
           "z": [
            6.4646464646464645
           ]
          }
         ]
        },
        {
         "data": [
          {
           "marker": {
            "color": "red",
            "size": 5
           },
           "mode": "markers",
           "type": "scatter3d",
           "x": [
            0.27872981867755725
           ],
           "y": [
            0.9603695581285238
           ],
           "z": [
            6.565656565656566
           ]
          }
         ]
        },
        {
         "data": [
          {
           "marker": {
            "color": "red",
            "size": 5
           },
           "mode": "markers",
           "type": "scatter3d",
           "x": [
            0.37415123057121996
           ],
           "y": [
            0.9273677030509753
           ],
           "z": [
            6.666666666666667
           ]
          }
         ]
        },
        {
         "data": [
          {
           "marker": {
            "color": "red",
            "size": 5
           },
           "mode": "markers",
           "type": "scatter3d",
           "x": [
            0.4657584070256517
           ],
           "y": [
            0.8849119200716687
           ],
           "z": [
            6.767676767676767
           ]
          }
         ]
        },
        {
         "data": [
          {
           "marker": {
            "color": "red",
            "size": 5
           },
           "mode": "markers",
           "type": "scatter3d",
           "x": [
            0.5526174707464059
           ],
           "y": [
            0.8334350190781794
           ],
           "z": [
            6.8686868686868685
           ]
          }
         ]
        },
        {
         "data": [
          {
           "marker": {
            "color": "red",
            "size": 5
           },
           "mode": "markers",
           "type": "scatter3d",
           "x": [
            0.6338429484489058
           ],
           "y": [
            0.7734617745574747
           ],
           "z": [
            6.96969696969697
           ]
          }
         ]
        },
        {
         "data": [
          {
           "marker": {
            "color": "red",
            "size": 5
           },
           "mode": "markers",
           "type": "scatter3d",
           "x": [
            0.7086067976992182
           ],
           "y": [
            0.7056035758515253
           ],
           "z": [
            7.070707070707071
           ]
          }
         ]
        },
        {
         "data": [
          {
           "marker": {
            "color": "red",
            "size": 5
           },
           "mode": "markers",
           "type": "scatter3d",
           "x": [
            0.7761468482835805
           ],
           "y": [
            0.6305521944291881
           ],
           "z": [
            7.171717171717171
           ]
          }
         ]
        },
        {
         "data": [
          {
           "marker": {
            "color": "red",
            "size": 5
           },
           "mode": "markers",
           "type": "scatter3d",
           "x": [
            0.8357745720522589
           ],
           "y": [
            0.5490727317130796
           ],
           "z": [
            7.2727272727272725
           ]
          }
         ]
        },
        {
         "data": [
          {
           "marker": {
            "color": "red",
            "size": 5
           },
           "mode": "markers",
           "type": "scatter3d",
           "x": [
            0.8868821020290788
           ],
           "y": [
            0.4619958193539013
           ],
           "z": [
            7.373737373737374
           ]
          }
         ]
        },
        {
         "data": [
          {
           "marker": {
            "color": "red",
            "size": 5
           },
           "mode": "markers",
           "type": "scatter3d",
           "x": [
            0.9289484292312513
           ],
           "y": [
            0.3702091514654802
           ],
           "z": [
            7.474747474747475
           ]
          }
         ]
        },
        {
         "data": [
          {
           "marker": {
            "color": "red",
            "size": 5
           },
           "mode": "markers",
           "type": "scatter3d",
           "x": [
            0.9615447140268235
           ],
           "y": [
            0.2746484351440477
           ],
           "z": [
            7.575757575757575
           ]
          }
         ]
        },
        {
         "data": [
          {
           "marker": {
            "color": "red",
            "size": 5
           },
           "mode": "markers",
           "type": "scatter3d",
           "x": [
            0.9843386578838236
           ],
           "y": [
            0.17628785152548898
           ],
           "z": [
            7.6767676767676765
           ]
          }
         ]
        },
        {
         "data": [
          {
           "marker": {
            "color": "red",
            "size": 5
           },
           "mode": "markers",
           "type": "scatter3d",
           "x": [
            0.9970978909438748
           ],
           "y": [
            0.07613012462407193
           ],
           "z": [
            7.777777777777778
           ]
          }
         ]
        },
        {
         "data": [
          {
           "marker": {
            "color": "red",
            "size": 5
           },
           "mode": "markers",
           "type": "scatter3d",
           "x": [
            0.9996923408861117
           ],
           "y": [
            -0.02480370080544784
           ],
           "z": [
            7.878787878787879
           ]
          }
         ]
        },
        {
         "data": [
          {
           "marker": {
            "color": "red",
            "size": 5
           },
           "mode": "markers",
           "type": "scatter3d",
           "x": [
            0.9920955589323228
           ],
           "y": [
            -0.12548466817409182
           ],
           "z": [
            7.979797979797979
           ]
          }
         ]
        },
        {
         "data": [
          {
           "marker": {
            "color": "red",
            "size": 5
           },
           "mode": "markers",
           "type": "scatter3d",
           "x": [
            0.9743849894755358
           ],
           "y": [
            -0.22488639862108173
           ],
           "z": [
            8.080808080808081
           ]
          }
         ]
        },
        {
         "data": [
          {
           "marker": {
            "color": "red",
            "size": 5
           },
           "mode": "markers",
           "type": "scatter3d",
           "x": [
            0.9467411805833543
           ],
           "y": [
            -0.3219955542979381
           ],
           "z": [
            8.181818181818182
           ]
          }
         ]
        },
        {
         "data": [
          {
           "marker": {
            "color": "red",
            "size": 5
           },
           "mode": "markers",
           "type": "scatter3d",
           "x": [
            0.9094459434244625
           ],
           "y": [
            -0.41582216870771727
           ],
           "z": [
            8.282828282828282
           ]
          }
         ]
        },
        {
         "data": [
          {
           "marker": {
            "color": "red",
            "size": 5
           },
           "mode": "markers",
           "type": "scatter3d",
           "x": [
            0.8628794793817836
           ],
           "y": [
            -0.5054097387880672
           ],
           "z": [
            8.383838383838384
           ]
          }
         ]
        },
        {
         "data": [
          {
           "marker": {
            "color": "red",
            "size": 5
           },
           "mode": "markers",
           "type": "scatter3d",
           "x": [
            0.8075165041395626
           ],
           "y": [
            -0.5898449758557073
           ],
           "z": [
            8.484848484848484
           ]
          }
         ]
        },
        {
         "data": [
          {
           "marker": {
            "color": "red",
            "size": 5
           },
           "mode": "markers",
           "type": "scatter3d",
           "x": [
            0.7439214082568444
           ],
           "y": [
            -0.6682671160076287
           ],
           "z": [
            8.585858585858587
           ]
          }
         ]
        },
        {
         "data": [
          {
           "marker": {
            "color": "red",
            "size": 5
           },
           "mode": "markers",
           "type": "scatter3d",
           "x": [
            0.6727425035622647
           ],
           "y": [
            -0.7398766950653171
           ],
           "z": [
            8.686868686868687
           ]
          }
         ]
        },
        {
         "data": [
          {
           "marker": {
            "color": "red",
            "size": 5
           },
           "mode": "markers",
           "type": "scatter3d",
           "x": [
            0.5947054140244975
           ],
           "y": [
            -0.80394369860703
           ],
           "z": [
            8.787878787878787
           ]
          }
         ]
        },
        {
         "data": [
          {
           "marker": {
            "color": "red",
            "size": 5
           },
           "mode": "markers",
           "type": "scatter3d",
           "x": [
            0.510605678474283
           ],
           "y": [
            -0.859815004003662
           ],
           "z": [
            8.88888888888889
           ]
          }
         ]
        },
        {
         "data": [
          {
           "marker": {
            "color": "red",
            "size": 5
           },
           "mode": "markers",
           "type": "scatter3d",
           "x": [
            0.4213006405886069
           ],
           "y": [
            -0.9069210385913591
           ],
           "z": [
            8.98989898989899
           ]
          }
         ]
        },
        {
         "data": [
          {
           "marker": {
            "color": "red",
            "size": 5
           },
           "mode": "markers",
           "type": "scatter3d",
           "x": [
            0.32770070881349983
           ],
           "y": [
            -0.9447815861050266
           ],
           "z": [
            9.09090909090909
           ]
          }
         ]
        },
        {
         "data": [
          {
           "marker": {
            "color": "red",
            "size": 5
           },
           "mode": "markers",
           "type": "scatter3d",
           "x": [
            0.23076007532505177
           ],
           "y": [
            -0.973010682179788
           ],
           "z": [
            9.191919191919192
           ]
          }
         ]
        },
        {
         "data": [
          {
           "marker": {
            "color": "red",
            "size": 5
           },
           "mode": "markers",
           "type": "scatter3d",
           "x": [
            0.13146698864295842
           ],
           "y": [
            -0.9913205490138658
           ],
           "z": [
            9.292929292929292
           ]
          }
         ]
        },
        {
         "data": [
          {
           "marker": {
            "color": "red",
            "size": 5
           },
           "mode": "markers",
           "type": "scatter3d",
           "x": [
            0.03083367906114098
           ],
           "y": [
            -0.9995245290814802
           ],
           "z": [
            9.393939393939394
           ]
          }
         ]
        },
        {
         "data": [
          {
           "marker": {
            "color": "red",
            "size": 5
           },
           "mode": "markers",
           "type": "scatter3d",
           "x": [
            -0.07011396040064677
           ],
           "y": [
            -0.9975389879884077
           ],
           "z": [
            9.494949494949495
           ]
          }
         ]
        },
        {
         "data": [
          {
           "marker": {
            "color": "red",
            "size": 5
           },
           "mode": "markers",
           "type": "scatter3d",
           "x": [
            -0.1703468323280965
           ],
           "y": [
            -0.9853841670717991
           ],
           "z": [
            9.595959595959595
           ]
          }
         ]
        },
        {
         "data": [
          {
           "marker": {
            "color": "red",
            "size": 5
           },
           "mode": "markers",
           "type": "scatter3d",
           "x": [
            -0.26884312591038406
           ],
           "y": [
            -0.9631839770525324
           ],
           "z": [
            9.696969696969697
           ]
          }
         ]
        },
        {
         "data": [
          {
           "marker": {
            "color": "red",
            "size": 5
           },
           "mode": "markers",
           "type": "scatter3d",
           "x": [
            -0.3645987336558887
           ],
           "y": [
            -0.9311647348436916
           ],
           "z": [
            9.797979797979798
           ]
          }
         ]
        },
        {
         "data": [
          {
           "marker": {
            "color": "red",
            "size": 5
           },
           "mode": "markers",
           "type": "scatter3d",
           "x": [
            -0.45663748763377376
           ],
           "y": [
            -0.8896528563926016
           ],
           "z": [
            9.8989898989899
           ]
          }
         ]
        },
        {
         "data": [
          {
           "marker": {
            "color": "red",
            "size": 5
           },
           "mode": "markers",
           "type": "scatter3d",
           "x": [
            -0.5440211108893698
           ],
           "y": [
            -0.8390715290764524
           ],
           "z": [
            10
           ]
          }
         ]
        }
       ],
       "layout": {
        "scene": {
         "xaxis": {
          "title": {
           "text": "X Axis"
          }
         },
         "yaxis": {
          "title": {
           "text": "Y Axis"
          }
         },
         "zaxis": {
          "title": {
           "text": "Z Axis"
          }
         }
        },
        "template": {
         "data": {
          "bar": [
           {
            "error_x": {
             "color": "#2a3f5f"
            },
            "error_y": {
             "color": "#2a3f5f"
            },
            "marker": {
             "line": {
              "color": "#E5ECF6",
              "width": 0.5
             },
             "pattern": {
              "fillmode": "overlay",
              "size": 10,
              "solidity": 0.2
             }
            },
            "type": "bar"
           }
          ],
          "barpolar": [
           {
            "marker": {
             "line": {
              "color": "#E5ECF6",
              "width": 0.5
             },
             "pattern": {
              "fillmode": "overlay",
              "size": 10,
              "solidity": 0.2
             }
            },
            "type": "barpolar"
           }
          ],
          "carpet": [
           {
            "aaxis": {
             "endlinecolor": "#2a3f5f",
             "gridcolor": "white",
             "linecolor": "white",
             "minorgridcolor": "white",
             "startlinecolor": "#2a3f5f"
            },
            "baxis": {
             "endlinecolor": "#2a3f5f",
             "gridcolor": "white",
             "linecolor": "white",
             "minorgridcolor": "white",
             "startlinecolor": "#2a3f5f"
            },
            "type": "carpet"
           }
          ],
          "choropleth": [
           {
            "colorbar": {
             "outlinewidth": 0,
             "ticks": ""
            },
            "type": "choropleth"
           }
          ],
          "contour": [
           {
            "colorbar": {
             "outlinewidth": 0,
             "ticks": ""
            },
            "colorscale": [
             [
              0,
              "#0d0887"
             ],
             [
              0.1111111111111111,
              "#46039f"
             ],
             [
              0.2222222222222222,
              "#7201a8"
             ],
             [
              0.3333333333333333,
              "#9c179e"
             ],
             [
              0.4444444444444444,
              "#bd3786"
             ],
             [
              0.5555555555555556,
              "#d8576b"
             ],
             [
              0.6666666666666666,
              "#ed7953"
             ],
             [
              0.7777777777777778,
              "#fb9f3a"
             ],
             [
              0.8888888888888888,
              "#fdca26"
             ],
             [
              1,
              "#f0f921"
             ]
            ],
            "type": "contour"
           }
          ],
          "contourcarpet": [
           {
            "colorbar": {
             "outlinewidth": 0,
             "ticks": ""
            },
            "type": "contourcarpet"
           }
          ],
          "heatmap": [
           {
            "colorbar": {
             "outlinewidth": 0,
             "ticks": ""
            },
            "colorscale": [
             [
              0,
              "#0d0887"
             ],
             [
              0.1111111111111111,
              "#46039f"
             ],
             [
              0.2222222222222222,
              "#7201a8"
             ],
             [
              0.3333333333333333,
              "#9c179e"
             ],
             [
              0.4444444444444444,
              "#bd3786"
             ],
             [
              0.5555555555555556,
              "#d8576b"
             ],
             [
              0.6666666666666666,
              "#ed7953"
             ],
             [
              0.7777777777777778,
              "#fb9f3a"
             ],
             [
              0.8888888888888888,
              "#fdca26"
             ],
             [
              1,
              "#f0f921"
             ]
            ],
            "type": "heatmap"
           }
          ],
          "heatmapgl": [
           {
            "colorbar": {
             "outlinewidth": 0,
             "ticks": ""
            },
            "colorscale": [
             [
              0,
              "#0d0887"
             ],
             [
              0.1111111111111111,
              "#46039f"
             ],
             [
              0.2222222222222222,
              "#7201a8"
             ],
             [
              0.3333333333333333,
              "#9c179e"
             ],
             [
              0.4444444444444444,
              "#bd3786"
             ],
             [
              0.5555555555555556,
              "#d8576b"
             ],
             [
              0.6666666666666666,
              "#ed7953"
             ],
             [
              0.7777777777777778,
              "#fb9f3a"
             ],
             [
              0.8888888888888888,
              "#fdca26"
             ],
             [
              1,
              "#f0f921"
             ]
            ],
            "type": "heatmapgl"
           }
          ],
          "histogram": [
           {
            "marker": {
             "pattern": {
              "fillmode": "overlay",
              "size": 10,
              "solidity": 0.2
             }
            },
            "type": "histogram"
           }
          ],
          "histogram2d": [
           {
            "colorbar": {
             "outlinewidth": 0,
             "ticks": ""
            },
            "colorscale": [
             [
              0,
              "#0d0887"
             ],
             [
              0.1111111111111111,
              "#46039f"
             ],
             [
              0.2222222222222222,
              "#7201a8"
             ],
             [
              0.3333333333333333,
              "#9c179e"
             ],
             [
              0.4444444444444444,
              "#bd3786"
             ],
             [
              0.5555555555555556,
              "#d8576b"
             ],
             [
              0.6666666666666666,
              "#ed7953"
             ],
             [
              0.7777777777777778,
              "#fb9f3a"
             ],
             [
              0.8888888888888888,
              "#fdca26"
             ],
             [
              1,
              "#f0f921"
             ]
            ],
            "type": "histogram2d"
           }
          ],
          "histogram2dcontour": [
           {
            "colorbar": {
             "outlinewidth": 0,
             "ticks": ""
            },
            "colorscale": [
             [
              0,
              "#0d0887"
             ],
             [
              0.1111111111111111,
              "#46039f"
             ],
             [
              0.2222222222222222,
              "#7201a8"
             ],
             [
              0.3333333333333333,
              "#9c179e"
             ],
             [
              0.4444444444444444,
              "#bd3786"
             ],
             [
              0.5555555555555556,
              "#d8576b"
             ],
             [
              0.6666666666666666,
              "#ed7953"
             ],
             [
              0.7777777777777778,
              "#fb9f3a"
             ],
             [
              0.8888888888888888,
              "#fdca26"
             ],
             [
              1,
              "#f0f921"
             ]
            ],
            "type": "histogram2dcontour"
           }
          ],
          "mesh3d": [
           {
            "colorbar": {
             "outlinewidth": 0,
             "ticks": ""
            },
            "type": "mesh3d"
           }
          ],
          "parcoords": [
           {
            "line": {
             "colorbar": {
              "outlinewidth": 0,
              "ticks": ""
             }
            },
            "type": "parcoords"
           }
          ],
          "pie": [
           {
            "automargin": true,
            "type": "pie"
           }
          ],
          "scatter": [
           {
            "fillpattern": {
             "fillmode": "overlay",
             "size": 10,
             "solidity": 0.2
            },
            "type": "scatter"
           }
          ],
          "scatter3d": [
           {
            "line": {
             "colorbar": {
              "outlinewidth": 0,
              "ticks": ""
             }
            },
            "marker": {
             "colorbar": {
              "outlinewidth": 0,
              "ticks": ""
             }
            },
            "type": "scatter3d"
           }
          ],
          "scattercarpet": [
           {
            "marker": {
             "colorbar": {
              "outlinewidth": 0,
              "ticks": ""
             }
            },
            "type": "scattercarpet"
           }
          ],
          "scattergeo": [
           {
            "marker": {
             "colorbar": {
              "outlinewidth": 0,
              "ticks": ""
             }
            },
            "type": "scattergeo"
           }
          ],
          "scattergl": [
           {
            "marker": {
             "colorbar": {
              "outlinewidth": 0,
              "ticks": ""
             }
            },
            "type": "scattergl"
           }
          ],
          "scattermapbox": [
           {
            "marker": {
             "colorbar": {
              "outlinewidth": 0,
              "ticks": ""
             }
            },
            "type": "scattermapbox"
           }
          ],
          "scatterpolar": [
           {
            "marker": {
             "colorbar": {
              "outlinewidth": 0,
              "ticks": ""
             }
            },
            "type": "scatterpolar"
           }
          ],
          "scatterpolargl": [
           {
            "marker": {
             "colorbar": {
              "outlinewidth": 0,
              "ticks": ""
             }
            },
            "type": "scatterpolargl"
           }
          ],
          "scatterternary": [
           {
            "marker": {
             "colorbar": {
              "outlinewidth": 0,
              "ticks": ""
             }
            },
            "type": "scatterternary"
           }
          ],
          "surface": [
           {
            "colorbar": {
             "outlinewidth": 0,
             "ticks": ""
            },
            "colorscale": [
             [
              0,
              "#0d0887"
             ],
             [
              0.1111111111111111,
              "#46039f"
             ],
             [
              0.2222222222222222,
              "#7201a8"
             ],
             [
              0.3333333333333333,
              "#9c179e"
             ],
             [
              0.4444444444444444,
              "#bd3786"
             ],
             [
              0.5555555555555556,
              "#d8576b"
             ],
             [
              0.6666666666666666,
              "#ed7953"
             ],
             [
              0.7777777777777778,
              "#fb9f3a"
             ],
             [
              0.8888888888888888,
              "#fdca26"
             ],
             [
              1,
              "#f0f921"
             ]
            ],
            "type": "surface"
           }
          ],
          "table": [
           {
            "cells": {
             "fill": {
              "color": "#EBF0F8"
             },
             "line": {
              "color": "white"
             }
            },
            "header": {
             "fill": {
              "color": "#C8D4E3"
             },
             "line": {
              "color": "white"
             }
            },
            "type": "table"
           }
          ]
         },
         "layout": {
          "annotationdefaults": {
           "arrowcolor": "#2a3f5f",
           "arrowhead": 0,
           "arrowwidth": 1
          },
          "autotypenumbers": "strict",
          "coloraxis": {
           "colorbar": {
            "outlinewidth": 0,
            "ticks": ""
           }
          },
          "colorscale": {
           "diverging": [
            [
             0,
             "#8e0152"
            ],
            [
             0.1,
             "#c51b7d"
            ],
            [
             0.2,
             "#de77ae"
            ],
            [
             0.3,
             "#f1b6da"
            ],
            [
             0.4,
             "#fde0ef"
            ],
            [
             0.5,
             "#f7f7f7"
            ],
            [
             0.6,
             "#e6f5d0"
            ],
            [
             0.7,
             "#b8e186"
            ],
            [
             0.8,
             "#7fbc41"
            ],
            [
             0.9,
             "#4d9221"
            ],
            [
             1,
             "#276419"
            ]
           ],
           "sequential": [
            [
             0,
             "#0d0887"
            ],
            [
             0.1111111111111111,
             "#46039f"
            ],
            [
             0.2222222222222222,
             "#7201a8"
            ],
            [
             0.3333333333333333,
             "#9c179e"
            ],
            [
             0.4444444444444444,
             "#bd3786"
            ],
            [
             0.5555555555555556,
             "#d8576b"
            ],
            [
             0.6666666666666666,
             "#ed7953"
            ],
            [
             0.7777777777777778,
             "#fb9f3a"
            ],
            [
             0.8888888888888888,
             "#fdca26"
            ],
            [
             1,
             "#f0f921"
            ]
           ],
           "sequentialminus": [
            [
             0,
             "#0d0887"
            ],
            [
             0.1111111111111111,
             "#46039f"
            ],
            [
             0.2222222222222222,
             "#7201a8"
            ],
            [
             0.3333333333333333,
             "#9c179e"
            ],
            [
             0.4444444444444444,
             "#bd3786"
            ],
            [
             0.5555555555555556,
             "#d8576b"
            ],
            [
             0.6666666666666666,
             "#ed7953"
            ],
            [
             0.7777777777777778,
             "#fb9f3a"
            ],
            [
             0.8888888888888888,
             "#fdca26"
            ],
            [
             1,
             "#f0f921"
            ]
           ]
          },
          "colorway": [
           "#636efa",
           "#EF553B",
           "#00cc96",
           "#ab63fa",
           "#FFA15A",
           "#19d3f3",
           "#FF6692",
           "#B6E880",
           "#FF97FF",
           "#FECB52"
          ],
          "font": {
           "color": "#2a3f5f"
          },
          "geo": {
           "bgcolor": "white",
           "lakecolor": "white",
           "landcolor": "#E5ECF6",
           "showlakes": true,
           "showland": true,
           "subunitcolor": "white"
          },
          "hoverlabel": {
           "align": "left"
          },
          "hovermode": "closest",
          "mapbox": {
           "style": "light"
          },
          "paper_bgcolor": "white",
          "plot_bgcolor": "#E5ECF6",
          "polar": {
           "angularaxis": {
            "gridcolor": "white",
            "linecolor": "white",
            "ticks": ""
           },
           "bgcolor": "#E5ECF6",
           "radialaxis": {
            "gridcolor": "white",
            "linecolor": "white",
            "ticks": ""
           }
          },
          "scene": {
           "xaxis": {
            "backgroundcolor": "#E5ECF6",
            "gridcolor": "white",
            "gridwidth": 2,
            "linecolor": "white",
            "showbackground": true,
            "ticks": "",
            "zerolinecolor": "white"
           },
           "yaxis": {
            "backgroundcolor": "#E5ECF6",
            "gridcolor": "white",
            "gridwidth": 2,
            "linecolor": "white",
            "showbackground": true,
            "ticks": "",
            "zerolinecolor": "white"
           },
           "zaxis": {
            "backgroundcolor": "#E5ECF6",
            "gridcolor": "white",
            "gridwidth": 2,
            "linecolor": "white",
            "showbackground": true,
            "ticks": "",
            "zerolinecolor": "white"
           }
          },
          "shapedefaults": {
           "line": {
            "color": "#2a3f5f"
           }
          },
          "ternary": {
           "aaxis": {
            "gridcolor": "white",
            "linecolor": "white",
            "ticks": ""
           },
           "baxis": {
            "gridcolor": "white",
            "linecolor": "white",
            "ticks": ""
           },
           "bgcolor": "#E5ECF6",
           "caxis": {
            "gridcolor": "white",
            "linecolor": "white",
            "ticks": ""
           }
          },
          "title": {
           "x": 0.05
          },
          "xaxis": {
           "automargin": true,
           "gridcolor": "white",
           "linecolor": "white",
           "ticks": "",
           "title": {
            "standoff": 15
           },
           "zerolinecolor": "white",
           "zerolinewidth": 2
          },
          "yaxis": {
           "automargin": true,
           "gridcolor": "white",
           "linecolor": "white",
           "ticks": "",
           "title": {
            "standoff": 15
           },
           "zerolinecolor": "white",
           "zerolinewidth": 2
          }
         }
        },
        "title": {
         "text": "3D Animation of a Point Drawing a Trace"
        },
        "updatemenus": [
         {
          "buttons": [
           {
            "args": [
             null,
             {
              "frame": {
               "duration": 50,
               "redraw": true
              },
              "fromcurrent": true
             }
            ],
            "label": "Play",
            "method": "animate"
           }
          ],
          "showactive": false,
          "type": "buttons"
         }
        ]
       }
      }
     },
     "metadata": {},
     "output_type": "display_data"
    }
   ],
   "source": [
    "# Sample data\n",
    "t = np.linspace(0, 10, 100)\n",
    "x = np.sin(t)\n",
    "y = np.cos(t)\n",
    "z = t\n",
    "\n",
    "# Create the figure\n",
    "fig = go.Figure()\n",
    "\n",
    "# Add the initial trace\n",
    "fig.add_trace(go.Scatter3d(x=[x[0]], y=[y[0]], z=[z[0]], mode='markers', marker=dict(size=5, color='red')))\n",
    "\n",
    "# Add frames\n",
    "frames = [go.Frame(data=[go.Scatter3d(x=[x[k]], y=[y[k]], z=[z[k]], mode='markers', marker=dict(size=5, color='red'))]) for k in range(1, len(t))]\n",
    "\n",
    "# Add the trace for the path\n",
    "fig.add_trace(go.Scatter3d(x=x, y=y, z=z, mode='lines', line=dict(color='blue', width=2)))\n",
    "\n",
    "# Update layout with animation settings\n",
    "fig.update_layout(\n",
    "    scene=dict(\n",
    "        xaxis_title='X Axis',\n",
    "        yaxis_title='Y Axis',\n",
    "        zaxis_title='Z Axis'\n",
    "    ),\n",
    "    updatemenus=[dict(type='buttons', showactive=False, buttons=[dict(label='Play', method='animate', args=[None, dict(frame=dict(duration=50, redraw=True), fromcurrent=True)])])],\n",
    "    title='3D Animation of a Point Drawing a Trace'\n",
    ")\n",
    "\n",
    "# Add frames to the figure\n",
    "fig.frames = frames\n",
    "\n",
    "# Show the plot\n",
    "fig.show()"
   ]
  }
 ],
 "metadata": {
  "kernelspec": {
   "display_name": "note_env",
   "language": "python",
   "name": "python3"
  },
  "language_info": {
   "codemirror_mode": {
    "name": "ipython",
    "version": 3
   },
   "file_extension": ".py",
   "mimetype": "text/x-python",
   "name": "python",
   "nbconvert_exporter": "python",
   "pygments_lexer": "ipython3",
   "version": "3.12.3"
  }
 },
 "nbformat": 4,
 "nbformat_minor": 2
}
