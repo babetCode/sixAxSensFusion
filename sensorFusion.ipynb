{
 "cells": [
  {
   "cell_type": "code",
   "execution_count": null,
   "metadata": {},
   "outputs": [],
   "source": [
    "'''\n",
    "‾‾‾‾‾‾‾‾‾‾‾‾‾‾‾‾‾‾‾‾‾‾‾‾‾‾‾‾‾‾‾‾‾‾‾‾‾‾‾‾‾‾‾‾‾‾‾‾‾‾‾‾‾‾‾‾‾‾‾‾‾‾‾‾‾‾‾‾‾‾‾‾\n",
    "Notebook for sensor fusion on 6-axis IMU (accelerometer + gyroscope) data.\n",
    "_______________________________________________________________________________\n",
    "'''"
   ]
  },
  {
   "cell_type": "markdown",
   "metadata": {},
   "source": [
    "Import libraries:"
   ]
  },
  {
   "cell_type": "code",
   "execution_count": 5,
   "metadata": {},
   "outputs": [],
   "source": [
    "import math\n",
    "import numpy as np\n",
    "import pandas as pd\n",
    "import matplotlib.pyplot as plt\n",
    "import plotly.graph_objects as go\n",
    "import ipywidgets as widgets\n",
    "import os\n",
    "import time\n",
    "from IPython.display import display\n",
    "from IPython.display import clear_output\n",
    "from IPython.display import HTML\n",
    "from IPython import get_ipython\n",
    "\n",
    "\n",
    "class imuData:\n",
    "    def __init__(self, name, df, sensor_num):\n",
    "        self.name = name\n",
    "        self.indices = [row for row in df.index]\n",
    "\n",
    "        self.start_row_index = self.indices.index(\n",
    "            'DelsysTrignoBase 1: Sensor '+str(sensor_num)+'IM ACC Pitch')\n",
    "\n",
    "        self.all_data = df.iloc[self.start_row_index : self.start_row_index+6]\n",
    "\n",
    "        acc_data = self.all_data.iloc[0:3]\n",
    "        self.a_local = acc_data.transpose()\n",
    "        self.a_local.columns.values[0:3] = ['a_pitch', 'a_roll', 'a_yaw']\n",
    "\n",
    "        sqrt_acc = np.square(self.a_local)\n",
    "        net_acc_sq = sqrt_acc.apply(np.sum, axis=1, raw=True)\n",
    "        self.net_acc = np.sqrt(net_acc_sq)\n",
    "\n",
    "        gyr_data = self.all_data.iloc[3:7]\n",
    "        self.omega_local = gyr_data.transpose()\n",
    "        self.omega_local.columns.values[0:3] = ['omega_pitch', 'omega_roll',\n",
    "                                                'omega_yaw']\n",
    "\n",
    "        self.measurements = self.a_local.join(self.omega_local)\n",
    "\n",
    "        self.frames = len(acc_data.columns)\n",
    "\n",
    "    def __str__(self):\n",
    "        return f\"ImuData object.\\nname:  '{self.name}'\\nframes: {self.frames}\"\n",
    "    \n",
    "\n"
   ]
  },
  {
   "cell_type": "markdown",
   "metadata": {},
   "source": [
    "Kalman filter function:"
   ]
  },
  {
   "cell_type": "code",
   "execution_count": null,
   "metadata": {},
   "outputs": [
    {
     "name": "stdout",
     "output_type": "stream",
     "text": [
      "[[0.]\n",
      " [0.]\n",
      " [0.]\n",
      " [0.]\n",
      " [0.]\n",
      " [0.]\n",
      " [0.]\n",
      " [0.]\n",
      " [0.]\n",
      " [1.]\n",
      " [0.]\n",
      " [0.]\n",
      " [0.]\n",
      " [0.]\n",
      " [0.]\n",
      " [0.]]\n",
      "<class 'numpy.ndarray'>\n",
      "[0.]\n",
      "<class 'numpy.ndarray'>\n",
      "[0.]\n",
      "<class 'numpy.ndarray'>\n",
      "[0.]\n",
      "<class 'numpy.ndarray'>\n",
      "[0.]\n",
      "<class 'numpy.ndarray'>\n",
      "[0.]\n",
      "<class 'numpy.ndarray'>\n",
      "[0.]\n",
      "<class 'numpy.ndarray'>\n",
      "[0.]\n",
      "<class 'numpy.ndarray'>\n",
      "[0.]\n",
      "<class 'numpy.ndarray'>\n",
      "[0.]\n",
      "<class 'numpy.ndarray'>\n",
      "[1.]\n",
      "<class 'numpy.ndarray'>\n",
      "[0.]\n",
      "<class 'numpy.ndarray'>\n",
      "[0.]\n",
      "<class 'numpy.ndarray'>\n",
      "[0.]\n",
      "<class 'numpy.ndarray'>\n",
      "[0.]\n",
      "<class 'numpy.ndarray'>\n",
      "[0.]\n",
      "<class 'numpy.ndarray'>\n",
      "[0.]\n",
      "[[1 0 0 1 0 0 0 0 0 0 0 0 0 0 0 0]\n",
      " [0 1 0 0 1 0 0 0 0 0 0 0 0 0 0 0]\n",
      " [0 0 1 0 0 1 0 0 0 0 0 0 0 0 0 0]\n",
      " [0 0 0 1 0 0 1 0 0 0 0 0 0 0 0 0]\n",
      " [0 0 0 0 1 0 0 1 0 0 0 0 0 0 0 0]\n",
      " [0 0 0 0 0 1 0 0 1 0 0 0 0 0 0 0]\n",
      " [0 0 0 0 0 0 1 0 0 0 0 0 0 0 0 0]\n",
      " [0 0 0 0 0 0 0 1 0 0 0 0 0 0 0 0]\n",
      " [0 0 0 0 0 0 0 0 1 0 0 0 0 0 0 0]\n",
      " [0 0 0 0 0 0 0 0 0 1 0 0 0 0 0 0]\n",
      " [0 0 0 0 0 0 0 0 0 0 1 0 0 0 0 0]\n",
      " [0 0 0 0 0 0 0 0 0 0 0 1 0 0 0 0]\n",
      " [0 0 0 0 0 0 0 0 0 0 0 0 1 0 0 0]\n",
      " [0 0 0 0 0 0 0 0 0 0 0 0 0 1 0 0]\n",
      " [0 0 0 0 0 0 0 0 0 0 0 0 0 0 1 0]\n",
      " [0 0 0 0 0 0 0 0 0 0 0 0 0 0 0 1]]\n",
      "(4, 4)\n"
     ]
    },
    {
     "ename": "ValueError",
     "evalue": "setting an array element with a sequence. The requested array has an inhomogeneous shape after 2 dimensions. The detected shape was (4, 4) + inhomogeneous part.",
     "output_type": "error",
     "traceback": [
      "\u001b[0;31m---------------------------------------------------------------------------\u001b[0m",
      "\u001b[0;31mValueError\u001b[0m                                Traceback (most recent call last)",
      "Cell \u001b[0;32mIn[47], line 120\u001b[0m\n\u001b[1;32m    116\u001b[0m     \u001b[38;5;28;01mreturn\u001b[39;00m KF6(dt\u001b[38;5;241m=\u001b[39m\u001b[38;5;241m1.\u001b[39m, Q\u001b[38;5;241m=\u001b[39mtestQ, R\u001b[38;5;241m=\u001b[39mtestR, x_0\u001b[38;5;241m=\u001b[39mtestx, P_0\u001b[38;5;241m=\u001b[39mtestP)\n\u001b[1;32m    118\u001b[0m testKF_ \u001b[38;5;241m=\u001b[39m testKF6()\n\u001b[0;32m--> 120\u001b[0m testKF_\u001b[38;5;241m.\u001b[39mpredict()\n",
      "Cell \u001b[0;32mIn[47], line 81\u001b[0m, in \u001b[0;36mKF6.predict\u001b[0;34m(self)\u001b[0m\n\u001b[1;32m     80\u001b[0m \u001b[38;5;28;01mdef\u001b[39;00m \u001b[38;5;21mpredict\u001b[39m(\u001b[38;5;28mself\u001b[39m):\n\u001b[0;32m---> 81\u001b[0m     \u001b[38;5;28mself\u001b[39m\u001b[38;5;241m.\u001b[39mA \u001b[38;5;241m=\u001b[39m \u001b[38;5;28mself\u001b[39m\u001b[38;5;241m.\u001b[39mget_A(\u001b[38;5;28mself\u001b[39m\u001b[38;5;241m.\u001b[39mx, \u001b[38;5;28mself\u001b[39m\u001b[38;5;241m.\u001b[39mdt)\n\u001b[1;32m     82\u001b[0m     \u001b[38;5;28mself\u001b[39m\u001b[38;5;241m.\u001b[39mH \u001b[38;5;241m=\u001b[39m \u001b[38;5;28mself\u001b[39m\u001b[38;5;241m.\u001b[39mget_H(\u001b[38;5;28mself\u001b[39m\u001b[38;5;241m.\u001b[39mx)\n\u001b[1;32m     83\u001b[0m     \u001b[38;5;28mself\u001b[39m\u001b[38;5;241m.\u001b[39mxp \u001b[38;5;241m=\u001b[39m \u001b[38;5;28mself\u001b[39m\u001b[38;5;241m.\u001b[39mA \u001b[38;5;241m@\u001b[39m \u001b[38;5;28mself\u001b[39m\u001b[38;5;241m.\u001b[39mx\n",
      "Cell \u001b[0;32mIn[47], line 53\u001b[0m, in \u001b[0;36mKF6.get_A\u001b[0;34m(self, x, dt)\u001b[0m\n\u001b[1;32m     51\u001b[0m \u001b[38;5;28mprint\u001b[39m(A)\n\u001b[1;32m     52\u001b[0m \u001b[38;5;28mprint\u001b[39m(A[\u001b[38;5;241m9\u001b[39m:\u001b[38;5;241m13\u001b[39m,\u001b[38;5;241m9\u001b[39m:\u001b[38;5;241m13\u001b[39m]\u001b[38;5;241m.\u001b[39mshape)\n\u001b[0;32m---> 53\u001b[0m bottom \u001b[38;5;241m=\u001b[39m np\u001b[38;5;241m.\u001b[39marray(\n\u001b[1;32m     54\u001b[0m     [[\u001b[38;5;241m1\u001b[39m, \u001b[38;5;241m-\u001b[39mdt\u001b[38;5;241m*\u001b[39mwN\u001b[38;5;241m/\u001b[39m\u001b[38;5;241m2\u001b[39m, \u001b[38;5;241m-\u001b[39mdt\u001b[38;5;241m*\u001b[39mwE\u001b[38;5;241m/\u001b[39m\u001b[38;5;241m2\u001b[39m, \u001b[38;5;241m-\u001b[39mdt\u001b[38;5;241m*\u001b[39mwD\u001b[38;5;241m/\u001b[39m\u001b[38;5;241m2\u001b[39m],\n\u001b[1;32m     55\u001b[0m     [dt\u001b[38;5;241m*\u001b[39mwN\u001b[38;5;241m/\u001b[39m\u001b[38;5;241m2\u001b[39m, \u001b[38;5;241m1\u001b[39m, dt\u001b[38;5;241m*\u001b[39mwD\u001b[38;5;241m/\u001b[39m\u001b[38;5;241m2\u001b[39m, \u001b[38;5;241m-\u001b[39mdt\u001b[38;5;241m*\u001b[39mwE\u001b[38;5;241m/\u001b[39m\u001b[38;5;241m2\u001b[39m],\n\u001b[1;32m     56\u001b[0m     [dt\u001b[38;5;241m*\u001b[39mwE\u001b[38;5;241m/\u001b[39m\u001b[38;5;241m2\u001b[39m, \u001b[38;5;241m-\u001b[39mdt\u001b[38;5;241m*\u001b[39mwD\u001b[38;5;241m/\u001b[39m\u001b[38;5;241m2\u001b[39m, \u001b[38;5;241m1\u001b[39m, dt\u001b[38;5;241m*\u001b[39mwN\u001b[38;5;241m/\u001b[39m\u001b[38;5;241m2\u001b[39m],\n\u001b[1;32m     57\u001b[0m     [dt\u001b[38;5;241m*\u001b[39mwD\u001b[38;5;241m/\u001b[39m\u001b[38;5;241m2\u001b[39m, dt\u001b[38;5;241m*\u001b[39mwE\u001b[38;5;241m/\u001b[39m\u001b[38;5;241m2\u001b[39m, \u001b[38;5;241m-\u001b[39mdt\u001b[38;5;241m*\u001b[39mwN\u001b[38;5;241m/\u001b[39m\u001b[38;5;241m2\u001b[39m, \u001b[38;5;241m1\u001b[39m]],\n\u001b[1;32m     58\u001b[0m     dtype\u001b[38;5;241m=\u001b[39m\u001b[38;5;28mfloat\u001b[39m\n\u001b[1;32m     59\u001b[0m     )\n\u001b[1;32m     60\u001b[0m \u001b[38;5;28mprint\u001b[39m(bottom\u001b[38;5;241m.\u001b[39mshape)\n\u001b[1;32m     61\u001b[0m A[\u001b[38;5;241m9\u001b[39m:\u001b[38;5;241m13\u001b[39m,\u001b[38;5;241m9\u001b[39m:\u001b[38;5;241m13\u001b[39m] \u001b[38;5;241m=\u001b[39m bottom\n",
      "\u001b[0;31mValueError\u001b[0m: setting an array element with a sequence. The requested array has an inhomogeneous shape after 2 dimensions. The detected shape was (4, 4) + inhomogeneous part."
     ]
    }
   ],
   "source": [
    "import numpy as np\n",
    "#12345678|212345678|312345678|412345678|512345678|612345678|712345678|\n",
    "class KF6:\n",
    "    def __init__(self, dt, Q, R, x_0, P_0):\n",
    "        \n",
    "        self.dt = float(dt)\n",
    "        \n",
    "        Q = np.array(Q)\n",
    "        if Q.shape != (16, 16):\n",
    "            raise ValueError(\n",
    "                '\"Q\" shape error: expected (16, 16), '\n",
    "                f'got {Q.shape} instead'\n",
    "            )\n",
    "        self.Q = Q\n",
    "        \n",
    "        R = np.array(R)\n",
    "        if R.shape != (6, 6):\n",
    "            raise ValueError(\n",
    "                '\"R\" shape error: expected (6, 6), '\n",
    "                f'got {R.shape} instead'\n",
    "            )\n",
    "        self.R = R\n",
    "        \n",
    "        x_0 = np.array(x_0)\n",
    "        if x_0.ndim != 2 or x_0.shape != (16, 1):\n",
    "            raise ValueError(\n",
    "                '\"x_0\" shape error: '\n",
    "                'expected 2D column vector (16, 1), '\n",
    "                f'got {x_0.shape} instead'\n",
    "            )\n",
    "        self.x = x_0\n",
    "        \n",
    "        P_0 = np.array(P_0)\n",
    "        if P_0.shape != (16, 16):\n",
    "            raise ValueError(\n",
    "                '\"P_0\" shape error: expected (16, 16), '\n",
    "                f'got {P_0.shape} instead'\n",
    "            )\n",
    "        self.P = P_0\n",
    "\n",
    "    def get_A(self, x, dt):\n",
    "        print(x)\n",
    "        #0,  1,  2,  3,  4,  5,  6,  7,  8,  9, 10, 11, 12, 13, 14, 15\n",
    "        wN, wE, wD = [x[1]\n",
    "        A = np.diag(16*[1])\n",
    "        for i in range(6):\n",
    "            A[i,i+3] = dt\n",
    "        print(A)\n",
    "        print(A[9:13,9:13].shape)\n",
    "        bottom = np.array(\n",
    "            [[1, -dt*wN/2, -dt*wE/2, -dt*wD/2],\n",
    "            [dt*wN/2, 1, dt*wD/2, -dt*wE/2],\n",
    "            [dt*wE/2, -dt*wD/2, 1, dt*wN/2],\n",
    "            [dt*wD/2, dt*wE/2, -dt*wN/2, 1]],\n",
    "            dtype=float\n",
    "            )\n",
    "        print(bottom.shape)\n",
    "        A[9:13,9:13] = bottom\n",
    "        return A\n",
    "\n",
    "    def quat2matrix(self, q):\n",
    "        q0, q1, q2, q3 = q\n",
    "        C = np.array(\n",
    "            [[1 - 2*(q2**2 + q3**2), 2*(q1*q2 - q0*q3), 2*(q1*q3 + q0*q2)]\n",
    "            ,[2*(q1*q2 + q0*q3), 1 - 2*(q1**2 + q3**2), 2*(q2*q3 - q0*q1)]\n",
    "            ,[2*(q1*q3 - q0*q2), 2*(q2*q3 + q0*q1), 1 - 2*(q1**2 + q2**2)]]\n",
    "            )\n",
    "        return C.reshape(3,3)\n",
    "    \n",
    "    def get_H(self, x):\n",
    "        C = self.quat2matrix(x[9:13])\n",
    "        H = np.zeros((6, 16))\n",
    "        H[0:3, 6:9] = C\n",
    "        H[3:6, 13:16] = C\n",
    "        return H\n",
    "\n",
    "    def predict(self):\n",
    "        self.A = self.get_A(self.x, self.dt)\n",
    "        self.H = self.get_H(self.x)\n",
    "        self.xp = self.A @ self.x\n",
    "        self.xp[5] -= self.dt\n",
    "        self.Pp = self.A @ self.P @ self.A.T + self.Q\n",
    "\n",
    "    def update(self, z):\n",
    "\n",
    "        z = np.array(z)\n",
    "        if z.ndim != 2 or z.shape[1] != 6:\n",
    "            raise ValueError(\n",
    "                '\"z\" shape error: '\n",
    "                'expected 2D array with 6 columns,'\n",
    "                f' got {z.shape} instead'\n",
    "            )\n",
    "\n",
    "        self.y = z - self.H @ self.xp\n",
    "        self.K = self.Pp @ self.H.T @ np.linalg.inv(\n",
    "            self.H @ self.Pp @ self.H.T + self.R)\n",
    "        self.x = self.xp + self.K @ (self.y)\n",
    "        self.P = (np.eye(16) - self.K @ self.H) @ self.Pp\n",
    "        return self.x\n",
    "\n",
    "# Example usage\n",
    "def testKF6():\n",
    "    pvar, vvar, avar, qvar, wvar = 0.01, 0.01, 0.01, 0.01, 0.01\n",
    "    testQ = np.diag([pvar]*3 + [vvar]*3 + [avar]*3 + [qvar]*4 + [wvar]*3)\n",
    "    a_pitch_var, a_roll_var, a_yaw_var, w_pitch_var, w_roll_var, w_yaw_var = [\n",
    "        1, 1, 1, 1, 1, 1]\n",
    "    testR = np.diag([a_pitch_var, a_roll_var, a_yaw_var, w_pitch_var,\n",
    "                    w_roll_var, w_yaw_var])\n",
    "    testx = np.zeros(16)\n",
    "    testx[9] = 1\n",
    "    testx = testx.reshape(-1, 1)\n",
    "    testP = np.diag([pvar]*3 + [vvar]*3 + [avar]*3 + [qvar]*4 + [wvar]*3)\n",
    "    return KF6(dt=1., Q=testQ, R=testR, x_0=testx, P_0=testP)\n",
    "\n",
    "testKF_ = testKF6()\n",
    "\n",
    "testKF_.predict()\n"
   ]
  },
  {
   "cell_type": "markdown",
   "metadata": {},
   "source": [
    "Participant dropdown menu:"
   ]
  },
  {
   "cell_type": "code",
   "execution_count": 22,
   "metadata": {},
   "outputs": [
    {
     "data": {
      "application/vnd.jupyter.widget-view+json": {
       "model_id": "a4d7147e43834c73be837375fdb2ff5e",
       "version_major": 2,
       "version_minor": 0
      },
      "text/plain": [
       "Dropdown(description='Participant:', options=('A05', 'C08', 'A02', 'C06', 'C07', 'A03', 'A04', 'C12', 'C15', '…"
      ]
     },
     "metadata": {},
     "output_type": "display_data"
    },
    {
     "data": {
      "application/vnd.jupyter.widget-view+json": {
       "model_id": "f1d3059333eb428b8fb4205ad5be0b88",
       "version_major": 2,
       "version_minor": 0
      },
      "text/plain": [
       "Dropdown(description='Trial:', options=('A05_Slow_04.csv', 'A05_Slow_03.csv', 'A05_Slow_02.csv', 'A05_Slow_01.…"
      ]
     },
     "metadata": {},
     "output_type": "display_data"
    },
    {
     "data": {
      "application/vnd.jupyter.widget-view+json": {
       "model_id": "53315f00e38143cb82779a3c4d8455dc",
       "version_major": 2,
       "version_minor": 0
      },
      "text/plain": [
       "Output()"
      ]
     },
     "metadata": {},
     "output_type": "display_data"
    }
   ],
   "source": [
    "# Get the list of subdirectories\n",
    "participants = [d for d in os.listdir('trialData')]\n",
    "\n",
    "# Create the participant dropdown widget with subdirectories as options\n",
    "selected_participant = widgets.Dropdown(\n",
    "    options=participants,\n",
    "    value=participants[0] if participants else None,\n",
    "    description='Participant:',\n",
    "    disabled=False,\n",
    ")\n",
    "\n",
    "# Display the participant dropdown\n",
    "display(selected_participant)\n",
    "\n",
    "# Function to handle participant changes\n",
    "def on_participant_change(change):\n",
    "    if change['type'] == 'change' and change['name'] == 'value':\n",
    "        selected_participant = change['new']\n",
    "        # print(f'Selected participant: {selected_participant}')\n",
    "        \n",
    "        # Update the trial dropdown based on the selected participant\n",
    "        trials = [d for d in os.listdir(f'trialData/{selected_participant}')]\n",
    "        selected_trial.options = trials\n",
    "        selected_trial.value = trials[0] if trials else None\n",
    "\n",
    "# Attach the handler to the participant dropdown\n",
    "selected_participant.observe(on_participant_change, names='value')\n",
    "\n",
    "# Initial list of trials for the default participant\n",
    "trials = [d for d in os.listdir(f'trialData/{selected_participant.value}')]\n",
    "\n",
    "# Create the trial dropdown widget with subdirectories as options\n",
    "selected_trial = widgets.Dropdown(\n",
    "    options=trials,\n",
    "    value=trials[0] if trials else None,\n",
    "    description='Trial:',\n",
    "    disabled=False,\n",
    ")\n",
    "\n",
    "output = widgets.Output()\n",
    "# Display the trial dropdown\n",
    "display(selected_trial)\n",
    "display(output)\n",
    "\n",
    "# Function to handle trial changes\n",
    "def on_trial_change(change):\n",
    "    global eg_measurements\n",
    "    if change['type'] == 'change' and change['name'] == 'value':\n",
    "        with output:\n",
    "            clear_output(wait=True)\n",
    "            display(HTML(f'<b>Getting measurements from \"trialData/{selected_participant.value}/{change[\"new\"]}\":</b>'))\n",
    "            # print('\\n')\n",
    "            trial_path = f'trialData/{selected_participant.value}/{change[\"new\"]}'\n",
    "            eg_df = pd.read_csv(trial_path, index_col=0)\n",
    "            eg_imu = imuData('egIMU', eg_df, 4)\n",
    "            eg_measurements = eg_imu.measurements\n",
    "            display(eg_measurements)\n",
    "\n",
    "        # print(f'Participant: {selected_participant.value}    Trial: {selected_trial.value}', end='\\r')\n",
    "\n",
    "# Attach the handler to the trial dropdown\n",
    "selected_trial.observe(on_trial_change, names='value')"
   ]
  },
  {
   "cell_type": "code",
   "execution_count": 32,
   "metadata": {},
   "outputs": [
    {
     "data": {
      "text/plain": [
       "array([  0.12597656,  -0.98291016,  -0.16894531, -45.18292618,\n",
       "        -2.98780489,   0.18292683])"
      ]
     },
     "execution_count": 32,
     "metadata": {},
     "output_type": "execute_result"
    }
   ],
   "source": [
    "np.array(eg_measurements.iloc[0])\n",
    "np.array([ 0.12597656,  -0.98291016,  -0.16894531, -45.18292618,\n",
    "        -2.98780489,   0.18292683])"
   ]
  },
  {
   "cell_type": "code",
   "execution_count": null,
   "metadata": {},
   "outputs": [
    {
     "name": "stdout",
     "output_type": "stream",
     "text": [
      "A05\n",
      "A05_Slow_03.csv\n"
     ]
    },
    {
     "ename": "ValueError",
     "evalue": "setting an array element with a sequence. The requested array has an inhomogeneous shape after 2 dimensions. The detected shape was (4, 4) + inhomogeneous part.",
     "output_type": "error",
     "traceback": [
      "\u001b[0;31m---------------------------------------------------------------------------\u001b[0m",
      "\u001b[0;31mValueError\u001b[0m                                Traceback (most recent call last)",
      "Cell \u001b[0;32mIn[28], line 6\u001b[0m\n\u001b[1;32m      4\u001b[0m filtered_data \u001b[38;5;241m=\u001b[39m []\n\u001b[1;32m      5\u001b[0m \u001b[38;5;28;01mfor\u001b[39;00m k, z \u001b[38;5;129;01min\u001b[39;00m eg_measurements\u001b[38;5;241m.\u001b[39miterrows():\n\u001b[0;32m----> 6\u001b[0m     testKF\u001b[38;5;241m.\u001b[39mpredict()\n\u001b[1;32m      7\u001b[0m     filtered_state \u001b[38;5;241m=\u001b[39m testKF\u001b[38;5;241m.\u001b[39mupdate(z)\n\u001b[1;32m      8\u001b[0m     filtered_data\u001b[38;5;241m.\u001b[39mappend(filtered_state)\n",
      "Cell \u001b[0;32mIn[26], line 72\u001b[0m, in \u001b[0;36mKF6.predict\u001b[0;34m(self)\u001b[0m\n\u001b[1;32m     71\u001b[0m \u001b[38;5;28;01mdef\u001b[39;00m \u001b[38;5;21mpredict\u001b[39m(\u001b[38;5;28mself\u001b[39m):\n\u001b[0;32m---> 72\u001b[0m     \u001b[38;5;28mself\u001b[39m\u001b[38;5;241m.\u001b[39mA \u001b[38;5;241m=\u001b[39m \u001b[38;5;28mself\u001b[39m\u001b[38;5;241m.\u001b[39mget_A(\u001b[38;5;28mself\u001b[39m\u001b[38;5;241m.\u001b[39mx, \u001b[38;5;28mself\u001b[39m\u001b[38;5;241m.\u001b[39mdt)\n\u001b[1;32m     73\u001b[0m     \u001b[38;5;28mself\u001b[39m\u001b[38;5;241m.\u001b[39mH \u001b[38;5;241m=\u001b[39m \u001b[38;5;28mself\u001b[39m\u001b[38;5;241m.\u001b[39mget_H(\u001b[38;5;28mself\u001b[39m\u001b[38;5;241m.\u001b[39mx)\n\u001b[1;32m     74\u001b[0m     \u001b[38;5;28mself\u001b[39m\u001b[38;5;241m.\u001b[39mxp \u001b[38;5;241m=\u001b[39m \u001b[38;5;28mself\u001b[39m\u001b[38;5;241m.\u001b[39mA\n",
      "Cell \u001b[0;32mIn[26], line 47\u001b[0m, in \u001b[0;36mKF6.get_A\u001b[0;34m(self, x, dt)\u001b[0m\n\u001b[1;32m     45\u001b[0m \u001b[38;5;28;01mfor\u001b[39;00m i \u001b[38;5;129;01min\u001b[39;00m \u001b[38;5;28mrange\u001b[39m(\u001b[38;5;241m6\u001b[39m):\n\u001b[1;32m     46\u001b[0m     A[i,i\u001b[38;5;241m+\u001b[39m\u001b[38;5;241m3\u001b[39m] \u001b[38;5;241m=\u001b[39m dt\n\u001b[0;32m---> 47\u001b[0m A[\u001b[38;5;241m9\u001b[39m:\u001b[38;5;241m13\u001b[39m,\u001b[38;5;241m9\u001b[39m:\u001b[38;5;241m13\u001b[39m] \u001b[38;5;241m=\u001b[39m np\u001b[38;5;241m.\u001b[39marray(\n\u001b[1;32m     48\u001b[0m     [[\u001b[38;5;241m1\u001b[39m, \u001b[38;5;241m-\u001b[39mdt\u001b[38;5;241m*\u001b[39mwN\u001b[38;5;241m/\u001b[39m\u001b[38;5;241m2\u001b[39m, \u001b[38;5;241m-\u001b[39mdt\u001b[38;5;241m*\u001b[39mwE\u001b[38;5;241m/\u001b[39m\u001b[38;5;241m2\u001b[39m, \u001b[38;5;241m-\u001b[39mdt\u001b[38;5;241m*\u001b[39mwD\u001b[38;5;241m/\u001b[39m\u001b[38;5;241m2\u001b[39m]\n\u001b[1;32m     49\u001b[0m     ,[dt\u001b[38;5;241m*\u001b[39mwN\u001b[38;5;241m/\u001b[39m\u001b[38;5;241m2\u001b[39m, \u001b[38;5;241m1\u001b[39m, dt\u001b[38;5;241m*\u001b[39mwD\u001b[38;5;241m/\u001b[39m\u001b[38;5;241m2\u001b[39m, \u001b[38;5;241m-\u001b[39mdt\u001b[38;5;241m*\u001b[39mwE\u001b[38;5;241m/\u001b[39m\u001b[38;5;241m2\u001b[39m]\n\u001b[1;32m     50\u001b[0m     ,[dt\u001b[38;5;241m*\u001b[39mwE\u001b[38;5;241m/\u001b[39m\u001b[38;5;241m2\u001b[39m, \u001b[38;5;241m-\u001b[39mdt\u001b[38;5;241m*\u001b[39mwD\u001b[38;5;241m/\u001b[39m\u001b[38;5;241m2\u001b[39m, \u001b[38;5;241m1\u001b[39m, dt\u001b[38;5;241m*\u001b[39mwN\u001b[38;5;241m/\u001b[39m\u001b[38;5;241m2\u001b[39m]\n\u001b[1;32m     51\u001b[0m     ,[dt\u001b[38;5;241m*\u001b[39mwD\u001b[38;5;241m/\u001b[39m\u001b[38;5;241m2\u001b[39m, dt\u001b[38;5;241m*\u001b[39mwE\u001b[38;5;241m/\u001b[39m\u001b[38;5;241m2\u001b[39m, \u001b[38;5;241m-\u001b[39mdt\u001b[38;5;241m*\u001b[39mwN\u001b[38;5;241m/\u001b[39m\u001b[38;5;241m2\u001b[39m, \u001b[38;5;241m1\u001b[39m]]\n\u001b[1;32m     52\u001b[0m     )\u001b[38;5;241m.\u001b[39mreshape(\u001b[38;5;241m4\u001b[39m,\u001b[38;5;241m4\u001b[39m)\n\u001b[1;32m     53\u001b[0m \u001b[38;5;28;01mreturn\u001b[39;00m A\n",
      "\u001b[0;31mValueError\u001b[0m: setting an array element with a sequence. The requested array has an inhomogeneous shape after 2 dimensions. The detected shape was (4, 4) + inhomogeneous part."
     ]
    }
   ],
   "source": [
    "print(selected_participant.value)\n",
    "print(selected_trial.value)\n",
    "testKF = testKF6()\n",
    "filtered_data = []\n",
    "for k, z in eg_measurements.iterrows():\n",
    "    testKF.predict()\n",
    "    filtered_state = testKF.update(z)\n",
    "    filtered_data.append(filtered_state)\n",
    "    \n",
    "    if int(k) > 100:\n",
    "        break\n",
    "\n",
    "filtered_data = np.array(filtered_data)\n",
    "filtered_data"
   ]
  },
  {
   "cell_type": "markdown",
   "metadata": {},
   "source": [
    "# /"
   ]
  },
  {
   "cell_type": "code",
   "execution_count": 11,
   "metadata": {},
   "outputs": [
    {
     "data": {
      "application/vnd.jupyter.widget-view+json": {
       "model_id": "e7ef5a196d4746899225f95e8329598d",
       "version_major": 2,
       "version_minor": 0
      },
      "text/plain": [
       "interactive(children=(IntSlider(value=10, description='x', max=30, min=-10), Output()), _dom_classes=('widget-…"
      ]
     },
     "metadata": {},
     "output_type": "display_data"
    },
    {
     "data": {
      "text/plain": [
       "<function __main__.my_function(x)>"
      ]
     },
     "execution_count": 11,
     "metadata": {},
     "output_type": "execute_result"
    }
   ],
   "source": [
    "from IPython.display import display\n",
    "from ipywidgets import interact\n",
    "\n",
    "# Define a function dependent on a variable\n",
    "def my_function(x):\n",
    "    print(f\"x is now: {x}\")\n",
    "\n",
    "# Create an interactive widget\n",
    "interact(my_function, x=10)\n"
   ]
  }
 ],
 "metadata": {
  "kernelspec": {
   "display_name": "note_env",
   "language": "python",
   "name": "python3"
  },
  "language_info": {
   "codemirror_mode": {
    "name": "ipython",
    "version": 3
   },
   "file_extension": ".py",
   "mimetype": "text/x-python",
   "name": "python",
   "nbconvert_exporter": "python",
   "pygments_lexer": "ipython3",
   "version": "3.12.7"
  }
 },
 "nbformat": 4,
 "nbformat_minor": 2
}
