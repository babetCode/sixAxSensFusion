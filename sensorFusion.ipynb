{
 "cells": [
  {
   "cell_type": "code",
   "execution_count": null,
   "metadata": {},
   "outputs": [],
   "source": [
    "'''\n",
    "‾‾‾‾‾‾‾‾‾‾‾‾‾‾‾‾‾‾‾‾‾‾‾‾‾‾‾‾‾‾‾‾‾‾‾‾‾‾‾‾‾‾‾‾‾‾‾‾‾‾‾‾‾‾‾‾‾‾‾‾‾‾‾‾‾‾‾‾‾‾‾‾\n",
    "Notebook for sensor fusion on 6-axis IMU (accelerometer + gyroscope) data.\n",
    "_______________________________________________________________________________\n",
    "'''"
   ]
  },
  {
   "cell_type": "markdown",
   "metadata": {},
   "source": [
    "Import libraries:"
   ]
  },
  {
   "cell_type": "code",
   "execution_count": 5,
   "metadata": {},
   "outputs": [],
   "source": [
    "import math\n",
    "import numpy as np\n",
    "import pandas as pd\n",
    "import matplotlib.pyplot as plt\n",
    "import plotly.graph_objects as go\n",
    "import ipywidgets as widgets\n",
    "import os\n",
    "import time\n",
    "from IPython.display import display\n",
    "from IPython.display import clear_output\n",
    "from IPython.display import HTML\n",
    "from IPython import get_ipython\n",
    "\n",
    "\n",
    "class imuData:\n",
    "    def __init__(self, name, df, sensor_num):\n",
    "        self.name = name\n",
    "        self.indices = [row for row in df.index]\n",
    "\n",
    "        self.start_row_index = self.indices.index(\n",
    "            'DelsysTrignoBase 1: Sensor '+str(sensor_num)+'IM ACC Pitch')\n",
    "\n",
    "        self.all_data = df.iloc[self.start_row_index : self.start_row_index+6]\n",
    "\n",
    "        acc_data = self.all_data.iloc[0:3]\n",
    "        self.a_local = acc_data.transpose()\n",
    "        self.a_local.columns.values[0:3] = ['a_pitch', 'a_roll', 'a_yaw']\n",
    "\n",
    "        sqrt_acc = np.square(self.a_local)\n",
    "        net_acc_sq = sqrt_acc.apply(np.sum, axis=1, raw=True)\n",
    "        self.net_acc = np.sqrt(net_acc_sq)\n",
    "\n",
    "        gyr_data = self.all_data.iloc[3:7]\n",
    "        self.omega_local = gyr_data.transpose()\n",
    "        self.omega_local.columns.values[0:3] = ['omega_pitch', 'omega_roll',\n",
    "                                                'omega_yaw']\n",
    "\n",
    "        self.measurements = self.a_local.join(self.omega_local)\n",
    "\n",
    "        self.frames = len(acc_data.columns)\n",
    "\n",
    "    def __str__(self):\n",
    "        return f\"ImuData object.\\nname:  '{self.name}'\\nframes: {self.frames}\"\n",
    "    \n",
    "\n"
   ]
  },
  {
   "cell_type": "markdown",
   "metadata": {},
   "source": [
    "Kalman filter function:"
   ]
  },
  {
   "cell_type": "code",
   "execution_count": 30,
   "metadata": {},
   "outputs": [],
   "source": [
    "import numpy as np\n",
    "#12345678|212345678|312345678|412345678|512345678|612345678|712345678|\n",
    "class KF6:\n",
    "    def __init__(self, dt, Q, R, x_0, P_0):\n",
    "        \n",
    "        self.dt = float(dt)\n",
    "        \n",
    "        Q = np.array(Q)\n",
    "        if Q.shape != (16, 16):\n",
    "            raise ValueError(\n",
    "                '\"Q\" shape error: expected (16, 16), '\n",
    "                f'got {Q.shape} instead'\n",
    "            )\n",
    "        self.Q = Q\n",
    "        \n",
    "        R = np.array(R)\n",
    "        if R.shape != (6, 6):\n",
    "            raise ValueError(\n",
    "                '\"R\" shape error: expected (6, 6), '\n",
    "                f'got {R.shape} instead'\n",
    "            )\n",
    "        self.R = R\n",
    "        \n",
    "        x_0 = np.array(x_0)\n",
    "        if x_0.ndim != 2 or x_0.shape != (16, 1):\n",
    "            raise ValueError(\n",
    "                '\"x_0\" shape error: '\n",
    "                'expected 2D column vector (16, 1), '\n",
    "                f'got {x_0.shape} instead'\n",
    "            )\n",
    "        self.x = x_0\n",
    "        \n",
    "        P_0 = np.array(P_0)\n",
    "        if P_0.shape != (16, 16):\n",
    "            raise ValueError(\n",
    "                '\"P_0\" shape error: expected (16, 16), '\n",
    "                f'got {P_0.shape} instead'\n",
    "            )\n",
    "        self.P = P_0\n",
    "\n",
    "    def get_A(x):\n",
    "        #0,  1,  2,  3,  4,  5,  6,  7,  8,  9, 10, 11, 12, 13, 14, 15\n",
    "        pN, pE, pD, vN, vE, vD, aN, aE, aD, q0, q1, q2, q3, wN, wE, wD = x\n",
    "        A = np.diag(16*[1])\n",
    "        for i in range(6):\n",
    "            A[i,i+3] = dt\n",
    "        A[9:13,9:13] = np.array(\n",
    "            [[1, -dt*wN/2, -dt*wE/2, -dt*wD/2]\n",
    "            ,[dt*wN/2, 1, dt*wD/2, -dt*wE/2]\n",
    "            ,[dt*wE/2, -dt*wD/2, 1, dt*wN/2]\n",
    "            ,[dt*wD/2, dt*wE/2, -dt*wN/2, 1]]\n",
    "            )\n",
    "        return A\n",
    "\n",
    "    def quat2matrix(self, q):\n",
    "        q0, q1, q2, q3 = q\n",
    "        C = np.array(\n",
    "            [[1 - 2*(q2**2 + q3**2), 2*(q1*q2 - q0*q3), 2*(q1*q3 + q0*q2)]\n",
    "            ,[2*(q1*q2 + q0*q3), 1 - 2*(q1**2 + q3**2), 2*(q2*q3 - q0*q1)]\n",
    "            ,[2*(q1*q3 - q0*q2), 2*(q2*q3 + q0*q1), 1 - 2*(q1**2 + q2**2)]\n",
    "        ])\n",
    "        return C.reshape(3,3)\n",
    "    \n",
    "    def get_H(self, x):\n",
    "        C = self.quat2matrix(x[9:13])\n",
    "        H = np.zeros((6, 16))\n",
    "        H[0:3, 6:9] = C\n",
    "        H[3:6, 13:16] = C\n",
    "        return H\n",
    "\n",
    "    def predict(self):\n",
    "        self.A = self.get_A(self.x)\n",
    "        self.H = self.get_H(self.x)\n",
    "        self.xp = self.A\n",
    "        self.xp[5] -= self.dt\n",
    "        self.Pp = self.A @ self.P @ self.A.T + self.Q\n",
    "\n",
    "    def update(self, z):\n",
    "\n",
    "        z = np.array(z)\n",
    "        if z.ndim != 2 or z.shape[1] != 6:\n",
    "            raise ValueError(\n",
    "                '\"z\" shape error: '\n",
    "                'expected 2D array with 6 columns,'\n",
    "                f' got {z.shape} instead'\n",
    "            )\n",
    "\n",
    "        self.y = z - self.H @ self.xp\n",
    "        self.K = self.Pp @ self.H.T @ np.linalg.inv(\n",
    "            self.H @ self.Pp @ self.H.T + self.R)\n",
    "        self.x = self.xp + self.K @ (self.y)\n",
    "        self.P = (np.eye(16) - self.K @ self.H) @ self.Pp\n",
    "        return self.x\n",
    "\n",
    "# Example usage\n",
    "pvar, vvar, avar, qvar, wvar = 0.01, 0.01, 0.01, 0.01, 0.01\n",
    "testQ = np.diag([pvar]*3 + [vvar]*3 + [avar]*3 + [qvar]*4 + [wvar]*3)\n",
    "a_pitch_var, a_roll_var, a_yaw_var, w_pitch_var, w_roll_var, w_yaw_var = [\n",
    "    1, 1, 1, 1, 1, 1]\n",
    "testR = np.diag([a_pitch_var, a_roll_var, a_yaw_var, w_pitch_var,\n",
    "                 w_roll_var, w_yaw_var])\n",
    "testx = np.zeros(16)\n",
    "testx[9] = 1\n",
    "testx = testx.reshape(-1, 1)\n",
    "testP = np.diag([pvar]*3 + [vvar]*3 + [avar]*3 + [qvar]*4 + [wvar]*3)\n",
    "try:\n",
    "    KF6(dt=1., Q=testQ, R=testR, x_0=testx, P_0=testP)\n",
    "except ValueError as e:\n",
    "    print(e)"
   ]
  },
  {
   "cell_type": "code",
   "execution_count": 10,
   "metadata": {},
   "outputs": [
    {
     "data": {
      "text/plain": [
       "True"
      ]
     },
     "execution_count": 10,
     "metadata": {},
     "output_type": "execute_result"
    }
   ],
   "source": [
    "Qtest = np.diag([1.]*16)\n",
    "Qtest.shape == (16,16)"
   ]
  },
  {
   "cell_type": "markdown",
   "metadata": {},
   "source": [
    "Participant dropdown menu:"
   ]
  },
  {
   "cell_type": "code",
   "execution_count": 5,
   "metadata": {},
   "outputs": [
    {
     "data": {
      "application/vnd.jupyter.widget-view+json": {
       "model_id": "9b13299b4c2447ed80775c091bff9e69",
       "version_major": 2,
       "version_minor": 0
      },
      "text/plain": [
       "Dropdown(description='Participant:', options=('A05', 'C08', 'A02', 'C06', 'C07', 'A03', 'A04', 'C12', 'C15', '…"
      ]
     },
     "metadata": {},
     "output_type": "display_data"
    },
    {
     "data": {
      "application/vnd.jupyter.widget-view+json": {
       "model_id": "2d5d33e50f1a4732890895fb1e490ea7",
       "version_major": 2,
       "version_minor": 0
      },
      "text/plain": [
       "Dropdown(description='Trial:', options=('A05_Slow_04.csv', 'A05_Slow_03.csv', 'A05_Slow_02.csv', 'A05_Slow_01.…"
      ]
     },
     "metadata": {},
     "output_type": "display_data"
    },
    {
     "data": {
      "application/vnd.jupyter.widget-view+json": {
       "model_id": "233f3e99be26418ba41b7ee9d67cef43",
       "version_major": 2,
       "version_minor": 0
      },
      "text/plain": [
       "Output()"
      ]
     },
     "metadata": {},
     "output_type": "display_data"
    }
   ],
   "source": [
    "# Get the list of subdirectories\n",
    "participants = [d for d in os.listdir('trialData')]\n",
    "\n",
    "# Create the participant dropdown widget with subdirectories as options\n",
    "selected_participant = widgets.Dropdown(\n",
    "    options=participants,\n",
    "    value=participants[0] if participants else None,\n",
    "    description='Participant:',\n",
    "    disabled=False,\n",
    ")\n",
    "\n",
    "# Display the participant dropdown\n",
    "display(selected_participant)\n",
    "\n",
    "# Function to handle participant changes\n",
    "def on_participant_change(change):\n",
    "    if change['type'] == 'change' and change['name'] == 'value':\n",
    "        selected_participant = change['new']\n",
    "        # print(f'Selected participant: {selected_participant}')\n",
    "        \n",
    "        # Update the trial dropdown based on the selected participant\n",
    "        trials = [d for d in os.listdir(f'trialData/{selected_participant}')]\n",
    "        selected_trial.options = trials\n",
    "        selected_trial.value = trials[0] if trials else None\n",
    "\n",
    "# Attach the handler to the participant dropdown\n",
    "selected_participant.observe(on_participant_change, names='value')\n",
    "\n",
    "# Initial list of trials for the default participant\n",
    "trials = [d for d in os.listdir(f'trialData/{selected_participant.value}')]\n",
    "\n",
    "# Create the trial dropdown widget with subdirectories as options\n",
    "selected_trial = widgets.Dropdown(\n",
    "    options=trials,\n",
    "    value=trials[0] if trials else None,\n",
    "    description='Trial:',\n",
    "    disabled=False,\n",
    ")\n",
    "\n",
    "output = widgets.Output()\n",
    "# Display the trial dropdown\n",
    "display(selected_trial)\n",
    "display(output)\n",
    "\n",
    "# Function to handle trial changes\n",
    "def on_trial_change(change):\n",
    "    global eg_measurements\n",
    "    if change['type'] == 'change' and change['name'] == 'value':\n",
    "        with output:\n",
    "            clear_output(wait=True)\n",
    "            display(HTML(f'<b>Getting measurements from \"trialData/{selected_participant.value}/{change[\"new\"]}\":</b>'))\n",
    "            # print('\\n')\n",
    "            trial_path = f'trialData/{selected_participant.value}/{change[\"new\"]}'\n",
    "            eg_df = pd.read_csv(trial_path, index_col=0)\n",
    "            eg_imu = imuData('egIMU', eg_df, 4)\n",
    "            eg_measurements = eg_imu.measurements\n",
    "            display(eg_measurements)\n",
    "\n",
    "        # print(f'Participant: {selected_participant.value}    Trial: {selected_trial.value}', end='\\r')\n",
    "\n",
    "# Attach the handler to the trial dropdown\n",
    "selected_trial.observe(on_trial_change, names='value')"
   ]
  },
  {
   "cell_type": "code",
   "execution_count": 7,
   "metadata": {},
   "outputs": [
    {
     "name": "stdout",
     "output_type": "stream",
     "text": [
      "A05\n",
      "A05_Slow_03.csv\n"
     ]
    },
    {
     "data": {
      "text/html": [
       "<div>\n",
       "<style scoped>\n",
       "    .dataframe tbody tr th:only-of-type {\n",
       "        vertical-align: middle;\n",
       "    }\n",
       "\n",
       "    .dataframe tbody tr th {\n",
       "        vertical-align: top;\n",
       "    }\n",
       "\n",
       "    .dataframe thead th {\n",
       "        text-align: right;\n",
       "    }\n",
       "</style>\n",
       "<table border=\"1\" class=\"dataframe\">\n",
       "  <thead>\n",
       "    <tr style=\"text-align: right;\">\n",
       "      <th></th>\n",
       "      <th>a_pitch</th>\n",
       "      <th>a_roll</th>\n",
       "      <th>a_yaw</th>\n",
       "      <th>omega_pitch</th>\n",
       "      <th>omega_roll</th>\n",
       "      <th>omega_yaw</th>\n",
       "    </tr>\n",
       "  </thead>\n",
       "  <tbody>\n",
       "    <tr>\n",
       "      <th>0</th>\n",
       "      <td>0.125977</td>\n",
       "      <td>-0.982910</td>\n",
       "      <td>-0.168945</td>\n",
       "      <td>-45.182926</td>\n",
       "      <td>-2.987805</td>\n",
       "      <td>0.182927</td>\n",
       "    </tr>\n",
       "    <tr>\n",
       "      <th>1</th>\n",
       "      <td>0.125977</td>\n",
       "      <td>-0.982910</td>\n",
       "      <td>-0.168945</td>\n",
       "      <td>-45.182926</td>\n",
       "      <td>-2.987805</td>\n",
       "      <td>0.182927</td>\n",
       "    </tr>\n",
       "    <tr>\n",
       "      <th>2</th>\n",
       "      <td>0.125977</td>\n",
       "      <td>-0.982910</td>\n",
       "      <td>-0.168945</td>\n",
       "      <td>-45.182926</td>\n",
       "      <td>-2.987805</td>\n",
       "      <td>0.182927</td>\n",
       "    </tr>\n",
       "    <tr>\n",
       "      <th>3</th>\n",
       "      <td>0.125977</td>\n",
       "      <td>-0.982910</td>\n",
       "      <td>-0.168945</td>\n",
       "      <td>-45.182926</td>\n",
       "      <td>-2.987805</td>\n",
       "      <td>0.182927</td>\n",
       "    </tr>\n",
       "    <tr>\n",
       "      <th>4</th>\n",
       "      <td>0.115299</td>\n",
       "      <td>-0.984065</td>\n",
       "      <td>-0.167791</td>\n",
       "      <td>-45.218967</td>\n",
       "      <td>-0.104764</td>\n",
       "      <td>0.939725</td>\n",
       "    </tr>\n",
       "    <tr>\n",
       "      <th>...</th>\n",
       "      <td>...</td>\n",
       "      <td>...</td>\n",
       "      <td>...</td>\n",
       "      <td>...</td>\n",
       "      <td>...</td>\n",
       "      <td>...</td>\n",
       "    </tr>\n",
       "    <tr>\n",
       "      <th>11135</th>\n",
       "      <td>0.069336</td>\n",
       "      <td>-0.995605</td>\n",
       "      <td>-0.330078</td>\n",
       "      <td>-39.390244</td>\n",
       "      <td>-20.853659</td>\n",
       "      <td>19.756098</td>\n",
       "    </tr>\n",
       "    <tr>\n",
       "      <th>11136</th>\n",
       "      <td>0.069336</td>\n",
       "      <td>-0.995605</td>\n",
       "      <td>-0.330078</td>\n",
       "      <td>-39.390244</td>\n",
       "      <td>-20.853659</td>\n",
       "      <td>19.756098</td>\n",
       "    </tr>\n",
       "    <tr>\n",
       "      <th>11137</th>\n",
       "      <td>0.069336</td>\n",
       "      <td>-0.995605</td>\n",
       "      <td>-0.330078</td>\n",
       "      <td>-39.390244</td>\n",
       "      <td>-20.853659</td>\n",
       "      <td>19.756098</td>\n",
       "    </tr>\n",
       "    <tr>\n",
       "      <th>11138</th>\n",
       "      <td>0.069336</td>\n",
       "      <td>-0.995605</td>\n",
       "      <td>-0.330078</td>\n",
       "      <td>-39.390244</td>\n",
       "      <td>-20.853659</td>\n",
       "      <td>19.756098</td>\n",
       "    </tr>\n",
       "    <tr>\n",
       "      <th>11139</th>\n",
       "      <td>0.069336</td>\n",
       "      <td>-0.995605</td>\n",
       "      <td>-0.330078</td>\n",
       "      <td>-39.390244</td>\n",
       "      <td>-20.853659</td>\n",
       "      <td>19.756098</td>\n",
       "    </tr>\n",
       "  </tbody>\n",
       "</table>\n",
       "<p>11140 rows × 6 columns</p>\n",
       "</div>"
      ],
      "text/plain": [
       "        a_pitch    a_roll     a_yaw  omega_pitch  omega_roll  omega_yaw\n",
       "0      0.125977 -0.982910 -0.168945   -45.182926   -2.987805   0.182927\n",
       "1      0.125977 -0.982910 -0.168945   -45.182926   -2.987805   0.182927\n",
       "2      0.125977 -0.982910 -0.168945   -45.182926   -2.987805   0.182927\n",
       "3      0.125977 -0.982910 -0.168945   -45.182926   -2.987805   0.182927\n",
       "4      0.115299 -0.984065 -0.167791   -45.218967   -0.104764   0.939725\n",
       "...         ...       ...       ...          ...         ...        ...\n",
       "11135  0.069336 -0.995605 -0.330078   -39.390244  -20.853659  19.756098\n",
       "11136  0.069336 -0.995605 -0.330078   -39.390244  -20.853659  19.756098\n",
       "11137  0.069336 -0.995605 -0.330078   -39.390244  -20.853659  19.756098\n",
       "11138  0.069336 -0.995605 -0.330078   -39.390244  -20.853659  19.756098\n",
       "11139  0.069336 -0.995605 -0.330078   -39.390244  -20.853659  19.756098\n",
       "\n",
       "[11140 rows x 6 columns]"
      ]
     },
     "execution_count": 7,
     "metadata": {},
     "output_type": "execute_result"
    }
   ],
   "source": [
    "print(selected_participant.value)\n",
    "print(selected_trial.value)\n",
    "eg_measurements"
   ]
  },
  {
   "cell_type": "markdown",
   "metadata": {},
   "source": [
    "# /"
   ]
  },
  {
   "cell_type": "code",
   "execution_count": null,
   "metadata": {},
   "outputs": [
    {
     "data": {
      "application/vnd.jupyter.widget-view+json": {
       "model_id": "96b62c6d605e494c91a08c540922b693",
       "version_major": 2,
       "version_minor": 0
      },
      "text/plain": [
       "interactive(children=(IntSlider(value=10, description='x', max=30, min=-10), Output()), _dom_classes=('widget-…"
      ]
     },
     "metadata": {},
     "output_type": "display_data"
    },
    {
     "data": {
      "text/plain": [
       "<function __main__.my_function(x)>"
      ]
     },
     "execution_count": 30,
     "metadata": {},
     "output_type": "execute_result"
    }
   ],
   "source": [
    "from IPython.display import display\n",
    "from ipywidgets import interact\n",
    "\n",
    "# Define a function dependent on a variable\n",
    "def my_function(x):\n",
    "    print(f\"x is now: {x}\")\n",
    "\n",
    "# Create an interactive widget\n",
    "interact(my_function, x=10)\n"
   ]
  }
 ],
 "metadata": {
  "kernelspec": {
   "display_name": "note_env",
   "language": "python",
   "name": "python3"
  },
  "language_info": {
   "codemirror_mode": {
    "name": "ipython",
    "version": 3
   },
   "file_extension": ".py",
   "mimetype": "text/x-python",
   "name": "python",
   "nbconvert_exporter": "python",
   "pygments_lexer": "ipython3",
   "version": "3.12.7"
  }
 },
 "nbformat": 4,
 "nbformat_minor": 2
}
