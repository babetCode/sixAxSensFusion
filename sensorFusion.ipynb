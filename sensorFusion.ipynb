{
 "cells": [
  {
   "cell_type": "code",
   "execution_count": 6,
   "metadata": {},
   "outputs": [],
   "source": [
    "import math\n",
    "import numpy as np\n",
    "import pandas as pd\n",
    "import matplotlib.pyplot as plt\n",
    "import plotly.graph_objects as go\n",
    "import ipywidgets as widgets\n",
    "\n",
    "class ImuData:\n",
    "    def __init__(self, name, df, sensor_num):\n",
    "        self.name = name\n",
    "        self.indices = [row for row in df.index] # list of analog labels\n",
    "\n",
    "        self.start_row_index = self.indices.index(\n",
    "            'DelsysTrignoBase 1: Sensor '+str(sensor_num)+'IM ACC Pitch')\n",
    "\n",
    "        self.all_data = df.iloc[self.start_row_index : self.start_row_index+6]\n",
    "\n",
    "        acc_data = self.all_data.iloc[0:3]\n",
    "        self.a_local = acc_data.transpose()\n",
    "        self.a_local.columns.values[0:3] = ['a_pitch', 'a_roll', 'a_yaw']\n",
    "\n",
    "        sqrt_acc = np.square(self.a_local)\n",
    "        net_acc_sq = sqrt_acc.apply(np.sum, axis=1, raw=True)\n",
    "        self.net_acc = np.sqrt(net_acc_sq) # net acc for each frame\n",
    "\n",
    "        gyr_data = self.all_data.iloc[3:7]\n",
    "        self.omega_local = gyr_data.transpose()\n",
    "        self.omega_local.columns.values[0:3] = ['omega_pitch', 'omega_roll', 'omega_yaw']\n",
    "\n",
    "        self.measurements = self.a_local.join(self.omega_local)\n",
    "\n",
    "        self.frames = len(acc_data.columns)\n",
    "\n",
    "    def __str__(self):\n",
    "        return f\"ImuData object.\\nname:  '{self.name}'\\nframes: {self.frames}\""
   ]
  }
 ],
 "metadata": {
  "kernelspec": {
   "display_name": "note_env",
   "language": "python",
   "name": "python3"
  },
  "language_info": {
   "codemirror_mode": {
    "name": "ipython",
    "version": 3
   },
   "file_extension": ".py",
   "mimetype": "text/x-python",
   "name": "python",
   "nbconvert_exporter": "python",
   "pygments_lexer": "ipython3",
   "version": "3.12.7"
  }
 },
 "nbformat": 4,
 "nbformat_minor": 2
}
