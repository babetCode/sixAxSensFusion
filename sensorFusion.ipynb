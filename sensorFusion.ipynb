{
 "cells": [
  {
   "cell_type": "markdown",
   "metadata": {},
   "source": [
    "Import libraries:"
   ]
  },
  {
   "cell_type": "code",
   "execution_count": 35,
   "metadata": {},
   "outputs": [],
   "source": [
    "import math\n",
    "import numpy as np\n",
    "import pandas as pd\n",
    "import matplotlib.pyplot as plt\n",
    "import plotly.graph_objects as go\n",
    "import ipywidgets as widgets\n",
    "from IPython.display import display\n",
    "import os\n",
    "from IPython import get_ipython\n",
    "from IPython.display import clear_output\n",
    "import time"
   ]
  },
  {
   "cell_type": "markdown",
   "metadata": {},
   "source": [
    "Build imuData object:"
   ]
  },
  {
   "cell_type": "code",
   "execution_count": null,
   "metadata": {},
   "outputs": [],
   "source": [
    "class imuData:\n",
    "    def __init__(self, name, df, sensor_num):\n",
    "        self.name = name\n",
    "        self.indices = [row for row in df.index] # list of analog labels\n",
    "\n",
    "        self.start_row_index = self.indices.index(\n",
    "            'DelsysTrignoBase 1: Sensor '+str(sensor_num)+'IM ACC Pitch')\n",
    "\n",
    "        self.all_data = df.iloc[self.start_row_index : self.start_row_index+6]\n",
    "\n",
    "        acc_data = self.all_data.iloc[0:3]\n",
    "        self.a_local = acc_data.transpose()\n",
    "        self.a_local.columns.values[0:3] = ['a_pitch', 'a_roll', 'a_yaw']\n",
    "\n",
    "        sqrt_acc = np.square(self.a_local)\n",
    "        net_acc_sq = sqrt_acc.apply(np.sum, axis=1, raw=True)\n",
    "        self.net_acc = np.sqrt(net_acc_sq) # net acc for each frame\n",
    "\n",
    "        gyr_data = self.all_data.iloc[3:7]\n",
    "        self.omega_local = gyr_data.transpose()\n",
    "        self.omega_local.columns.values[0:3] = ['omega_pitch', 'omega_roll', 'omega_yaw']\n",
    "\n",
    "        self.measurements = self.a_local.join(self.omega_local)\n",
    "\n",
    "        self.frames = len(acc_data.columns)\n",
    "\n",
    "    def __str__(self):\n",
    "        return f\"ImuData object.\\nname:  '{self.name}'\\nframes: {self.frames}\""
   ]
  },
  {
   "cell_type": "markdown",
   "metadata": {},
   "source": [
    "Participant dropdown menu:"
   ]
  },
  {
   "cell_type": "code",
   "execution_count": 46,
   "metadata": {},
   "outputs": [
    {
     "data": {
      "application/vnd.jupyter.widget-view+json": {
       "model_id": "5947e0d06397463fa1da31ed772c0d03",
       "version_major": 2,
       "version_minor": 0
      },
      "text/plain": [
       "Dropdown(description='Participant:', options=('A01', 'A02', 'A03', 'A04', 'A05', 'A06', 'C03', 'C04', 'C05', '…"
      ]
     },
     "metadata": {},
     "output_type": "display_data"
    },
    {
     "data": {
      "application/vnd.jupyter.widget-view+json": {
       "model_id": "9b413df65de34cae9cb3d57a4f73d773",
       "version_major": 2,
       "version_minor": 0
      },
      "text/plain": [
       "Dropdown(description='Trial:', options=('A01_Fast_01.csv', 'A01_Fast_02.csv', 'A01_Fast_03.csv', 'A01_Fast_04.…"
      ]
     },
     "metadata": {},
     "output_type": "display_data"
    }
   ],
   "source": [
    "# Get the list of subdirectories\n",
    "participants = [d for d in os.listdir('trialData')]\n",
    "\n",
    "# Create the participant dropdown widget with subdirectories as options\n",
    "par_menu = widgets.Dropdown(\n",
    "    options=participants,\n",
    "    value=participants[0] if participants else None,\n",
    "    description='Participant:',\n",
    "    disabled=False,\n",
    ")\n",
    "\n",
    "# Display the participant dropdown\n",
    "display(par_menu)\n",
    "\n",
    "# Function to handle participant changes\n",
    "def on_participant_change(change):\n",
    "    if change['type'] == 'change' and change['name'] == 'value':\n",
    "        selected_participant = change['new']\n",
    "        # print(f'Selected participant: {selected_participant}')\n",
    "        \n",
    "        # Update the trial dropdown based on the selected participant\n",
    "        trials = [d for d in os.listdir(f'trialData/{selected_participant}')]\n",
    "        trial_menu.options = trials\n",
    "        trial_menu.value = trials[0] if trials else None\n",
    "\n",
    "# Attach the handler to the participant dropdown\n",
    "par_menu.observe(on_participant_change, names='value')\n",
    "\n",
    "# Initial list of trials for the default participant\n",
    "trials = [d for d in os.listdir(f'trialData/{par_menu.value}')]\n",
    "\n",
    "# Create the trial dropdown widget with subdirectories as options\n",
    "trial_menu = widgets.Dropdown(\n",
    "    options=trials,\n",
    "    value=trials[0] if trials else None,\n",
    "    description='Trial:',\n",
    "    disabled=False,\n",
    ")\n",
    "\n",
    "output = widgets.Output()\n",
    "# Display the trial dropdown\n",
    "display(trial_menu)\n",
    "\n",
    "# Function to handle trial changes\n",
    "def on_trial_change(change):\n",
    "    if change['type'] == 'change' and change['name'] == 'value':\n",
    "        \n",
    "        with output:\n",
    "            clear_output()\n",
    "            print(f'Participant: {par_menu.value}    Trial: {change[\"new\"]}')\n",
    "        # print(f'Participant: {par_menu.value}    Trial: {trial_menu.value}', end='\\r')\n",
    "\n",
    "# Attach the handler to the trial dropdown\n",
    "trial_menu.observe(on_trial_change, names='value')\n",
    "\n",
    "# my_trial = f'trialData/{par_menu.value}/{trial_menu.value}'\n",
    "# my_trial"
   ]
  },
  {
   "cell_type": "code",
   "execution_count": 36,
   "metadata": {},
   "outputs": [
    {
     "data": {
      "application/vnd.jupyter.widget-view+json": {
       "model_id": "7b203ec2913a490d91647ba8a928c455",
       "version_major": 2,
       "version_minor": 0
      },
      "text/plain": [
       "Button(description='Click Me', style=ButtonStyle())"
      ]
     },
     "metadata": {},
     "output_type": "display_data"
    },
    {
     "data": {
      "application/vnd.jupyter.widget-view+json": {
       "model_id": "3adf6fc372044ef697c97ac78117ec17",
       "version_major": 2,
       "version_minor": 0
      },
      "text/plain": [
       "Output()"
      ]
     },
     "metadata": {},
     "output_type": "display_data"
    }
   ],
   "source": [
    "import ipywidgets as widgets\n",
    "from IPython.display import display, clear_output\n",
    "import time\n",
    "\n",
    "# Create a widget\n",
    "button = widgets.Button(description=\"Click Me\")\n",
    "display(button)\n",
    "\n",
    "# Create an output widget\n",
    "output = widgets.Output()\n",
    "display(output)\n",
    "\n",
    "# Function to update print output\n",
    "def update_output():\n",
    "    for i in range(10):\n",
    "        with output:\n",
    "            clear_output(wait=True)\n",
    "            print(f'Count: {i}')\n",
    "        time.sleep(1)\n",
    "\n",
    "# Call the function to update output\n",
    "update_output()"
   ]
  }
 ],
 "metadata": {
  "kernelspec": {
   "display_name": "note_env",
   "language": "python",
   "name": "python3"
  },
  "language_info": {
   "codemirror_mode": {
    "name": "ipython",
    "version": 3
   },
   "file_extension": ".py",
   "mimetype": "text/x-python",
   "name": "python",
   "nbconvert_exporter": "python",
   "pygments_lexer": "ipython3",
   "version": "3.12.7"
  }
 },
 "nbformat": 4,
 "nbformat_minor": 2
}
