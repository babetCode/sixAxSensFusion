{
 "cells": [
  {
   "cell_type": "markdown",
   "metadata": {},
   "source": [
    "Import libraries:"
   ]
  },
  {
   "cell_type": "code",
   "execution_count": 33,
   "metadata": {},
   "outputs": [],
   "source": [
    "import math\n",
    "import numpy as np\n",
    "import pandas as pd\n",
    "import matplotlib.pyplot as plt\n",
    "import plotly.graph_objects as go\n",
    "import ipywidgets as widgets\n",
    "from IPython.display import display\n",
    "import os\n",
    "from IPython import get_ipython\n",
    "from IPython.display import clear_output\n",
    "from IPython.display import HTML\n",
    "import time"
   ]
  },
  {
   "cell_type": "markdown",
   "metadata": {},
   "source": [
    "Build imuData object:"
   ]
  },
  {
   "cell_type": "code",
   "execution_count": 6,
   "metadata": {},
   "outputs": [],
   "source": [
    "class imuData:\n",
    "    def __init__(self, name, df, sensor_num):\n",
    "        self.name = name\n",
    "        self.indices = [row for row in df.index] # list of analog labels\n",
    "\n",
    "        self.start_row_index = self.indices.index(\n",
    "            'DelsysTrignoBase 1: Sensor '+str(sensor_num)+'IM ACC Pitch')\n",
    "\n",
    "        self.all_data = df.iloc[self.start_row_index : self.start_row_index+6]\n",
    "\n",
    "        acc_data = self.all_data.iloc[0:3]\n",
    "        self.a_local = acc_data.transpose()\n",
    "        self.a_local.columns.values[0:3] = ['a_pitch', 'a_roll', 'a_yaw']\n",
    "\n",
    "        sqrt_acc = np.square(self.a_local)\n",
    "        net_acc_sq = sqrt_acc.apply(np.sum, axis=1, raw=True)\n",
    "        self.net_acc = np.sqrt(net_acc_sq) # net acc for each frame\n",
    "\n",
    "        gyr_data = self.all_data.iloc[3:7]\n",
    "        self.omega_local = gyr_data.transpose()\n",
    "        self.omega_local.columns.values[0:3] = ['omega_pitch', 'omega_roll', 'omega_yaw']\n",
    "\n",
    "        self.measurements = self.a_local.join(self.omega_local)\n",
    "\n",
    "        self.frames = len(acc_data.columns)\n",
    "\n",
    "    def __str__(self):\n",
    "        return f\"ImuData object.\\nname:  '{self.name}'\\nframes: {self.frames}\""
   ]
  },
  {
   "cell_type": "markdown",
   "metadata": {},
   "source": [
    "Participant dropdown menu:"
   ]
  },
  {
   "cell_type": "code",
   "execution_count": 38,
   "metadata": {},
   "outputs": [
    {
     "data": {
      "application/vnd.jupyter.widget-view+json": {
       "model_id": "8845eff0a0f7435290dc91b5591b4bab",
       "version_major": 2,
       "version_minor": 0
      },
      "text/plain": [
       "Dropdown(description='Participant:', options=('A05', 'C08', 'A02', 'C06', 'C07', 'A03', 'A04', 'C12', 'C15', '…"
      ]
     },
     "metadata": {},
     "output_type": "display_data"
    },
    {
     "data": {
      "application/vnd.jupyter.widget-view+json": {
       "model_id": "a68bebd4ad3b4d3887c5e9b1cfc8a303",
       "version_major": 2,
       "version_minor": 0
      },
      "text/plain": [
       "Dropdown(description='Trial:', options=('A05_Slow_04.csv', 'A05_Slow_03.csv', 'A05_Slow_02.csv', 'A05_Slow_01.…"
      ]
     },
     "metadata": {},
     "output_type": "display_data"
    },
    {
     "data": {
      "application/vnd.jupyter.widget-view+json": {
       "model_id": "a8472b44dab24670b10ba6109aba69ce",
       "version_major": 2,
       "version_minor": 0
      },
      "text/plain": [
       "Output()"
      ]
     },
     "metadata": {},
     "output_type": "display_data"
    }
   ],
   "source": [
    "# Get the list of subdirectories\n",
    "participants = [d for d in os.listdir('trialData')]\n",
    "\n",
    "# Create the participant dropdown widget with subdirectories as options\n",
    "selected_participant = widgets.Dropdown(\n",
    "    options=participants,\n",
    "    value=participants[0] if participants else None,\n",
    "    description='Participant:',\n",
    "    disabled=False,\n",
    ")\n",
    "\n",
    "# Display the participant dropdown\n",
    "display(selected_participant)\n",
    "\n",
    "# Function to handle participant changes\n",
    "def on_participant_change(change):\n",
    "    if change['type'] == 'change' and change['name'] == 'value':\n",
    "        selected_participant = change['new']\n",
    "        # print(f'Selected participant: {selected_participant}')\n",
    "        \n",
    "        # Update the trial dropdown based on the selected participant\n",
    "        trials = [d for d in os.listdir(f'trialData/{selected_participant}')]\n",
    "        selected_trial.options = trials\n",
    "        selected_trial.value = trials[0] if trials else None\n",
    "\n",
    "# Attach the handler to the participant dropdown\n",
    "selected_participant.observe(on_participant_change, names='value')\n",
    "\n",
    "# Initial list of trials for the default participant\n",
    "trials = [d for d in os.listdir(f'trialData/{selected_participant.value}')]\n",
    "\n",
    "# Create the trial dropdown widget with subdirectories as options\n",
    "selected_trial = widgets.Dropdown(\n",
    "    options=trials,\n",
    "    value=trials[0] if trials else None,\n",
    "    description='Trial:',\n",
    "    disabled=False,\n",
    ")\n",
    "\n",
    "output = widgets.Output()\n",
    "# Display the trial dropdown\n",
    "display(selected_trial)\n",
    "display(output)\n",
    "\n",
    "# Function to handle trial changes\n",
    "def on_trial_change(change):\n",
    "    global eg_measurements\n",
    "    if change['type'] == 'change' and change['name'] == 'value':\n",
    "        with output:\n",
    "            clear_output(wait=True)\n",
    "            display(HTML(f'<b>Getting measurements from \"trialData/{selected_participant.value}/{change[\"new\"]}\":</b>'))\n",
    "            # print('\\n')\n",
    "            trial_path = f'trialData/{selected_participant.value}/{change[\"new\"]}'\n",
    "            eg_df = pd.read_csv(trial_path, index_col=0)\n",
    "            eg_imu = imuData('egIMU', eg_df, 4)\n",
    "            eg_measurements = eg_imu.measurements\n",
    "            display(eg_measurements)\n",
    "\n",
    "        # print(f'Participant: {selected_participant.value}    Trial: {selected_trial.value}', end='\\r')\n",
    "\n",
    "# Attach the handler to the trial dropdown\n",
    "selected_trial.observe(on_trial_change, names='value')"
   ]
  },
  {
   "cell_type": "code",
   "execution_count": null,
   "metadata": {},
   "outputs": [
    {
     "name": "stdout",
     "output_type": "stream",
     "text": [
      "A05\n",
      "A05_Slow_02.csv\n"
     ]
    },
    {
     "data": {
      "text/html": [
       "<div>\n",
       "<style scoped>\n",
       "    .dataframe tbody tr th:only-of-type {\n",
       "        vertical-align: middle;\n",
       "    }\n",
       "\n",
       "    .dataframe tbody tr th {\n",
       "        vertical-align: top;\n",
       "    }\n",
       "\n",
       "    .dataframe thead th {\n",
       "        text-align: right;\n",
       "    }\n",
       "</style>\n",
       "<table border=\"1\" class=\"dataframe\">\n",
       "  <thead>\n",
       "    <tr style=\"text-align: right;\">\n",
       "      <th></th>\n",
       "      <th>a_pitch</th>\n",
       "      <th>a_roll</th>\n",
       "      <th>a_yaw</th>\n",
       "      <th>omega_pitch</th>\n",
       "      <th>omega_roll</th>\n",
       "      <th>omega_yaw</th>\n",
       "    </tr>\n",
       "  </thead>\n",
       "  <tbody>\n",
       "    <tr>\n",
       "      <th>0</th>\n",
       "      <td>-0.013672</td>\n",
       "      <td>-0.988770</td>\n",
       "      <td>-0.205566</td>\n",
       "      <td>-2.621951</td>\n",
       "      <td>9.512196</td>\n",
       "      <td>-0.731707</td>\n",
       "    </tr>\n",
       "    <tr>\n",
       "      <th>1</th>\n",
       "      <td>-0.013672</td>\n",
       "      <td>-0.988770</td>\n",
       "      <td>-0.205566</td>\n",
       "      <td>-2.621951</td>\n",
       "      <td>9.512196</td>\n",
       "      <td>-0.731707</td>\n",
       "    </tr>\n",
       "    <tr>\n",
       "      <th>2</th>\n",
       "      <td>-0.013672</td>\n",
       "      <td>-0.988770</td>\n",
       "      <td>-0.205566</td>\n",
       "      <td>-2.621951</td>\n",
       "      <td>9.512196</td>\n",
       "      <td>-0.731707</td>\n",
       "    </tr>\n",
       "    <tr>\n",
       "      <th>3</th>\n",
       "      <td>-0.013672</td>\n",
       "      <td>-0.988770</td>\n",
       "      <td>-0.205566</td>\n",
       "      <td>-2.621951</td>\n",
       "      <td>9.512196</td>\n",
       "      <td>-0.731707</td>\n",
       "    </tr>\n",
       "    <tr>\n",
       "      <th>4</th>\n",
       "      <td>-0.015982</td>\n",
       "      <td>-0.988481</td>\n",
       "      <td>-0.206144</td>\n",
       "      <td>-2.658012</td>\n",
       "      <td>9.440075</td>\n",
       "      <td>-0.803828</td>\n",
       "    </tr>\n",
       "    <tr>\n",
       "      <th>...</th>\n",
       "      <td>...</td>\n",
       "      <td>...</td>\n",
       "      <td>...</td>\n",
       "      <td>...</td>\n",
       "      <td>...</td>\n",
       "      <td>...</td>\n",
       "    </tr>\n",
       "    <tr>\n",
       "      <th>14307</th>\n",
       "      <td>0.050781</td>\n",
       "      <td>-1.214844</td>\n",
       "      <td>-0.357910</td>\n",
       "      <td>-36.829269</td>\n",
       "      <td>-2.439024</td>\n",
       "      <td>27.987806</td>\n",
       "    </tr>\n",
       "    <tr>\n",
       "      <th>14308</th>\n",
       "      <td>0.050781</td>\n",
       "      <td>-1.214844</td>\n",
       "      <td>-0.357910</td>\n",
       "      <td>-36.829269</td>\n",
       "      <td>-2.439024</td>\n",
       "      <td>27.987806</td>\n",
       "    </tr>\n",
       "    <tr>\n",
       "      <th>14309</th>\n",
       "      <td>0.050781</td>\n",
       "      <td>-1.214844</td>\n",
       "      <td>-0.357910</td>\n",
       "      <td>-36.829269</td>\n",
       "      <td>-2.439024</td>\n",
       "      <td>27.987806</td>\n",
       "    </tr>\n",
       "    <tr>\n",
       "      <th>14310</th>\n",
       "      <td>0.050781</td>\n",
       "      <td>-1.214844</td>\n",
       "      <td>-0.357910</td>\n",
       "      <td>-36.829269</td>\n",
       "      <td>-2.439024</td>\n",
       "      <td>27.987806</td>\n",
       "    </tr>\n",
       "    <tr>\n",
       "      <th>14311</th>\n",
       "      <td>0.050781</td>\n",
       "      <td>-1.214844</td>\n",
       "      <td>-0.357910</td>\n",
       "      <td>-36.829269</td>\n",
       "      <td>-2.439024</td>\n",
       "      <td>27.987806</td>\n",
       "    </tr>\n",
       "  </tbody>\n",
       "</table>\n",
       "<p>14312 rows × 6 columns</p>\n",
       "</div>"
      ],
      "text/plain": [
       "        a_pitch    a_roll     a_yaw  omega_pitch  omega_roll  omega_yaw\n",
       "0     -0.013672 -0.988770 -0.205566    -2.621951    9.512196  -0.731707\n",
       "1     -0.013672 -0.988770 -0.205566    -2.621951    9.512196  -0.731707\n",
       "2     -0.013672 -0.988770 -0.205566    -2.621951    9.512196  -0.731707\n",
       "3     -0.013672 -0.988770 -0.205566    -2.621951    9.512196  -0.731707\n",
       "4     -0.015982 -0.988481 -0.206144    -2.658012    9.440075  -0.803828\n",
       "...         ...       ...       ...          ...         ...        ...\n",
       "14307  0.050781 -1.214844 -0.357910   -36.829269   -2.439024  27.987806\n",
       "14308  0.050781 -1.214844 -0.357910   -36.829269   -2.439024  27.987806\n",
       "14309  0.050781 -1.214844 -0.357910   -36.829269   -2.439024  27.987806\n",
       "14310  0.050781 -1.214844 -0.357910   -36.829269   -2.439024  27.987806\n",
       "14311  0.050781 -1.214844 -0.357910   -36.829269   -2.439024  27.987806\n",
       "\n",
       "[14312 rows x 6 columns]"
      ]
     },
     "execution_count": 29,
     "metadata": {},
     "output_type": "execute_result"
    }
   ],
   "source": [
    "print(selected_participant.value)\n",
    "print(selected_trial.value)\n",
    "eg_measurements"
   ]
  },
  {
   "cell_type": "markdown",
   "metadata": {},
   "source": [
    "# /"
   ]
  },
  {
   "cell_type": "code",
   "execution_count": 30,
   "metadata": {},
   "outputs": [
    {
     "data": {
      "application/vnd.jupyter.widget-view+json": {
       "model_id": "96b62c6d605e494c91a08c540922b693",
       "version_major": 2,
       "version_minor": 0
      },
      "text/plain": [
       "interactive(children=(IntSlider(value=10, description='x', max=30, min=-10), Output()), _dom_classes=('widget-…"
      ]
     },
     "metadata": {},
     "output_type": "display_data"
    },
    {
     "data": {
      "text/plain": [
       "<function __main__.my_function(x)>"
      ]
     },
     "execution_count": 30,
     "metadata": {},
     "output_type": "execute_result"
    }
   ],
   "source": [
    "from IPython.display import display\n",
    "from ipywidgets import interact\n",
    "\n",
    "# Define a function dependent on a variable\n",
    "def my_function(x):\n",
    "    print(f\"x is now: {x}\")\n",
    "\n",
    "# Create an interactive widget\n",
    "interact(my_function, x=10)\n"
   ]
  }
 ],
 "metadata": {
  "kernelspec": {
   "display_name": "note_env",
   "language": "python",
   "name": "python3"
  },
  "language_info": {
   "codemirror_mode": {
    "name": "ipython",
    "version": 3
   },
   "file_extension": ".py",
   "mimetype": "text/x-python",
   "name": "python",
   "nbconvert_exporter": "python",
   "pygments_lexer": "ipython3",
   "version": "3.12.3"
  }
 },
 "nbformat": 4,
 "nbformat_minor": 2
}
